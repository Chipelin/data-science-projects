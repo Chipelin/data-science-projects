{
 "cells": [
  {
   "cell_type": "code",
   "execution_count": null,
   "id": "831e1205",
   "metadata": {},
   "outputs": [],
   "source": []
  },
  {
   "cell_type": "markdown",
   "id": "54df7b5d",
   "metadata": {},
   "source": [
    "### Магазин \"Стримчик\". разработка принципов прогнозирования успешности продуктов."
   ]
  },
  {
   "cell_type": "markdown",
   "id": "7158feaa",
   "metadata": {},
   "source": [
    "### Описание проекта"
   ]
  },
  {
   "cell_type": "markdown",
   "id": "cc5fe79a",
   "metadata": {},
   "source": [
    "Интернет-магазине «Стримчик», продаёт по всему миру компьютерные игры. Из открытых источников доступны исторические данные о продажах игр, оценки пользователей и экспертов, жанры и платформы (например, Xbox или PlayStation). Нужно выявить определяющие успешность игры закономерности. Это позволит сделать ставку на потенциально популярный продукт и спланировать рекламные кампании.\n",
    "\n",
    "Перед нами данные до 2016 года. Представим, что сейчас декабрь 2016 г. Нужно отработать принцип работы с данными. Неважно, прогнозируете ли вы продажи на 2017 год по данным 2016-го или же 2027-й — по данным 2026 года."
   ]
  },
  {
   "cell_type": "markdown",
   "id": "b4a1031c",
   "metadata": {},
   "source": [
    "**Цель исследования**\n",
    "\n",
    "Разработать принцип работы с данными, позволяющий выявить успешность продукта, чтобы в дальнейшем делать ставку на более успешный продукт и планировать соответствующие рекламные кампании."
   ]
  },
  {
   "cell_type": "markdown",
   "id": "181bdfde",
   "metadata": {},
   "source": [
    "#### Описание данных"
   ]
  },
  {
   "cell_type": "markdown",
   "id": "193b68c6",
   "metadata": {},
   "source": [
    "    Name — название игры\n",
    "    Platform — платформа\n",
    "    Year_of_Release — год выпуска\n",
    "    Genre — жанр игры\n",
    "    NA_sales — продажи в Северной Америке (миллионы проданных копий)\n",
    "    EU_sales — продажи в Европе (миллионы проданных копий)\n",
    "    JP_sales — продажи в Японии (миллионы проданных копий)\n",
    "    Other_sales — продажи в других странах (миллионы проданных копий)\n",
    "    Critic_Score — оценка критиков (максимум 100)\n",
    "    User_Score — оценка пользователей (максимум 10)\n",
    "    Rating — рейтинг от организации ESRB (англ. Entertainment Software Rating Board). Эта ассоциация определяет рейтинг компьютерных игр и присваивает им подходящую возрастную категорию.\n",
    "  \n",
    "Данные за 2016 год могут быть неполными.  \n",
    "    "
   ]
  },
  {
   "cell_type": "markdown",
   "id": "97d5bdb7",
   "metadata": {},
   "source": [
    "### Изучение общей информации"
   ]
  },
  {
   "cell_type": "markdown",
   "id": "13882864",
   "metadata": {},
   "source": [
    "#### Импортируем библиотеки"
   ]
  },
  {
   "cell_type": "code",
   "execution_count": 1,
   "id": "5fdd5bf9",
   "metadata": {},
   "outputs": [],
   "source": [
    "import pandas as pd\n",
    "import seaborn as sns\n",
    "from matplotlib import pyplot as plt\n",
    "import numpy as np\n",
    "from scipy import stats as st\n",
    "\n"
   ]
  },
  {
   "cell_type": "markdown",
   "id": "31768f29",
   "metadata": {},
   "source": [
    "#### Получаем общую информацию о данных"
   ]
  },
  {
   "cell_type": "code",
   "execution_count": 2,
   "id": "bbf846de",
   "metadata": {},
   "outputs": [],
   "source": [
    "try:\n",
    "    data = pd.read_csv('/datasets/games.csv')\n",
    "except:\n",
    "    data = pd.read_csv('https://code.s3.yandex.net/datasets/games.csv')"
   ]
  },
  {
   "cell_type": "code",
   "execution_count": 3,
   "id": "b3622be8",
   "metadata": {},
   "outputs": [
    {
     "data": {
      "text/html": [
       "<div>\n",
       "<style scoped>\n",
       "    .dataframe tbody tr th:only-of-type {\n",
       "        vertical-align: middle;\n",
       "    }\n",
       "\n",
       "    .dataframe tbody tr th {\n",
       "        vertical-align: top;\n",
       "    }\n",
       "\n",
       "    .dataframe thead th {\n",
       "        text-align: right;\n",
       "    }\n",
       "</style>\n",
       "<table border=\"1\" class=\"dataframe\">\n",
       "  <thead>\n",
       "    <tr style=\"text-align: right;\">\n",
       "      <th></th>\n",
       "      <th>Name</th>\n",
       "      <th>Platform</th>\n",
       "      <th>Year_of_Release</th>\n",
       "      <th>Genre</th>\n",
       "      <th>NA_sales</th>\n",
       "      <th>EU_sales</th>\n",
       "      <th>JP_sales</th>\n",
       "      <th>Other_sales</th>\n",
       "      <th>Critic_Score</th>\n",
       "      <th>User_Score</th>\n",
       "      <th>Rating</th>\n",
       "    </tr>\n",
       "  </thead>\n",
       "  <tbody>\n",
       "    <tr>\n",
       "      <th>0</th>\n",
       "      <td>Wii Sports</td>\n",
       "      <td>Wii</td>\n",
       "      <td>2006.0</td>\n",
       "      <td>Sports</td>\n",
       "      <td>41.36</td>\n",
       "      <td>28.96</td>\n",
       "      <td>3.77</td>\n",
       "      <td>8.45</td>\n",
       "      <td>76.0</td>\n",
       "      <td>8</td>\n",
       "      <td>E</td>\n",
       "    </tr>\n",
       "    <tr>\n",
       "      <th>1</th>\n",
       "      <td>Super Mario Bros.</td>\n",
       "      <td>NES</td>\n",
       "      <td>1985.0</td>\n",
       "      <td>Platform</td>\n",
       "      <td>29.08</td>\n",
       "      <td>3.58</td>\n",
       "      <td>6.81</td>\n",
       "      <td>0.77</td>\n",
       "      <td>NaN</td>\n",
       "      <td>NaN</td>\n",
       "      <td>NaN</td>\n",
       "    </tr>\n",
       "    <tr>\n",
       "      <th>2</th>\n",
       "      <td>Mario Kart Wii</td>\n",
       "      <td>Wii</td>\n",
       "      <td>2008.0</td>\n",
       "      <td>Racing</td>\n",
       "      <td>15.68</td>\n",
       "      <td>12.76</td>\n",
       "      <td>3.79</td>\n",
       "      <td>3.29</td>\n",
       "      <td>82.0</td>\n",
       "      <td>8.3</td>\n",
       "      <td>E</td>\n",
       "    </tr>\n",
       "    <tr>\n",
       "      <th>3</th>\n",
       "      <td>Wii Sports Resort</td>\n",
       "      <td>Wii</td>\n",
       "      <td>2009.0</td>\n",
       "      <td>Sports</td>\n",
       "      <td>15.61</td>\n",
       "      <td>10.93</td>\n",
       "      <td>3.28</td>\n",
       "      <td>2.95</td>\n",
       "      <td>80.0</td>\n",
       "      <td>8</td>\n",
       "      <td>E</td>\n",
       "    </tr>\n",
       "    <tr>\n",
       "      <th>4</th>\n",
       "      <td>Pokemon Red/Pokemon Blue</td>\n",
       "      <td>GB</td>\n",
       "      <td>1996.0</td>\n",
       "      <td>Role-Playing</td>\n",
       "      <td>11.27</td>\n",
       "      <td>8.89</td>\n",
       "      <td>10.22</td>\n",
       "      <td>1.00</td>\n",
       "      <td>NaN</td>\n",
       "      <td>NaN</td>\n",
       "      <td>NaN</td>\n",
       "    </tr>\n",
       "  </tbody>\n",
       "</table>\n",
       "</div>"
      ],
      "text/plain": [
       "                       Name Platform  Year_of_Release         Genre  NA_sales  \\\n",
       "0                Wii Sports      Wii           2006.0        Sports     41.36   \n",
       "1         Super Mario Bros.      NES           1985.0      Platform     29.08   \n",
       "2            Mario Kart Wii      Wii           2008.0        Racing     15.68   \n",
       "3         Wii Sports Resort      Wii           2009.0        Sports     15.61   \n",
       "4  Pokemon Red/Pokemon Blue       GB           1996.0  Role-Playing     11.27   \n",
       "\n",
       "   EU_sales  JP_sales  Other_sales  Critic_Score User_Score Rating  \n",
       "0     28.96      3.77         8.45          76.0          8      E  \n",
       "1      3.58      6.81         0.77           NaN        NaN    NaN  \n",
       "2     12.76      3.79         3.29          82.0        8.3      E  \n",
       "3     10.93      3.28         2.95          80.0          8      E  \n",
       "4      8.89     10.22         1.00           NaN        NaN    NaN  "
      ]
     },
     "execution_count": 3,
     "metadata": {},
     "output_type": "execute_result"
    }
   ],
   "source": [
    "data.head()"
   ]
  },
  {
   "cell_type": "code",
   "execution_count": 4,
   "id": "e5ee923f",
   "metadata": {},
   "outputs": [
    {
     "name": "stdout",
     "output_type": "stream",
     "text": [
      "<class 'pandas.core.frame.DataFrame'>\n",
      "RangeIndex: 16715 entries, 0 to 16714\n",
      "Data columns (total 11 columns):\n",
      " #   Column           Non-Null Count  Dtype  \n",
      "---  ------           --------------  -----  \n",
      " 0   Name             16713 non-null  object \n",
      " 1   Platform         16715 non-null  object \n",
      " 2   Year_of_Release  16446 non-null  float64\n",
      " 3   Genre            16713 non-null  object \n",
      " 4   NA_sales         16715 non-null  float64\n",
      " 5   EU_sales         16715 non-null  float64\n",
      " 6   JP_sales         16715 non-null  float64\n",
      " 7   Other_sales      16715 non-null  float64\n",
      " 8   Critic_Score     8137 non-null   float64\n",
      " 9   User_Score       10014 non-null  object \n",
      " 10  Rating           9949 non-null   object \n",
      "dtypes: float64(6), object(5)\n",
      "memory usage: 1.4+ MB\n"
     ]
    }
   ],
   "source": [
    "data.info()"
   ]
  },
  {
   "cell_type": "code",
   "execution_count": 5,
   "id": "61db6084",
   "metadata": {},
   "outputs": [
    {
     "data": {
      "text/html": [
       "<div>\n",
       "<style scoped>\n",
       "    .dataframe tbody tr th:only-of-type {\n",
       "        vertical-align: middle;\n",
       "    }\n",
       "\n",
       "    .dataframe tbody tr th {\n",
       "        vertical-align: top;\n",
       "    }\n",
       "\n",
       "    .dataframe thead th {\n",
       "        text-align: right;\n",
       "    }\n",
       "</style>\n",
       "<table border=\"1\" class=\"dataframe\">\n",
       "  <thead>\n",
       "    <tr style=\"text-align: right;\">\n",
       "      <th></th>\n",
       "      <th>Year_of_Release</th>\n",
       "      <th>NA_sales</th>\n",
       "      <th>EU_sales</th>\n",
       "      <th>JP_sales</th>\n",
       "      <th>Other_sales</th>\n",
       "      <th>Critic_Score</th>\n",
       "    </tr>\n",
       "  </thead>\n",
       "  <tbody>\n",
       "    <tr>\n",
       "      <th>count</th>\n",
       "      <td>16446.000000</td>\n",
       "      <td>16715.000000</td>\n",
       "      <td>16715.000000</td>\n",
       "      <td>16715.000000</td>\n",
       "      <td>16715.000000</td>\n",
       "      <td>8137.000000</td>\n",
       "    </tr>\n",
       "    <tr>\n",
       "      <th>mean</th>\n",
       "      <td>2006.484616</td>\n",
       "      <td>0.263377</td>\n",
       "      <td>0.145060</td>\n",
       "      <td>0.077617</td>\n",
       "      <td>0.047342</td>\n",
       "      <td>68.967679</td>\n",
       "    </tr>\n",
       "    <tr>\n",
       "      <th>std</th>\n",
       "      <td>5.877050</td>\n",
       "      <td>0.813604</td>\n",
       "      <td>0.503339</td>\n",
       "      <td>0.308853</td>\n",
       "      <td>0.186731</td>\n",
       "      <td>13.938165</td>\n",
       "    </tr>\n",
       "    <tr>\n",
       "      <th>min</th>\n",
       "      <td>1980.000000</td>\n",
       "      <td>0.000000</td>\n",
       "      <td>0.000000</td>\n",
       "      <td>0.000000</td>\n",
       "      <td>0.000000</td>\n",
       "      <td>13.000000</td>\n",
       "    </tr>\n",
       "    <tr>\n",
       "      <th>25%</th>\n",
       "      <td>2003.000000</td>\n",
       "      <td>0.000000</td>\n",
       "      <td>0.000000</td>\n",
       "      <td>0.000000</td>\n",
       "      <td>0.000000</td>\n",
       "      <td>60.000000</td>\n",
       "    </tr>\n",
       "    <tr>\n",
       "      <th>50%</th>\n",
       "      <td>2007.000000</td>\n",
       "      <td>0.080000</td>\n",
       "      <td>0.020000</td>\n",
       "      <td>0.000000</td>\n",
       "      <td>0.010000</td>\n",
       "      <td>71.000000</td>\n",
       "    </tr>\n",
       "    <tr>\n",
       "      <th>75%</th>\n",
       "      <td>2010.000000</td>\n",
       "      <td>0.240000</td>\n",
       "      <td>0.110000</td>\n",
       "      <td>0.040000</td>\n",
       "      <td>0.030000</td>\n",
       "      <td>79.000000</td>\n",
       "    </tr>\n",
       "    <tr>\n",
       "      <th>max</th>\n",
       "      <td>2016.000000</td>\n",
       "      <td>41.360000</td>\n",
       "      <td>28.960000</td>\n",
       "      <td>10.220000</td>\n",
       "      <td>10.570000</td>\n",
       "      <td>98.000000</td>\n",
       "    </tr>\n",
       "  </tbody>\n",
       "</table>\n",
       "</div>"
      ],
      "text/plain": [
       "       Year_of_Release      NA_sales      EU_sales      JP_sales  \\\n",
       "count     16446.000000  16715.000000  16715.000000  16715.000000   \n",
       "mean       2006.484616      0.263377      0.145060      0.077617   \n",
       "std           5.877050      0.813604      0.503339      0.308853   \n",
       "min        1980.000000      0.000000      0.000000      0.000000   \n",
       "25%        2003.000000      0.000000      0.000000      0.000000   \n",
       "50%        2007.000000      0.080000      0.020000      0.000000   \n",
       "75%        2010.000000      0.240000      0.110000      0.040000   \n",
       "max        2016.000000     41.360000     28.960000     10.220000   \n",
       "\n",
       "        Other_sales  Critic_Score  \n",
       "count  16715.000000   8137.000000  \n",
       "mean       0.047342     68.967679  \n",
       "std        0.186731     13.938165  \n",
       "min        0.000000     13.000000  \n",
       "25%        0.000000     60.000000  \n",
       "50%        0.010000     71.000000  \n",
       "75%        0.030000     79.000000  \n",
       "max       10.570000     98.000000  "
      ]
     },
     "execution_count": 5,
     "metadata": {},
     "output_type": "execute_result"
    }
   ],
   "source": [
    "data.describe()"
   ]
  },
  {
   "cell_type": "markdown",
   "id": "5a891730",
   "metadata": {},
   "source": [
    "#### Построим гистограмму"
   ]
  },
  {
   "cell_type": "code",
   "execution_count": 6,
   "id": "89d5e716",
   "metadata": {},
   "outputs": [
    {
     "data": {
      "image/png": "[encoded data removed]",
      "text/plain": [
       "<Figure size 1080x1440 with 6 Axes>"
      ]
     },
     "metadata": {
      "needs_background": "light"
     },
     "output_type": "display_data"
    }
   ],
   "source": [
    "data.hist(figsize=(15, 20))\n",
    "plt.tight_layout() # убираем служебную информацию"
   ]
  },
  {
   "cell_type": "code",
   "execution_count": 7,
   "id": "5f9968ce",
   "metadata": {},
   "outputs": [
    {
     "data": {
      "text/plain": [
       "0"
      ]
     },
     "execution_count": 7,
     "metadata": {},
     "output_type": "execute_result"
    }
   ],
   "source": [
    "data.duplicated().sum()# проверка явных дубликатов"
   ]
  },
  {
   "cell_type": "markdown",
   "id": "d46728ae",
   "metadata": {},
   "source": [
    "#### Пропуски значений"
   ]
  },
  {
   "cell_type": "code",
   "execution_count": 8,
   "id": "05d19b48",
   "metadata": {},
   "outputs": [
    {
     "data": {
      "text/plain": [
       "Name                  2\n",
       "Platform              0\n",
       "Year_of_Release     269\n",
       "Genre                 2\n",
       "NA_sales              0\n",
       "EU_sales              0\n",
       "JP_sales              0\n",
       "Other_sales           0\n",
       "Critic_Score       8578\n",
       "User_Score         6701\n",
       "Rating             6766\n",
       "dtype: int64"
      ]
     },
     "execution_count": 8,
     "metadata": {},
     "output_type": "execute_result"
    }
   ],
   "source": [
    "data.isnull().sum()"
   ]
  },
  {
   "cell_type": "markdown",
   "id": "d56224e1",
   "metadata": {},
   "source": [
    "#### Процент пропусков"
   ]
  },
  {
   "cell_type": "code",
   "execution_count": 9,
   "id": "0528137b",
   "metadata": {},
   "outputs": [
    {
     "name": "stdout",
     "output_type": "stream",
     "text": [
      "Name - 0%\n",
      "Platform - 0%\n",
      "Year_of_Release - 2%\n",
      "Genre - 0%\n",
      "NA_sales - 0%\n",
      "EU_sales - 0%\n",
      "JP_sales - 0%\n",
      "Other_sales - 0%\n",
      "Critic_Score - 51%\n",
      "User_Score - 40%\n",
      "Rating - 40%\n"
     ]
    }
   ],
   "source": [
    "for col in data.columns:\n",
    "    pct_missing = np.mean(data[col].isnull())\n",
    "    print('{} - {}%'.format(col, round(pct_missing*100)))"
   ]
  },
  {
   "cell_type": "markdown",
   "id": "2bf4d465",
   "metadata": {},
   "source": [
    "**Вывод**\n",
    "\n",
    "- Следует перевести названия столбцов к нижнему регистру\n",
    "- Перевести Year_of_Release в Int User_Score в float, обработав поля содержащие tbd\n",
    "- Заполнить пропуски, где это возможно\n",
    "- Явных дубликатов не обнаружено.\n",
    "- Посчитать суммарные продажи во всех регионах и запишите их в отдельный столбец."
   ]
  },
  {
   "cell_type": "markdown",
   "id": "95479107",
   "metadata": {},
   "source": [
    "### Подготовка данных"
   ]
  },
  {
   "cell_type": "markdown",
   "id": "5ae09c13",
   "metadata": {},
   "source": [
    "#### Переведем название столбцов к нижнему регистру"
   ]
  },
  {
   "cell_type": "code",
   "execution_count": 10,
   "id": "7b9536ff",
   "metadata": {},
   "outputs": [],
   "source": [
    "data.columns = data.columns.str.lower()"
   ]
  },
  {
   "cell_type": "code",
   "execution_count": 11,
   "id": "fc82a925",
   "metadata": {},
   "outputs": [
    {
     "data": {
      "text/plain": [
       "Index(['name', 'platform', 'year_of_release', 'genre', 'na_sales', 'eu_sales',\n",
       "       'jp_sales', 'other_sales', 'critic_score', 'user_score', 'rating'],\n",
       "      dtype='object')"
      ]
     },
     "execution_count": 11,
     "metadata": {},
     "output_type": "execute_result"
    }
   ],
   "source": [
    "data.columns"
   ]
  },
  {
   "cell_type": "markdown",
   "id": "bb6acaeb",
   "metadata": {},
   "source": [
    "#### Переведем year_of_release в тип Int64"
   ]
  },
  {
   "cell_type": "code",
   "execution_count": 12,
   "id": "e3821a8b",
   "metadata": {},
   "outputs": [],
   "source": [
    "data['year_of_release'] = data['year_of_release'].astype('Int64')"
   ]
  },
  {
   "cell_type": "code",
   "execution_count": 13,
   "id": "7f390600",
   "metadata": {},
   "outputs": [
    {
     "name": "stdout",
     "output_type": "stream",
     "text": [
      "<class 'pandas.core.frame.DataFrame'>\n",
      "RangeIndex: 16715 entries, 0 to 16714\n",
      "Data columns (total 11 columns):\n",
      " #   Column           Non-Null Count  Dtype  \n",
      "---  ------           --------------  -----  \n",
      " 0   name             16713 non-null  object \n",
      " 1   platform         16715 non-null  object \n",
      " 2   year_of_release  16446 non-null  Int64  \n",
      " 3   genre            16713 non-null  object \n",
      " 4   na_sales         16715 non-null  float64\n",
      " 5   eu_sales         16715 non-null  float64\n",
      " 6   jp_sales         16715 non-null  float64\n",
      " 7   other_sales      16715 non-null  float64\n",
      " 8   critic_score     8137 non-null   float64\n",
      " 9   user_score       10014 non-null  object \n",
      " 10  rating           9949 non-null   object \n",
      "dtypes: Int64(1), float64(5), object(5)\n",
      "memory usage: 1.4+ MB\n"
     ]
    }
   ],
   "source": [
    "data.info()"
   ]
  },
  {
   "cell_type": "code",
   "execution_count": 14,
   "id": "aaf258cd",
   "metadata": {},
   "outputs": [
    {
     "data": {
      "text/html": [
       "<div>\n",
       "<style scoped>\n",
       "    .dataframe tbody tr th:only-of-type {\n",
       "        vertical-align: middle;\n",
       "    }\n",
       "\n",
       "    .dataframe tbody tr th {\n",
       "        vertical-align: top;\n",
       "    }\n",
       "\n",
       "    .dataframe thead th {\n",
       "        text-align: right;\n",
       "    }\n",
       "</style>\n",
       "<table border=\"1\" class=\"dataframe\">\n",
       "  <thead>\n",
       "    <tr style=\"text-align: right;\">\n",
       "      <th></th>\n",
       "      <th>name</th>\n",
       "      <th>platform</th>\n",
       "      <th>year_of_release</th>\n",
       "      <th>genre</th>\n",
       "      <th>na_sales</th>\n",
       "      <th>eu_sales</th>\n",
       "      <th>jp_sales</th>\n",
       "      <th>other_sales</th>\n",
       "      <th>critic_score</th>\n",
       "      <th>user_score</th>\n",
       "      <th>rating</th>\n",
       "    </tr>\n",
       "  </thead>\n",
       "  <tbody>\n",
       "    <tr>\n",
       "      <th>0</th>\n",
       "      <td>Wii Sports</td>\n",
       "      <td>Wii</td>\n",
       "      <td>2006</td>\n",
       "      <td>Sports</td>\n",
       "      <td>41.36</td>\n",
       "      <td>28.96</td>\n",
       "      <td>3.77</td>\n",
       "      <td>8.45</td>\n",
       "      <td>76.0</td>\n",
       "      <td>8</td>\n",
       "      <td>E</td>\n",
       "    </tr>\n",
       "    <tr>\n",
       "      <th>1</th>\n",
       "      <td>Super Mario Bros.</td>\n",
       "      <td>NES</td>\n",
       "      <td>1985</td>\n",
       "      <td>Platform</td>\n",
       "      <td>29.08</td>\n",
       "      <td>3.58</td>\n",
       "      <td>6.81</td>\n",
       "      <td>0.77</td>\n",
       "      <td>NaN</td>\n",
       "      <td>NaN</td>\n",
       "      <td>NaN</td>\n",
       "    </tr>\n",
       "    <tr>\n",
       "      <th>2</th>\n",
       "      <td>Mario Kart Wii</td>\n",
       "      <td>Wii</td>\n",
       "      <td>2008</td>\n",
       "      <td>Racing</td>\n",
       "      <td>15.68</td>\n",
       "      <td>12.76</td>\n",
       "      <td>3.79</td>\n",
       "      <td>3.29</td>\n",
       "      <td>82.0</td>\n",
       "      <td>8.3</td>\n",
       "      <td>E</td>\n",
       "    </tr>\n",
       "    <tr>\n",
       "      <th>3</th>\n",
       "      <td>Wii Sports Resort</td>\n",
       "      <td>Wii</td>\n",
       "      <td>2009</td>\n",
       "      <td>Sports</td>\n",
       "      <td>15.61</td>\n",
       "      <td>10.93</td>\n",
       "      <td>3.28</td>\n",
       "      <td>2.95</td>\n",
       "      <td>80.0</td>\n",
       "      <td>8</td>\n",
       "      <td>E</td>\n",
       "    </tr>\n",
       "    <tr>\n",
       "      <th>4</th>\n",
       "      <td>Pokemon Red/Pokemon Blue</td>\n",
       "      <td>GB</td>\n",
       "      <td>1996</td>\n",
       "      <td>Role-Playing</td>\n",
       "      <td>11.27</td>\n",
       "      <td>8.89</td>\n",
       "      <td>10.22</td>\n",
       "      <td>1.00</td>\n",
       "      <td>NaN</td>\n",
       "      <td>NaN</td>\n",
       "      <td>NaN</td>\n",
       "    </tr>\n",
       "  </tbody>\n",
       "</table>\n",
       "</div>"
      ],
      "text/plain": [
       "                       name platform  year_of_release         genre  na_sales  \\\n",
       "0                Wii Sports      Wii             2006        Sports     41.36   \n",
       "1         Super Mario Bros.      NES             1985      Platform     29.08   \n",
       "2            Mario Kart Wii      Wii             2008        Racing     15.68   \n",
       "3         Wii Sports Resort      Wii             2009        Sports     15.61   \n",
       "4  Pokemon Red/Pokemon Blue       GB             1996  Role-Playing     11.27   \n",
       "\n",
       "   eu_sales  jp_sales  other_sales  critic_score user_score rating  \n",
       "0     28.96      3.77         8.45          76.0          8      E  \n",
       "1      3.58      6.81         0.77           NaN        NaN    NaN  \n",
       "2     12.76      3.79         3.29          82.0        8.3      E  \n",
       "3     10.93      3.28         2.95          80.0          8      E  \n",
       "4      8.89     10.22         1.00           NaN        NaN    NaN  "
      ]
     },
     "execution_count": 14,
     "metadata": {},
     "output_type": "execute_result"
    }
   ],
   "source": [
    "data.head()"
   ]
  },
  {
   "cell_type": "markdown",
   "id": "41d72923",
   "metadata": {},
   "source": [
    "#### Обработка пропусков"
   ]
  },
  {
   "cell_type": "markdown",
   "id": "c755a0e8",
   "metadata": {},
   "source": [
    "##### О возможной причине пропусков"
   ]
  },
  {
   "cell_type": "markdown",
   "id": "6de4f556",
   "metadata": {},
   "source": [
    "- Пропуски в таких колонках как name и genre скорее всего являются человеческой ошибкой. Вероятнее всего их просто не заполнили.\n",
    "- Причиной пропусков в critic_score и user_score так же может быть нехватка информации. Отсутствие оценки или недостаточное колличество оценок соответствено.\n",
    "- Определенные пропуски в year_of_release можно объяснить тем, что продукт еще не выпустили на рынок.\n",
    "- Пропуски в rating, возможно объясняются еще и тем,что продукт еще не был передан на оценку по причине его не готовности. "
   ]
  },
  {
   "cell_type": "markdown",
   "id": "e0eedc87",
   "metadata": {},
   "source": [
    "#### Обработка user_score"
   ]
  },
  {
   "cell_type": "code",
   "execution_count": 15,
   "id": "a7f7aae6",
   "metadata": {},
   "outputs": [
    {
     "data": {
      "text/plain": [
       "array(['8', nan, '8.3', '8.5', '6.6', '8.4', '8.6', '7.7', '6.3', '7.4',\n",
       "       '8.2', '9', '7.9', '8.1', '8.7', '7.1', '3.4', '5.3', '4.8', '3.2',\n",
       "       '8.9', '6.4', '7.8', '7.5', '2.6', '7.2', '9.2', '7', '7.3', '4.3',\n",
       "       '7.6', '5.7', '5', '9.1', '6.5', 'tbd', '8.8', '6.9', '9.4', '6.8',\n",
       "       '6.1', '6.7', '5.4', '4', '4.9', '4.5', '9.3', '6.2', '4.2', '6',\n",
       "       '3.7', '4.1', '5.8', '5.6', '5.5', '4.4', '4.6', '5.9', '3.9',\n",
       "       '3.1', '2.9', '5.2', '3.3', '4.7', '5.1', '3.5', '2.5', '1.9', '3',\n",
       "       '2.7', '2.2', '2', '9.5', '2.1', '3.6', '2.8', '1.8', '3.8', '0',\n",
       "       '1.6', '9.6', '2.4', '1.7', '1.1', '0.3', '1.5', '0.7', '1.2',\n",
       "       '2.3', '0.5', '1.3', '0.2', '0.6', '1.4', '0.9', '1', '9.7'],\n",
       "      dtype=object)"
      ]
     },
     "execution_count": 15,
     "metadata": {},
     "output_type": "execute_result"
    }
   ],
   "source": [
    "data['user_score'].unique()"
   ]
  },
  {
   "cell_type": "markdown",
   "id": "ce7d623b",
   "metadata": {},
   "source": [
    "##### О значении 'tbd'"
   ]
  },
  {
   "cell_type": "markdown",
   "id": "3f40bdf0",
   "metadata": {},
   "source": [
    "Логично предположить, что значение 'tbd' означает английскую фразу 'To be determined' и выставлялось в тех случаях, когда у продукта было не достаточно пользовательских оценок. С целью перевода в числовой фомат предлагаю заменить эти значения на -1."
   ]
  },
  {
   "cell_type": "code",
   "execution_count": 16,
   "id": "ac4fd219",
   "metadata": {},
   "outputs": [],
   "source": [
    "data['user_score'] = data['user_score'].replace('tbd', np.nan)"
   ]
  },
  {
   "cell_type": "code",
   "execution_count": 17,
   "id": "0cf297aa",
   "metadata": {},
   "outputs": [
    {
     "data": {
      "text/plain": [
       "array(['8', nan, '8.3', '8.5', '6.6', '8.4', '8.6', '7.7', '6.3', '7.4',\n",
       "       '8.2', '9', '7.9', '8.1', '8.7', '7.1', '3.4', '5.3', '4.8', '3.2',\n",
       "       '8.9', '6.4', '7.8', '7.5', '2.6', '7.2', '9.2', '7', '7.3', '4.3',\n",
       "       '7.6', '5.7', '5', '9.1', '6.5', '8.8', '6.9', '9.4', '6.8', '6.1',\n",
       "       '6.7', '5.4', '4', '4.9', '4.5', '9.3', '6.2', '4.2', '6', '3.7',\n",
       "       '4.1', '5.8', '5.6', '5.5', '4.4', '4.6', '5.9', '3.9', '3.1',\n",
       "       '2.9', '5.2', '3.3', '4.7', '5.1', '3.5', '2.5', '1.9', '3', '2.7',\n",
       "       '2.2', '2', '9.5', '2.1', '3.6', '2.8', '1.8', '3.8', '0', '1.6',\n",
       "       '9.6', '2.4', '1.7', '1.1', '0.3', '1.5', '0.7', '1.2', '2.3',\n",
       "       '0.5', '1.3', '0.2', '0.6', '1.4', '0.9', '1', '9.7'], dtype=object)"
      ]
     },
     "execution_count": 17,
     "metadata": {},
     "output_type": "execute_result"
    }
   ],
   "source": [
    "data['user_score'].unique()"
   ]
  },
  {
   "cell_type": "code",
   "execution_count": 18,
   "id": "b8c2d459",
   "metadata": {},
   "outputs": [],
   "source": [
    "data['user_score'] = data['user_score'].astype('float64')"
   ]
  },
  {
   "cell_type": "code",
   "execution_count": 19,
   "id": "6b8608ab",
   "metadata": {},
   "outputs": [
    {
     "name": "stdout",
     "output_type": "stream",
     "text": [
      "<class 'pandas.core.frame.DataFrame'>\n",
      "RangeIndex: 16715 entries, 0 to 16714\n",
      "Data columns (total 11 columns):\n",
      " #   Column           Non-Null Count  Dtype  \n",
      "---  ------           --------------  -----  \n",
      " 0   name             16713 non-null  object \n",
      " 1   platform         16715 non-null  object \n",
      " 2   year_of_release  16446 non-null  Int64  \n",
      " 3   genre            16713 non-null  object \n",
      " 4   na_sales         16715 non-null  float64\n",
      " 5   eu_sales         16715 non-null  float64\n",
      " 6   jp_sales         16715 non-null  float64\n",
      " 7   other_sales      16715 non-null  float64\n",
      " 8   critic_score     8137 non-null   float64\n",
      " 9   user_score       7590 non-null   float64\n",
      " 10  rating           9949 non-null   object \n",
      "dtypes: Int64(1), float64(6), object(4)\n",
      "memory usage: 1.4+ MB\n"
     ]
    }
   ],
   "source": [
    "data.info()"
   ]
  },
  {
   "cell_type": "markdown",
   "id": "ff179e09",
   "metadata": {},
   "source": [
    "##### Замена пропусков в name  genre и rating на \"Не указано\""
   ]
  },
  {
   "cell_type": "code",
   "execution_count": 20,
   "id": "4fb1ef84",
   "metadata": {},
   "outputs": [],
   "source": [
    "columns_to_fill = ['name', 'genre', 'rating']\n",
    "for column in columns_to_fill:\n",
    "    data[column] = data[column].fillna('Не указано')"
   ]
  },
  {
   "cell_type": "code",
   "execution_count": 21,
   "id": "f624c05f",
   "metadata": {},
   "outputs": [
    {
     "data": {
      "text/plain": [
       "name                  0\n",
       "platform              0\n",
       "year_of_release     269\n",
       "genre                 0\n",
       "na_sales              0\n",
       "eu_sales              0\n",
       "jp_sales              0\n",
       "other_sales           0\n",
       "critic_score       8578\n",
       "user_score         9125\n",
       "rating                0\n",
       "dtype: int64"
      ]
     },
     "execution_count": 21,
     "metadata": {},
     "output_type": "execute_result"
    }
   ],
   "source": [
    "data.isnull().sum()"
   ]
  },
  {
   "cell_type": "markdown",
   "id": "7e50d8e4",
   "metadata": {},
   "source": [
    "##### О оставшихся пропусках"
   ]
  },
  {
   "cell_type": "markdown",
   "id": "8f3b905e",
   "metadata": {},
   "source": [
    "Оставшиеся пропуски предлагаю не заполнять т.к. это либо параметр, который придется заполнять в ручную (rating), либо численные метрики, которые некорректно заполнять медианным или средним значением на мой взгляд (critic_score, user_score)  "
   ]
  },
  {
   "cell_type": "markdown",
   "id": "32089302",
   "metadata": {},
   "source": [
    "##### Добавим столбец общих продаж"
   ]
  },
  {
   "cell_type": "code",
   "execution_count": 22,
   "id": "8c3229d4",
   "metadata": {},
   "outputs": [],
   "source": [
    "data['total_sales'] = data['na_sales'] + data['eu_sales'] + data['jp_sales'] + data['other_sales']"
   ]
  },
  {
   "cell_type": "code",
   "execution_count": 23,
   "id": "848f053d",
   "metadata": {},
   "outputs": [
    {
     "data": {
      "text/html": [
       "<div>\n",
       "<style scoped>\n",
       "    .dataframe tbody tr th:only-of-type {\n",
       "        vertical-align: middle;\n",
       "    }\n",
       "\n",
       "    .dataframe tbody tr th {\n",
       "        vertical-align: top;\n",
       "    }\n",
       "\n",
       "    .dataframe thead th {\n",
       "        text-align: right;\n",
       "    }\n",
       "</style>\n",
       "<table border=\"1\" class=\"dataframe\">\n",
       "  <thead>\n",
       "    <tr style=\"text-align: right;\">\n",
       "      <th></th>\n",
       "      <th>name</th>\n",
       "      <th>platform</th>\n",
       "      <th>year_of_release</th>\n",
       "      <th>genre</th>\n",
       "      <th>na_sales</th>\n",
       "      <th>eu_sales</th>\n",
       "      <th>jp_sales</th>\n",
       "      <th>other_sales</th>\n",
       "      <th>critic_score</th>\n",
       "      <th>user_score</th>\n",
       "      <th>rating</th>\n",
       "      <th>total_sales</th>\n",
       "    </tr>\n",
       "  </thead>\n",
       "  <tbody>\n",
       "    <tr>\n",
       "      <th>0</th>\n",
       "      <td>Wii Sports</td>\n",
       "      <td>Wii</td>\n",
       "      <td>2006</td>\n",
       "      <td>Sports</td>\n",
       "      <td>41.36</td>\n",
       "      <td>28.96</td>\n",
       "      <td>3.77</td>\n",
       "      <td>8.45</td>\n",
       "      <td>76.0</td>\n",
       "      <td>8.0</td>\n",
       "      <td>E</td>\n",
       "      <td>82.54</td>\n",
       "    </tr>\n",
       "    <tr>\n",
       "      <th>1</th>\n",
       "      <td>Super Mario Bros.</td>\n",
       "      <td>NES</td>\n",
       "      <td>1985</td>\n",
       "      <td>Platform</td>\n",
       "      <td>29.08</td>\n",
       "      <td>3.58</td>\n",
       "      <td>6.81</td>\n",
       "      <td>0.77</td>\n",
       "      <td>NaN</td>\n",
       "      <td>NaN</td>\n",
       "      <td>Не указано</td>\n",
       "      <td>40.24</td>\n",
       "    </tr>\n",
       "    <tr>\n",
       "      <th>2</th>\n",
       "      <td>Mario Kart Wii</td>\n",
       "      <td>Wii</td>\n",
       "      <td>2008</td>\n",
       "      <td>Racing</td>\n",
       "      <td>15.68</td>\n",
       "      <td>12.76</td>\n",
       "      <td>3.79</td>\n",
       "      <td>3.29</td>\n",
       "      <td>82.0</td>\n",
       "      <td>8.3</td>\n",
       "      <td>E</td>\n",
       "      <td>35.52</td>\n",
       "    </tr>\n",
       "    <tr>\n",
       "      <th>3</th>\n",
       "      <td>Wii Sports Resort</td>\n",
       "      <td>Wii</td>\n",
       "      <td>2009</td>\n",
       "      <td>Sports</td>\n",
       "      <td>15.61</td>\n",
       "      <td>10.93</td>\n",
       "      <td>3.28</td>\n",
       "      <td>2.95</td>\n",
       "      <td>80.0</td>\n",
       "      <td>8.0</td>\n",
       "      <td>E</td>\n",
       "      <td>32.77</td>\n",
       "    </tr>\n",
       "    <tr>\n",
       "      <th>4</th>\n",
       "      <td>Pokemon Red/Pokemon Blue</td>\n",
       "      <td>GB</td>\n",
       "      <td>1996</td>\n",
       "      <td>Role-Playing</td>\n",
       "      <td>11.27</td>\n",
       "      <td>8.89</td>\n",
       "      <td>10.22</td>\n",
       "      <td>1.00</td>\n",
       "      <td>NaN</td>\n",
       "      <td>NaN</td>\n",
       "      <td>Не указано</td>\n",
       "      <td>31.38</td>\n",
       "    </tr>\n",
       "  </tbody>\n",
       "</table>\n",
       "</div>"
      ],
      "text/plain": [
       "                       name platform  year_of_release         genre  na_sales  \\\n",
       "0                Wii Sports      Wii             2006        Sports     41.36   \n",
       "1         Super Mario Bros.      NES             1985      Platform     29.08   \n",
       "2            Mario Kart Wii      Wii             2008        Racing     15.68   \n",
       "3         Wii Sports Resort      Wii             2009        Sports     15.61   \n",
       "4  Pokemon Red/Pokemon Blue       GB             1996  Role-Playing     11.27   \n",
       "\n",
       "   eu_sales  jp_sales  other_sales  critic_score  user_score      rating  \\\n",
       "0     28.96      3.77         8.45          76.0         8.0           E   \n",
       "1      3.58      6.81         0.77           NaN         NaN  Не указано   \n",
       "2     12.76      3.79         3.29          82.0         8.3           E   \n",
       "3     10.93      3.28         2.95          80.0         8.0           E   \n",
       "4      8.89     10.22         1.00           NaN         NaN  Не указано   \n",
       "\n",
       "   total_sales  \n",
       "0        82.54  \n",
       "1        40.24  \n",
       "2        35.52  \n",
       "3        32.77  \n",
       "4        31.38  "
      ]
     },
     "execution_count": 23,
     "metadata": {},
     "output_type": "execute_result"
    }
   ],
   "source": [
    "data.head()"
   ]
  },
  {
   "cell_type": "markdown",
   "id": "78b28659",
   "metadata": {},
   "source": [
    "### Исследовательский анализ данных"
   ]
  },
  {
   "cell_type": "markdown",
   "id": "daaf9e81",
   "metadata": {},
   "source": [
    "#### Количество продуктов в разные годы"
   ]
  },
  {
   "cell_type": "code",
   "execution_count": 24,
   "id": "be7015b9",
   "metadata": {},
   "outputs": [
    {
     "data": {
      "image/png": "[encoded data removed]",
      "text/plain": [
       "<Figure size 432x288 with 1 Axes>"
      ]
     },
     "metadata": {
      "needs_background": "light"
     },
     "output_type": "display_data"
    }
   ],
   "source": [
    "data['year_of_release'].hist()\n",
    "plt.tight_layout() # убираем служебную информацию"
   ]
  },
  {
   "cell_type": "code",
   "execution_count": 25,
   "id": "fe093112",
   "metadata": {},
   "outputs": [],
   "source": [
    "games_by_year = data.pivot_table(index='year_of_release', values='name', aggfunc='count')"
   ]
  },
  {
   "cell_type": "code",
   "execution_count": 26,
   "id": "5612c7f9",
   "metadata": {},
   "outputs": [],
   "source": [
    "games_by_year.columns = ['count']"
   ]
  },
  {
   "cell_type": "code",
   "execution_count": 27,
   "id": "3238a206",
   "metadata": {},
   "outputs": [
    {
     "data": {
      "text/html": [
       "<div>\n",
       "<style scoped>\n",
       "    .dataframe tbody tr th:only-of-type {\n",
       "        vertical-align: middle;\n",
       "    }\n",
       "\n",
       "    .dataframe tbody tr th {\n",
       "        vertical-align: top;\n",
       "    }\n",
       "\n",
       "    .dataframe thead th {\n",
       "        text-align: right;\n",
       "    }\n",
       "</style>\n",
       "<table border=\"1\" class=\"dataframe\">\n",
       "  <thead>\n",
       "    <tr style=\"text-align: right;\">\n",
       "      <th></th>\n",
       "      <th>count</th>\n",
       "    </tr>\n",
       "    <tr>\n",
       "      <th>year_of_release</th>\n",
       "      <th></th>\n",
       "    </tr>\n",
       "  </thead>\n",
       "  <tbody>\n",
       "    <tr>\n",
       "      <th>2008</th>\n",
       "      <td>1427</td>\n",
       "    </tr>\n",
       "    <tr>\n",
       "      <th>2009</th>\n",
       "      <td>1426</td>\n",
       "    </tr>\n",
       "    <tr>\n",
       "      <th>2010</th>\n",
       "      <td>1255</td>\n",
       "    </tr>\n",
       "    <tr>\n",
       "      <th>2007</th>\n",
       "      <td>1197</td>\n",
       "    </tr>\n",
       "    <tr>\n",
       "      <th>2011</th>\n",
       "      <td>1136</td>\n",
       "    </tr>\n",
       "    <tr>\n",
       "      <th>2006</th>\n",
       "      <td>1006</td>\n",
       "    </tr>\n",
       "    <tr>\n",
       "      <th>2005</th>\n",
       "      <td>939</td>\n",
       "    </tr>\n",
       "    <tr>\n",
       "      <th>2002</th>\n",
       "      <td>829</td>\n",
       "    </tr>\n",
       "    <tr>\n",
       "      <th>2003</th>\n",
       "      <td>775</td>\n",
       "    </tr>\n",
       "    <tr>\n",
       "      <th>2004</th>\n",
       "      <td>762</td>\n",
       "    </tr>\n",
       "    <tr>\n",
       "      <th>2012</th>\n",
       "      <td>653</td>\n",
       "    </tr>\n",
       "    <tr>\n",
       "      <th>2015</th>\n",
       "      <td>606</td>\n",
       "    </tr>\n",
       "    <tr>\n",
       "      <th>2014</th>\n",
       "      <td>581</td>\n",
       "    </tr>\n",
       "    <tr>\n",
       "      <th>2013</th>\n",
       "      <td>544</td>\n",
       "    </tr>\n",
       "    <tr>\n",
       "      <th>2016</th>\n",
       "      <td>502</td>\n",
       "    </tr>\n",
       "    <tr>\n",
       "      <th>2001</th>\n",
       "      <td>482</td>\n",
       "    </tr>\n",
       "    <tr>\n",
       "      <th>1998</th>\n",
       "      <td>379</td>\n",
       "    </tr>\n",
       "    <tr>\n",
       "      <th>2000</th>\n",
       "      <td>350</td>\n",
       "    </tr>\n",
       "    <tr>\n",
       "      <th>1999</th>\n",
       "      <td>338</td>\n",
       "    </tr>\n",
       "    <tr>\n",
       "      <th>1997</th>\n",
       "      <td>289</td>\n",
       "    </tr>\n",
       "    <tr>\n",
       "      <th>1996</th>\n",
       "      <td>263</td>\n",
       "    </tr>\n",
       "    <tr>\n",
       "      <th>1995</th>\n",
       "      <td>219</td>\n",
       "    </tr>\n",
       "    <tr>\n",
       "      <th>1994</th>\n",
       "      <td>121</td>\n",
       "    </tr>\n",
       "    <tr>\n",
       "      <th>1993</th>\n",
       "      <td>62</td>\n",
       "    </tr>\n",
       "    <tr>\n",
       "      <th>1981</th>\n",
       "      <td>46</td>\n",
       "    </tr>\n",
       "    <tr>\n",
       "      <th>1992</th>\n",
       "      <td>43</td>\n",
       "    </tr>\n",
       "    <tr>\n",
       "      <th>1991</th>\n",
       "      <td>41</td>\n",
       "    </tr>\n",
       "    <tr>\n",
       "      <th>1982</th>\n",
       "      <td>36</td>\n",
       "    </tr>\n",
       "    <tr>\n",
       "      <th>1986</th>\n",
       "      <td>21</td>\n",
       "    </tr>\n",
       "    <tr>\n",
       "      <th>1989</th>\n",
       "      <td>17</td>\n",
       "    </tr>\n",
       "    <tr>\n",
       "      <th>1983</th>\n",
       "      <td>17</td>\n",
       "    </tr>\n",
       "    <tr>\n",
       "      <th>1990</th>\n",
       "      <td>16</td>\n",
       "    </tr>\n",
       "    <tr>\n",
       "      <th>1987</th>\n",
       "      <td>16</td>\n",
       "    </tr>\n",
       "    <tr>\n",
       "      <th>1988</th>\n",
       "      <td>15</td>\n",
       "    </tr>\n",
       "    <tr>\n",
       "      <th>1985</th>\n",
       "      <td>14</td>\n",
       "    </tr>\n",
       "    <tr>\n",
       "      <th>1984</th>\n",
       "      <td>14</td>\n",
       "    </tr>\n",
       "    <tr>\n",
       "      <th>1980</th>\n",
       "      <td>9</td>\n",
       "    </tr>\n",
       "  </tbody>\n",
       "</table>\n",
       "</div>"
      ],
      "text/plain": [
       "                 count\n",
       "year_of_release       \n",
       "2008              1427\n",
       "2009              1426\n",
       "2010              1255\n",
       "2007              1197\n",
       "2011              1136\n",
       "2006              1006\n",
       "2005               939\n",
       "2002               829\n",
       "2003               775\n",
       "2004               762\n",
       "2012               653\n",
       "2015               606\n",
       "2014               581\n",
       "2013               544\n",
       "2016               502\n",
       "2001               482\n",
       "1998               379\n",
       "2000               350\n",
       "1999               338\n",
       "1997               289\n",
       "1996               263\n",
       "1995               219\n",
       "1994               121\n",
       "1993                62\n",
       "1981                46\n",
       "1992                43\n",
       "1991                41\n",
       "1982                36\n",
       "1986                21\n",
       "1989                17\n",
       "1983                17\n",
       "1990                16\n",
       "1987                16\n",
       "1988                15\n",
       "1985                14\n",
       "1984                14\n",
       "1980                 9"
      ]
     },
     "execution_count": 27,
     "metadata": {},
     "output_type": "execute_result"
    }
   ],
   "source": [
    "games_by_year.sort_values(by='count', ascending=False)"
   ]
  },
  {
   "cell_type": "markdown",
   "id": "047ac9dd",
   "metadata": {},
   "source": [
    "**Выводы**"
   ]
  },
  {
   "cell_type": "markdown",
   "id": "3c3e8d13",
   "metadata": {},
   "source": [
    "Из полученых данных уже видно,что можно отсечь продукты выпущенные до, как-минимум 1995 года (Их сумарно не много и скорее всего они выпущены на принципиально устаревших платформах.) Для того, чтобы сделать дальнейшие выводы нужно исследовать платформы."
   ]
  },
  {
   "cell_type": "markdown",
   "id": "6c784392",
   "metadata": {},
   "source": [
    "#### Исследование актуальности платформ"
   ]
  },
  {
   "cell_type": "markdown",
   "id": "4e135b3b",
   "metadata": {},
   "source": [
    "##### Выведем уникальные платформы в датасете"
   ]
  },
  {
   "cell_type": "code",
   "execution_count": 28,
   "id": "eaed399c",
   "metadata": {},
   "outputs": [
    {
     "data": {
      "text/plain": [
       "array(['Wii', 'NES', 'GB', 'DS', 'X360', 'PS3', 'PS2', 'SNES', 'GBA',\n",
       "       'PS4', '3DS', 'N64', 'PS', 'XB', 'PC', '2600', 'PSP', 'XOne',\n",
       "       'WiiU', 'GC', 'GEN', 'DC', 'PSV', 'SAT', 'SCD', 'WS', 'NG', 'TG16',\n",
       "       '3DO', 'GG', 'PCFX'], dtype=object)"
      ]
     },
     "execution_count": 28,
     "metadata": {},
     "output_type": "execute_result"
    }
   ],
   "source": [
    "data['platform'].unique()"
   ]
  },
  {
   "cell_type": "markdown",
   "id": "979c2a50",
   "metadata": {},
   "source": [
    "##### Выведем платформы с наибольшим количеством продаж"
   ]
  },
  {
   "cell_type": "code",
   "execution_count": 29,
   "id": "5e2f9b66",
   "metadata": {},
   "outputs": [],
   "source": [
    "top_salers = data.groupby('platform')['total_sales'].sum()"
   ]
  },
  {
   "cell_type": "code",
   "execution_count": 30,
   "id": "95f95bae",
   "metadata": {},
   "outputs": [
    {
     "data": {
      "text/plain": [
       "platform\n",
       "PS2     1255.77\n",
       "X360     971.42\n",
       "PS3      939.65\n",
       "Wii      907.51\n",
       "DS       806.12\n",
       "PS       730.86\n",
       "GBA      317.85\n",
       "PS4      314.14\n",
       "PSP      294.05\n",
       "PC       259.52\n",
       "Name: total_sales, dtype: float64"
      ]
     },
     "execution_count": 30,
     "metadata": {},
     "output_type": "execute_result"
    }
   ],
   "source": [
    "top_salers.sort_values(ascending=False).head(10)"
   ]
  },
  {
   "cell_type": "markdown",
   "id": "535c353e",
   "metadata": {},
   "source": [
    "##### Сделаем срез по датафрейму только с данными по этим платформам"
   ]
  },
  {
   "cell_type": "code",
   "execution_count": 31,
   "id": "8cceeb44",
   "metadata": {},
   "outputs": [],
   "source": [
    "top_platforms = ['PS2', 'X360', 'PS3', 'Wii', 'DS', 'PS', 'GBA', 'PS4', 'PSP', 'PC' ]"
   ]
  },
  {
   "cell_type": "code",
   "execution_count": 32,
   "id": "e2005b63",
   "metadata": {},
   "outputs": [],
   "source": [
    "top_salers_data = data.query('platform == @top_platforms')"
   ]
  },
  {
   "cell_type": "code",
   "execution_count": 33,
   "id": "eabf6bcf",
   "metadata": {},
   "outputs": [
    {
     "data": {
      "text/plain": [
       "array(['Wii', 'DS', 'X360', 'PS3', 'PS2', 'GBA', 'PS4', 'PS', 'PC', 'PSP'],\n",
       "      dtype=object)"
      ]
     },
     "execution_count": 33,
     "metadata": {},
     "output_type": "execute_result"
    }
   ],
   "source": [
    "top_salers_data['platform'].unique()"
   ]
  },
  {
   "cell_type": "markdown",
   "id": "235c1117",
   "metadata": {},
   "source": [
    "##### Создадим pivot_table и график по ней"
   ]
  },
  {
   "cell_type": "code",
   "execution_count": 34,
   "id": "865d3ad4",
   "metadata": {},
   "outputs": [],
   "source": [
    "top_salers_by_year = top_salers_data.pivot_table(index='year_of_release', columns='platform', values='total_sales', aggfunc='sum')"
   ]
  },
  {
   "cell_type": "code",
   "execution_count": 35,
   "id": "862f0d8e",
   "metadata": {},
   "outputs": [
    {
     "data": {
      "image/png": "[encoded data removed]",
      "text/plain": [
       "<Figure size 576x576 with 1 Axes>"
      ]
     },
     "metadata": {
      "needs_background": "light"
     },
     "output_type": "display_data"
    }
   ],
   "source": [
    "top_salers_by_year.plot(kind='bar', figsize=(8, 8), grid=True, width=3)\n",
    "plt.tight_layout()"
   ]
  },
  {
   "cell_type": "code",
   "execution_count": 36,
   "id": "29d33352",
   "metadata": {},
   "outputs": [
    {
     "data": {
      "image/png": "[encoded data removed]",
      "text/plain": [
       "<Figure size 432x288 with 2 Axes>"
      ]
     },
     "metadata": {
      "needs_background": "light"
     },
     "output_type": "display_data"
    }
   ],
   "source": [
    "sns.heatmap(top_salers_by_year)\n",
    "plt.tight_layout()"
   ]
  },
  {
   "cell_type": "markdown",
   "id": "807b6317",
   "metadata": {},
   "source": [
    "**Выводы**\n",
    "- Средний жизненный цикл платформы 6-7 лет.\n",
    "- Актуальной для анализа предлагаю считать период с 2013 года. Т.к. с этого периода активны актуальные платформы"
   ]
  },
  {
   "cell_type": "markdown",
   "id": "cf0644b2",
   "metadata": {},
   "source": [
    "#### Срежем данные до 2013 года"
   ]
  },
  {
   "cell_type": "code",
   "execution_count": 37,
   "id": "a2abf0d1",
   "metadata": {},
   "outputs": [],
   "source": [
    "current_data = data.query('year_of_release >= 2013')"
   ]
  },
  {
   "cell_type": "code",
   "execution_count": 38,
   "id": "bbede13b",
   "metadata": {},
   "outputs": [
    {
     "data": {
      "text/plain": [
       "<IntegerArray>\n",
       "[2013, 2015, 2014, 2016]\n",
       "Length: 4, dtype: Int64"
      ]
     },
     "execution_count": 38,
     "metadata": {},
     "output_type": "execute_result"
    }
   ],
   "source": [
    "current_data['year_of_release'].unique()"
   ]
  },
  {
   "cell_type": "markdown",
   "id": "439f36a4",
   "metadata": {},
   "source": [
    "#### Выберем потенциально перспективные, актуальные платформы"
   ]
  },
  {
   "cell_type": "code",
   "execution_count": 39,
   "id": "f029eff8",
   "metadata": {},
   "outputs": [],
   "source": [
    "current_top_salers = current_data.groupby('platform')['total_sales'].sum()"
   ]
  },
  {
   "cell_type": "code",
   "execution_count": 40,
   "id": "c559273b",
   "metadata": {},
   "outputs": [
    {
     "data": {
      "text/plain": [
       "platform\n",
       "PS4     314.14\n",
       "PS3     181.43\n",
       "XOne    159.32\n",
       "3DS     143.25\n",
       "X360    136.80\n",
       "WiiU     64.63\n",
       "PC       39.43\n",
       "PSV      32.99\n",
       "Wii      13.66\n",
       "PSP       3.50\n",
       "DS        1.54\n",
       "Name: total_sales, dtype: float64"
      ]
     },
     "execution_count": 40,
     "metadata": {},
     "output_type": "execute_result"
    }
   ],
   "source": [
    "current_top_salers.sort_values(ascending=False)"
   ]
  },
  {
   "cell_type": "markdown",
   "id": "5d7eeffb",
   "metadata": {},
   "source": [
    "**Выводы**\n",
    "- Предлагаю считать эти платформы перспективными на данный момент."
   ]
  },
  {
   "cell_type": "markdown",
   "id": "491679d4",
   "metadata": {},
   "source": [
    "##### Построим \"ящик с усами\" по платформам на котором видно \"выбросы\""
   ]
  },
  {
   "cell_type": "code",
   "execution_count": 41,
   "id": "a9a315bf",
   "metadata": {
    "scrolled": true
   },
   "outputs": [
    {
     "data": {
      "image/png": "[encoded data removed]",
      "text/plain": [
       "<Figure size 360x360 with 1 Axes>"
      ]
     },
     "metadata": {
      "needs_background": "light"
     },
     "output_type": "display_data"
    }
   ],
   "source": [
    "fig = plt.figure(figsize=(5, 5))\n",
    "sns.boxplot(x='platform', y='total_sales', \n",
    "            data=current_data[current_data['total_sales'] < 5])\n",
    "plt.grid()\n",
    "plt.show()"
   ]
  },
  {
   "cell_type": "markdown",
   "id": "0258f74a",
   "metadata": {},
   "source": [
    "##### Построим еще один для наглядности квартилей "
   ]
  },
  {
   "cell_type": "code",
   "execution_count": 42,
   "id": "b5f4427f",
   "metadata": {},
   "outputs": [
    {
     "data": {
      "image/png": "[encoded data removed]",
      "text/plain": [
       "<Figure size 1440x720 with 1 Axes>"
      ]
     },
     "metadata": {
      "needs_background": "light"
     },
     "output_type": "display_data"
    }
   ],
   "source": [
    "fig = plt.figure(figsize=(20, 10))\n",
    "sns.boxplot(x='platform', y='total_sales',\n",
    "            data=current_data[current_data['total_sales'] < 5])\n",
    "plt.ylim(0, 0.85)\n",
    "plt.grid()\n",
    "plt.show()"
   ]
  },
  {
   "cell_type": "markdown",
   "id": "13255f06",
   "metadata": {},
   "source": [
    "**Выводы**\n",
    "- Наибольшее количество прибыльных продуктов выпускаяется на больших платформах (Платформах семейства xbox, playstation)\n",
    "- Из портативных платформ выйгрышно показывает себя 3ds, возможно еще и по причине своей полной совместимости с предыдущим поколением.\n",
    "- Относительный успех крупных продуктов WiiU в 2022 году сложно воспринимать без иронии, но в 2016 эта платформа выглядела значительно более перспективно (особенно учитывая работу на все 3 больших рынка.)"
   ]
  },
  {
   "cell_type": "markdown",
   "id": "ac484dc4",
   "metadata": {},
   "source": [
    "#### Влияние рейтингов на продажи"
   ]
  },
  {
   "cell_type": "markdown",
   "id": "803dfd60",
   "metadata": {},
   "source": [
    "#### Срежем данные по ps4"
   ]
  },
  {
   "cell_type": "code",
   "execution_count": 43,
   "id": "d9bd5966",
   "metadata": {},
   "outputs": [],
   "source": [
    "ps4_data = current_data.query(\"platform == 'PS4'\")"
   ]
  },
  {
   "cell_type": "markdown",
   "id": "1af88323",
   "metadata": {},
   "source": [
    "##### Влияние рейтингов на продажи внутри платформы"
   ]
  },
  {
   "cell_type": "code",
   "execution_count": 44,
   "id": "9baf2e45",
   "metadata": {},
   "outputs": [],
   "source": [
    "ps4_ratings_rel = ps4_data.pivot_table(index='name', values=['critic_score', 'user_score', 'total_sales'])"
   ]
  },
  {
   "cell_type": "code",
   "execution_count": 45,
   "id": "9a48f111",
   "metadata": {},
   "outputs": [
    {
     "data": {
      "text/html": [
       "<div>\n",
       "<style scoped>\n",
       "    .dataframe tbody tr th:only-of-type {\n",
       "        vertical-align: middle;\n",
       "    }\n",
       "\n",
       "    .dataframe tbody tr th {\n",
       "        vertical-align: top;\n",
       "    }\n",
       "\n",
       "    .dataframe thead th {\n",
       "        text-align: right;\n",
       "    }\n",
       "</style>\n",
       "<table border=\"1\" class=\"dataframe\">\n",
       "  <thead>\n",
       "    <tr style=\"text-align: right;\">\n",
       "      <th></th>\n",
       "      <th>critic_score</th>\n",
       "      <th>total_sales</th>\n",
       "      <th>user_score</th>\n",
       "    </tr>\n",
       "  </thead>\n",
       "  <tbody>\n",
       "    <tr>\n",
       "      <th>critic_score</th>\n",
       "      <td>1.000000</td>\n",
       "      <td>0.406568</td>\n",
       "      <td>0.557654</td>\n",
       "    </tr>\n",
       "    <tr>\n",
       "      <th>total_sales</th>\n",
       "      <td>0.406568</td>\n",
       "      <td>1.000000</td>\n",
       "      <td>-0.031957</td>\n",
       "    </tr>\n",
       "    <tr>\n",
       "      <th>user_score</th>\n",
       "      <td>0.557654</td>\n",
       "      <td>-0.031957</td>\n",
       "      <td>1.000000</td>\n",
       "    </tr>\n",
       "  </tbody>\n",
       "</table>\n",
       "</div>"
      ],
      "text/plain": [
       "              critic_score  total_sales  user_score\n",
       "critic_score      1.000000     0.406568    0.557654\n",
       "total_sales       0.406568     1.000000   -0.031957\n",
       "user_score        0.557654    -0.031957    1.000000"
      ]
     },
     "execution_count": 45,
     "metadata": {},
     "output_type": "execute_result"
    }
   ],
   "source": [
    "ps4_ratings_rel.corr()"
   ]
  },
  {
   "cell_type": "code",
   "execution_count": 46,
   "id": "dfdbda62",
   "metadata": {},
   "outputs": [
    {
     "data": {
      "image/png": "[encoded data removed]",
      "text/plain": [
       "<Figure size 360x360 with 9 Axes>"
      ]
     },
     "metadata": {
      "needs_background": "light"
     },
     "output_type": "display_data"
    }
   ],
   "source": [
    "pd.plotting.scatter_matrix(ps4_ratings_rel, figsize=(5, 5))\n",
    "plt.tight_layout()"
   ]
  },
  {
   "cell_type": "markdown",
   "id": "e389a32f",
   "metadata": {},
   "source": [
    "**Выводы**\n",
    "- На PS4 оценки критиков показывают прямую слабую зависимость с продажами\n",
    "- Оценки пользователей показывают обратную слабую связь с продажами"
   ]
  },
  {
   "cell_type": "markdown",
   "id": "6d5eaa76",
   "metadata": {},
   "source": [
    "#### Получим данные по XBOX ONE"
   ]
  },
  {
   "cell_type": "code",
   "execution_count": 47,
   "id": "b39f25bf",
   "metadata": {},
   "outputs": [],
   "source": [
    "xone_data = current_data.query(\"platform == 'XOne'\")"
   ]
  },
  {
   "cell_type": "code",
   "execution_count": 48,
   "id": "cd69dfcf",
   "metadata": {},
   "outputs": [],
   "source": [
    "xone_ratings_rel = xone_data.pivot_table(index='name',\n",
    "                                         values=['critic_score', 'user_score', 'total_sales'])"
   ]
  },
  {
   "cell_type": "code",
   "execution_count": 49,
   "id": "0826587d",
   "metadata": {},
   "outputs": [
    {
     "data": {
      "text/html": [
       "<div>\n",
       "<style scoped>\n",
       "    .dataframe tbody tr th:only-of-type {\n",
       "        vertical-align: middle;\n",
       "    }\n",
       "\n",
       "    .dataframe tbody tr th {\n",
       "        vertical-align: top;\n",
       "    }\n",
       "\n",
       "    .dataframe thead th {\n",
       "        text-align: right;\n",
       "    }\n",
       "</style>\n",
       "<table border=\"1\" class=\"dataframe\">\n",
       "  <thead>\n",
       "    <tr style=\"text-align: right;\">\n",
       "      <th></th>\n",
       "      <th>critic_score</th>\n",
       "      <th>total_sales</th>\n",
       "      <th>user_score</th>\n",
       "    </tr>\n",
       "  </thead>\n",
       "  <tbody>\n",
       "    <tr>\n",
       "      <th>critic_score</th>\n",
       "      <td>1.000000</td>\n",
       "      <td>0.416998</td>\n",
       "      <td>0.472462</td>\n",
       "    </tr>\n",
       "    <tr>\n",
       "      <th>total_sales</th>\n",
       "      <td>0.416998</td>\n",
       "      <td>1.000000</td>\n",
       "      <td>-0.068925</td>\n",
       "    </tr>\n",
       "    <tr>\n",
       "      <th>user_score</th>\n",
       "      <td>0.472462</td>\n",
       "      <td>-0.068925</td>\n",
       "      <td>1.000000</td>\n",
       "    </tr>\n",
       "  </tbody>\n",
       "</table>\n",
       "</div>"
      ],
      "text/plain": [
       "              critic_score  total_sales  user_score\n",
       "critic_score      1.000000     0.416998    0.472462\n",
       "total_sales       0.416998     1.000000   -0.068925\n",
       "user_score        0.472462    -0.068925    1.000000"
      ]
     },
     "execution_count": 49,
     "metadata": {},
     "output_type": "execute_result"
    }
   ],
   "source": [
    "xone_ratings_rel.corr()"
   ]
  },
  {
   "cell_type": "markdown",
   "id": "d7dcb9a3",
   "metadata": {},
   "source": [
    "#### Получим данные по 3ds"
   ]
  },
  {
   "cell_type": "code",
   "execution_count": 50,
   "id": "cfb93899",
   "metadata": {},
   "outputs": [],
   "source": [
    "ds_data = current_data.query(\"platform == '3DS'\")"
   ]
  },
  {
   "cell_type": "code",
   "execution_count": 51,
   "id": "199de0f8",
   "metadata": {},
   "outputs": [],
   "source": [
    "ds_ratings_rel = ds_data.pivot_table(index='name',\n",
    "                                         values=['critic_score', 'user_score', 'total_sales'])"
   ]
  },
  {
   "cell_type": "code",
   "execution_count": 52,
   "id": "38a635fe",
   "metadata": {},
   "outputs": [
    {
     "data": {
      "text/html": [
       "<div>\n",
       "<style scoped>\n",
       "    .dataframe tbody tr th:only-of-type {\n",
       "        vertical-align: middle;\n",
       "    }\n",
       "\n",
       "    .dataframe tbody tr th {\n",
       "        vertical-align: top;\n",
       "    }\n",
       "\n",
       "    .dataframe thead th {\n",
       "        text-align: right;\n",
       "    }\n",
       "</style>\n",
       "<table border=\"1\" class=\"dataframe\">\n",
       "  <thead>\n",
       "    <tr style=\"text-align: right;\">\n",
       "      <th></th>\n",
       "      <th>critic_score</th>\n",
       "      <th>total_sales</th>\n",
       "      <th>user_score</th>\n",
       "    </tr>\n",
       "  </thead>\n",
       "  <tbody>\n",
       "    <tr>\n",
       "      <th>critic_score</th>\n",
       "      <td>1.000000</td>\n",
       "      <td>0.357057</td>\n",
       "      <td>0.769536</td>\n",
       "    </tr>\n",
       "    <tr>\n",
       "      <th>total_sales</th>\n",
       "      <td>0.357057</td>\n",
       "      <td>1.000000</td>\n",
       "      <td>0.241504</td>\n",
       "    </tr>\n",
       "    <tr>\n",
       "      <th>user_score</th>\n",
       "      <td>0.769536</td>\n",
       "      <td>0.241504</td>\n",
       "      <td>1.000000</td>\n",
       "    </tr>\n",
       "  </tbody>\n",
       "</table>\n",
       "</div>"
      ],
      "text/plain": [
       "              critic_score  total_sales  user_score\n",
       "critic_score      1.000000     0.357057    0.769536\n",
       "total_sales       0.357057     1.000000    0.241504\n",
       "user_score        0.769536     0.241504    1.000000"
      ]
     },
     "execution_count": 52,
     "metadata": {},
     "output_type": "execute_result"
    }
   ],
   "source": [
    "ds_ratings_rel.corr()"
   ]
  },
  {
   "cell_type": "markdown",
   "id": "67e17360",
   "metadata": {},
   "source": [
    "**Выводы**\n",
    "- Похожее соотношение наблюдается на других проверенных платформах."
   ]
  },
  {
   "cell_type": "markdown",
   "id": "681f6a08",
   "metadata": {},
   "source": [
    "#### Иследование по жанрам"
   ]
  },
  {
   "cell_type": "code",
   "execution_count": 53,
   "id": "687df4f1",
   "metadata": {},
   "outputs": [
    {
     "data": {
      "image/png": "[encoded data removed]",
      "text/plain": [
       "<Figure size 720x720 with 1 Axes>"
      ]
     },
     "metadata": {
      "needs_background": "light"
     },
     "output_type": "display_data"
    }
   ],
   "source": [
    "fig = plt.figure(figsize=(10, 10))\n",
    "sns.barplot(x='genre', y='total_sales', \n",
    "            data=current_data)\n",
    "plt.grid()\n",
    "plt.show()"
   ]
  },
  {
   "cell_type": "markdown",
   "id": "9c8e089b",
   "metadata": {},
   "source": [
    "**Выводы**\n",
    "\n",
    "- Наиболее популярными жанрами этого  являются шутеры и спортивные игры. Причем шутеры сильно лидируют относительно всех других жанров\n",
    "- Наименьшей популярностью полбзуются игры в жанре puzzle, adventure и strategy, возможно это связанно еще и с относительно невысоким колличеством новых игр в этих жанрах."
   ]
  },
  {
   "cell_type": "markdown",
   "id": "4d15a434",
   "metadata": {},
   "source": [
    "#### Портрет пользователя каждого региона"
   ]
  },
  {
   "cell_type": "markdown",
   "id": "02297120",
   "metadata": {},
   "source": [
    "##### Популярность платформ для каждого региона"
   ]
  },
  {
   "cell_type": "code",
   "execution_count": 54,
   "id": "0bbda6f3",
   "metadata": {},
   "outputs": [
    {
     "data": {
      "text/plain": [
       "platform\n",
       "PS4     108.74\n",
       "XOne     93.12\n",
       "X360     81.66\n",
       "PS3      63.50\n",
       "3DS      38.20\n",
       "Name: na_sales, dtype: float64"
      ]
     },
     "execution_count": 54,
     "metadata": {},
     "output_type": "execute_result"
    }
   ],
   "source": [
    "na_top_platforms = current_data.groupby('platform')['na_sales'].sum()\n",
    "na_top_platforms.sort_values(ascending=False).head()"
   ]
  },
  {
   "cell_type": "code",
   "execution_count": 55,
   "id": "f874c4f0",
   "metadata": {},
   "outputs": [
    {
     "data": {
      "image/png": "[encoded data removed]",
      "text/plain": [
       "<Figure size 360x360 with 1 Axes>"
      ]
     },
     "metadata": {},
     "output_type": "display_data"
    }
   ],
   "source": [
    "fig = plt.figure(figsize=(5, 5))\n",
    "plt.pie(na_top_platforms, labels=na_top_platforms.index, autopct='%.0f%%')\n",
    "plt.show()"
   ]
  },
  {
   "cell_type": "code",
   "execution_count": 56,
   "id": "13742e35",
   "metadata": {
    "scrolled": true
   },
   "outputs": [
    {
     "data": {
      "text/plain": [
       "platform\n",
       "3DS     67.81\n",
       "PS3     23.35\n",
       "PSV     18.59\n",
       "PS4     15.96\n",
       "WiiU    10.88\n",
       "Name: jp_sales, dtype: float64"
      ]
     },
     "execution_count": 56,
     "metadata": {},
     "output_type": "execute_result"
    }
   ],
   "source": [
    "jp_top_platforms = current_data.groupby('platform')['jp_sales'].sum()\n",
    "jp_top_platforms.sort_values(ascending=False).head()"
   ]
  },
  {
   "cell_type": "code",
   "execution_count": 57,
   "id": "e37ec0e3",
   "metadata": {},
   "outputs": [
    {
     "data": {
      "image/png": "[encoded data removed]",
      "text/plain": [
       "<Figure size 360x360 with 1 Axes>"
      ]
     },
     "metadata": {},
     "output_type": "display_data"
    }
   ],
   "source": [
    "fig = plt.figure(figsize=(5, 5))\n",
    "plt.pie(jp_top_platforms, labels=jp_top_platforms.index, autopct='%.0f%%')\n",
    "plt.show()"
   ]
  },
  {
   "cell_type": "code",
   "execution_count": 58,
   "id": "58971855",
   "metadata": {
    "scrolled": false
   },
   "outputs": [
    {
     "data": {
      "text/plain": [
       "platform\n",
       "PS4     141.09\n",
       "PS3      67.81\n",
       "XOne     51.59\n",
       "X360     42.52\n",
       "3DS      30.96\n",
       "Name: eu_sales, dtype: float64"
      ]
     },
     "execution_count": 58,
     "metadata": {},
     "output_type": "execute_result"
    }
   ],
   "source": [
    "eu_top_platforms = current_data.groupby('platform')['eu_sales'].sum()\n",
    "eu_top_platforms.sort_values(ascending=False).head()"
   ]
  },
  {
   "cell_type": "code",
   "execution_count": 59,
   "id": "a86b461c",
   "metadata": {},
   "outputs": [
    {
     "data": {
      "image/png": "[encoded data removed]",
      "text/plain": [
       "<Figure size 360x360 with 1 Axes>"
      ]
     },
     "metadata": {},
     "output_type": "display_data"
    }
   ],
   "source": [
    "fig = plt.figure(figsize=(5, 5))\n",
    "plt.pie(eu_top_platforms, labels=eu_top_platforms.index, autopct='%.0f%%')\n",
    "plt.show()"
   ]
  },
  {
   "cell_type": "markdown",
   "id": "2354d3dc",
   "metadata": {},
   "source": [
    "**Вывод**\n",
    "- В NA и EU рынках приобладают консоли больших производителей, а за ними следуют популярные портативные консоли\n",
    "- Однако в EU рынке оба поколения платформ крупных производителей следуют друг за другом, что может сведетельствовать о более медленном темпе перехода пользователей на платформы последнего поколения PC так же держит более высокие позиции сравнительно с NA\n",
    "- В JP рынке преобладют портативные консоли, что связано с тем, что большАя часть досуга подобного рода происходит во время поездки на учебу или работу. Еще одной причиной является относительно небольшая площадь жилых помещений. Отсутствие интереса в продуктах Microsoft то же явдяется историческим фактором."
   ]
  },
  {
   "cell_type": "markdown",
   "id": "0bc122bb",
   "metadata": {},
   "source": [
    "##### Популярность жанров  для каждого региона"
   ]
  },
  {
   "cell_type": "code",
   "execution_count": 60,
   "id": "4e4e472b",
   "metadata": {},
   "outputs": [
    {
     "data": {
      "text/plain": [
       "genre\n",
       "Action          126.05\n",
       "Shooter         109.74\n",
       "Sports           65.27\n",
       "Role-Playing     46.40\n",
       "Misc             27.49\n",
       "Name: na_sales, dtype: float64"
      ]
     },
     "execution_count": 60,
     "metadata": {},
     "output_type": "execute_result"
    }
   ],
   "source": [
    "na_top_genres = current_data.groupby('genre')['na_sales'].sum()\n",
    "na_top_genres.sort_values(ascending=False).head()"
   ]
  },
  {
   "cell_type": "code",
   "execution_count": 61,
   "id": "ff9cbf55",
   "metadata": {},
   "outputs": [
    {
     "data": {
      "text/plain": [
       "genre\n",
       "Role-Playing    51.04\n",
       "Action          40.49\n",
       "Misc             9.20\n",
       "Fighting         7.65\n",
       "Shooter          6.61\n",
       "Name: jp_sales, dtype: float64"
      ]
     },
     "execution_count": 61,
     "metadata": {},
     "output_type": "execute_result"
    }
   ],
   "source": [
    "jp_top_genres = current_data.groupby('genre')['jp_sales'].sum()\n",
    "jp_top_genres.sort_values(ascending=False).head().head()"
   ]
  },
  {
   "cell_type": "code",
   "execution_count": 62,
   "id": "282d2ac8",
   "metadata": {},
   "outputs": [
    {
     "data": {
      "text/plain": [
       "genre\n",
       "Action          118.13\n",
       "Shooter          87.86\n",
       "Sports           60.52\n",
       "Role-Playing     36.97\n",
       "Racing           20.19\n",
       "Name: eu_sales, dtype: float64"
      ]
     },
     "execution_count": 62,
     "metadata": {},
     "output_type": "execute_result"
    }
   ],
   "source": [
    "eu_top_genres = current_data.groupby('genre')['eu_sales'].sum()\n",
    "eu_top_genres.sort_values(ascending=False).head()"
   ]
  },
  {
   "cell_type": "markdown",
   "id": "cfeb1e12",
   "metadata": {},
   "source": [
    "При общей популярности жанров Action, Shooter и Role-Playing В EU выделяется более высокая популярность жанра Racing а в JP Fighting\n"
   ]
  },
  {
   "cell_type": "markdown",
   "id": "e8fdf687",
   "metadata": {},
   "source": [
    "##### Влияние ESRB на продажи в регионах"
   ]
  },
  {
   "cell_type": "code",
   "execution_count": 63,
   "id": "c7f2b287",
   "metadata": {},
   "outputs": [
    {
     "data": {
      "image/png": "[encoded data removed]",
      "text/plain": [
       "<Figure size 720x720 with 1 Axes>"
      ]
     },
     "metadata": {
      "needs_background": "light"
     },
     "output_type": "display_data"
    }
   ],
   "source": [
    "fig = plt.figure(figsize=(10, 10))\n",
    "sns.barplot(x='rating', y='na_sales', \n",
    "            data=current_data)\n",
    "plt.grid()\n",
    "plt.show()"
   ]
  },
  {
   "cell_type": "code",
   "execution_count": 64,
   "id": "698a0e06",
   "metadata": {},
   "outputs": [
    {
     "data": {
      "image/png": "[encoded data removed]",
      "text/plain": [
       "<Figure size 720x720 with 1 Axes>"
      ]
     },
     "metadata": {
      "needs_background": "light"
     },
     "output_type": "display_data"
    }
   ],
   "source": [
    "fig = plt.figure(figsize=(10, 10))\n",
    "sns.barplot(x='rating', y='jp_sales', \n",
    "            data=current_data)\n",
    "plt.grid()\n",
    "plt.show()"
   ]
  },
  {
   "cell_type": "code",
   "execution_count": 65,
   "id": "1347ed89",
   "metadata": {},
   "outputs": [
    {
     "data": {
      "image/png": "[encoded data removed]",
      "text/plain": [
       "<Figure size 720x720 with 1 Axes>"
      ]
     },
     "metadata": {
      "needs_background": "light"
     },
     "output_type": "display_data"
    }
   ],
   "source": [
    "fig = plt.figure(figsize=(10, 10))\n",
    "sns.barplot(x='rating', y='eu_sales', \n",
    "            data=current_data)\n",
    "plt.grid()\n",
    "plt.show()"
   ]
  },
  {
   "cell_type": "markdown",
   "id": "4c90dee8",
   "metadata": {},
   "source": [
    "**Выводы**\n",
    "- В NA и EU рынках пользуются спросом продукты категории M. Чему способствует довольно большое колличество исторических и социологических факторов. Отражаемых часто даже в визуальном дизайне маркетингово материала для этих регионов.\n",
    "- Среди продуктов оцененных ESRB JP рынке преобладают продукты категории T и Е, что во многом может быть связанно еще и с публичностью данного рода досуга в этом регионе. Крайне высокий показатель \"Не оцененных\" игр может объясняться наличием в японии своей организации по оценке контента игр - CERO.  "
   ]
  },
  {
   "cell_type": "markdown",
   "id": "2a73494e",
   "metadata": {},
   "source": [
    "#### Проверка Гипотез"
   ]
  },
  {
   "cell_type": "markdown",
   "id": "647dcf88",
   "metadata": {},
   "source": [
    "##### Средние пользовательские рейтинги платформ Xbox One и PC одинаковые "
   ]
  },
  {
   "cell_type": "markdown",
   "id": "96ad3b58",
   "metadata": {},
   "source": [
    "```\n",
    "H_0: Пользовательские оценки (user_score) пользователей PC ≠ Пользовательские оценки (user_score) пользователей XBOX ONE`\n",
    "H_a: Пользовательские оценки (user_score) пользователей PC = Пользовательские оценки (user_score) пользователей XBOX ONE`\n",
    "alpha = 0.05\n",
    "```"
   ]
  },
  {
   "cell_type": "markdown",
   "id": "efa9230c",
   "metadata": {},
   "source": [
    "##### Подготовим выборки"
   ]
  },
  {
   "cell_type": "code",
   "execution_count": 66,
   "id": "a0492ee0",
   "metadata": {},
   "outputs": [],
   "source": [
    "sample1 = current_data[(current_data['platform'] == 'PC')]['user_score'] "
   ]
  },
  {
   "cell_type": "code",
   "execution_count": 67,
   "id": "dcdf14e2",
   "metadata": {},
   "outputs": [],
   "source": [
    "sample1 = sample1.dropna()"
   ]
  },
  {
   "cell_type": "code",
   "execution_count": 68,
   "id": "550621b8",
   "metadata": {},
   "outputs": [],
   "source": [
    "sample2 = current_data[(current_data['platform'] == 'XOne')]['user_score'] "
   ]
  },
  {
   "cell_type": "code",
   "execution_count": 69,
   "id": "02a4f566",
   "metadata": {},
   "outputs": [],
   "source": [
    "sample2 = sample2.dropna()\n"
   ]
  },
  {
   "cell_type": "code",
   "execution_count": 70,
   "id": "ba86fcd7",
   "metadata": {},
   "outputs": [
    {
     "name": "stdout",
     "output_type": "stream",
     "text": [
      "0.14012658403611647\n",
      "Не получилось отвергнуть нулевую гипотезу\n"
     ]
    }
   ],
   "source": [
    "alpha =  0.05 \n",
    "\n",
    "results = st.ttest_ind(\n",
    "    sample1, \n",
    "    sample2)\n",
    "\n",
    "print(results.pvalue)\n",
    "\n",
    "\n",
    "if results.pvalue < alpha: \n",
    "    print(\"Отвергаем нулевую гипотезу\")\n",
    "else:\n",
    "    print(\"Не получилось отвергнуть нулевую гипотезу\")"
   ]
  },
  {
   "cell_type": "markdown",
   "id": "eb568931",
   "metadata": {},
   "source": [
    "##### Средние пользовательские рейтинги жанров Action и Sports разные."
   ]
  },
  {
   "cell_type": "markdown",
   "id": "f7a69f5a",
   "metadata": {},
   "source": [
    "```\n",
    "H_0: Пользовательские оценки (user_score) жанрa Action = Пользовательские оценки (user_score) жанрa Sport`\n",
    "H_a: Пользовательские оценки (user_score) жанрa Action ≠ Пользовательские оценки (user_score) жанрa Sport`\n",
    "alpha = 0.05\n",
    "```"
   ]
  },
  {
   "cell_type": "code",
   "execution_count": 71,
   "id": "cfbbe88e",
   "metadata": {},
   "outputs": [],
   "source": [
    "sample1 = current_data[(current_data['genre'] == 'Action')]['user_score']\n"
   ]
  },
  {
   "cell_type": "code",
   "execution_count": 72,
   "id": "a4483d7d",
   "metadata": {},
   "outputs": [],
   "source": [
    "sample1 = sample1.dropna()"
   ]
  },
  {
   "cell_type": "code",
   "execution_count": 73,
   "id": "b22c84a8",
   "metadata": {},
   "outputs": [],
   "source": [
    "sample2 = current_data[(current_data['genre'] == 'Sports')]['user_score']\n"
   ]
  },
  {
   "cell_type": "code",
   "execution_count": 74,
   "id": "d39c463d",
   "metadata": {},
   "outputs": [],
   "source": [
    "sample2 = sample2.dropna()"
   ]
  },
  {
   "cell_type": "code",
   "execution_count": 75,
   "id": "630fee90",
   "metadata": {},
   "outputs": [
    {
     "name": "stdout",
     "output_type": "stream",
     "text": [
      "1.0517832389140023e-27\n",
      "Отвергаем нулевую гипотезу\n"
     ]
    }
   ],
   "source": [
    "\n",
    "alpha =  0.05 \n",
    "\n",
    "results = st.ttest_ind(\n",
    "    sample1, \n",
    "    sample2) \n",
    "\n",
    "print(results.pvalue)\n",
    "\n",
    "if results.pvalue < alpha: \n",
    "    print(\"Отвергаем нулевую гипотезу\")\n",
    "else:\n",
    "    print(\"Не получилось отвергнуть нулевую гипотезу\")"
   ]
  },
  {
   "cell_type": "markdown",
   "id": "76211a5e",
   "metadata": {},
   "source": [
    "Обе гипотезы проверял методом st.ttest_ind"
   ]
  },
  {
   "cell_type": "markdown",
   "id": "5ac1cb01",
   "metadata": {},
   "source": [
    "#### Общий вывод"
   ]
  },
  {
   "cell_type": "markdown",
   "id": "f3063710",
   "metadata": {},
   "source": [
    "**Рекомендации по платформам**\n",
    "\n",
    "В ходе исследования рынка платформ были выявлены несколько лидирующих производителей. Это \"большие\" консоли от xbox и playstation и портативные консоли от Nintendo. При этом если на NA и EU рынках более популярны \"большие\" консоли то на JP рынках большей популярностью пользуются портативные варианты.\n",
    "\n",
    "**Прогнозы по платформам**\n",
    "\n",
    "Имеет смысл следить за новостями от крупных производителей представленных в иследовании (Playstation, Microsoft, Nintendo) ведь именно они стабильно являются лидерами в своих сегментах. \n",
    "\n",
    "**Рекомендации по жанрам**\n",
    "\n",
    "Хотя  продукты в жанрах Action, Shooter, Role-playing популярны во всех рынках стоит отметить еще и тот факт, что в этих жанрах впринципе производится большое колличество продуктов.\n",
    "\n",
    "Отдельно стоит отметить, что для многих покупателей жанр Sports будет являтся \"основным\". Существенное количество покупателей NA и EU рынков готовы будут переходить на более новые платформы, чтобы следить за предпочитаемыми ими спортивными франчайзами.\n",
    "\n",
    "Стоит отдельно отметить популярность игр в жанре Racing на EU рынке и Fighting на рынке JP\n",
    "\n",
    "**Прогнозы по жанрам**\n",
    "\n",
    "Жанровые предпочтения пользователей наврятли существенно изменятся в ближайшее время.\n",
    "\n",
    "**О соотношении оценок и продаж**\n",
    "\n",
    "В ходе исследования не было выявленно слишеом сильного соотношения между оценками пользователей и критиков и продажами. А с ростом популярности стриминговых платформ эти соотношения могут уменьшиться еще сильнее.\n",
    "\n",
    "**О влияние рейтингов ESRB на продажи**\n",
    "\n",
    "На NA и EU рынках высокой популярностью пользуются продукты рейтинга M это стоит учитывать при подготовке маркетинговых кампаний.\n",
    "\n",
    "JP рынок имеет свою собственную организацию по оценке контента игр поэтлму рейтинг ESRB может иметь там меньшее значение.\n",
    "\n",
    "**О гипотезах**\n",
    "\n",
    "Первую гипотезу пришлось опровергнуть. Вторую принять."
   ]
  },
  {
   "cell_type": "code",
   "execution_count": null,
   "id": "f15414a2",
   "metadata": {},
   "outputs": [],
   "source": []
  }
 ],
 "metadata": {
  "ExecuteTimeLog": [
   {
    "duration": 1242,
    "start_time": "2022-10-08T10:53:26.239Z"
   },
   {
    "duration": 113,
    "start_time": "2022-10-08T10:53:27.483Z"
   },
   {
    "duration": 0,
    "start_time": "2022-10-08T10:53:27.601Z"
   },
   {
    "duration": 0,
    "start_time": "2022-10-08T10:53:27.603Z"
   },
   {
    "duration": 0,
    "start_time": "2022-10-08T10:53:27.605Z"
   },
   {
    "duration": 0,
    "start_time": "2022-10-08T10:53:27.606Z"
   },
   {
    "duration": 0,
    "start_time": "2022-10-08T10:53:27.608Z"
   },
   {
    "duration": 0,
    "start_time": "2022-10-08T10:53:27.609Z"
   },
   {
    "duration": 0,
    "start_time": "2022-10-08T10:53:27.611Z"
   },
   {
    "duration": 0,
    "start_time": "2022-10-08T10:53:27.612Z"
   },
   {
    "duration": 0,
    "start_time": "2022-10-08T10:53:27.614Z"
   },
   {
    "duration": 0,
    "start_time": "2022-10-08T10:53:27.615Z"
   },
   {
    "duration": 0,
    "start_time": "2022-10-08T10:53:27.616Z"
   },
   {
    "duration": 0,
    "start_time": "2022-10-08T10:53:27.617Z"
   },
   {
    "duration": 0,
    "start_time": "2022-10-08T10:53:27.618Z"
   },
   {
    "duration": 0,
    "start_time": "2022-10-08T10:53:27.655Z"
   },
   {
    "duration": 0,
    "start_time": "2022-10-08T10:53:27.656Z"
   },
   {
    "duration": 0,
    "start_time": "2022-10-08T10:53:27.658Z"
   },
   {
    "duration": 0,
    "start_time": "2022-10-08T10:53:27.659Z"
   },
   {
    "duration": 0,
    "start_time": "2022-10-08T10:53:27.661Z"
   },
   {
    "duration": 0,
    "start_time": "2022-10-08T10:53:27.662Z"
   },
   {
    "duration": 0,
    "start_time": "2022-10-08T10:53:27.664Z"
   },
   {
    "duration": 0,
    "start_time": "2022-10-08T10:53:27.666Z"
   },
   {
    "duration": 0,
    "start_time": "2022-10-08T10:53:27.667Z"
   },
   {
    "duration": 0,
    "start_time": "2022-10-08T10:53:27.669Z"
   },
   {
    "duration": 0,
    "start_time": "2022-10-08T10:53:27.671Z"
   },
   {
    "duration": 0,
    "start_time": "2022-10-08T10:53:27.672Z"
   },
   {
    "duration": 0,
    "start_time": "2022-10-08T10:53:27.674Z"
   },
   {
    "duration": 0,
    "start_time": "2022-10-08T10:53:27.675Z"
   },
   {
    "duration": 0,
    "start_time": "2022-10-08T10:53:27.677Z"
   },
   {
    "duration": 0,
    "start_time": "2022-10-08T10:53:27.678Z"
   },
   {
    "duration": 0,
    "start_time": "2022-10-08T10:53:27.679Z"
   },
   {
    "duration": 0,
    "start_time": "2022-10-08T10:53:27.680Z"
   },
   {
    "duration": 0,
    "start_time": "2022-10-08T10:53:27.682Z"
   },
   {
    "duration": 0,
    "start_time": "2022-10-08T10:53:27.683Z"
   },
   {
    "duration": 0,
    "start_time": "2022-10-08T10:53:27.684Z"
   },
   {
    "duration": 0,
    "start_time": "2022-10-08T10:53:27.686Z"
   },
   {
    "duration": 0,
    "start_time": "2022-10-08T10:53:27.686Z"
   },
   {
    "duration": 0,
    "start_time": "2022-10-08T10:53:27.687Z"
   },
   {
    "duration": 0,
    "start_time": "2022-10-08T10:53:27.689Z"
   },
   {
    "duration": 0,
    "start_time": "2022-10-08T10:53:27.690Z"
   },
   {
    "duration": 0,
    "start_time": "2022-10-08T10:53:27.691Z"
   },
   {
    "duration": 0,
    "start_time": "2022-10-08T10:53:27.692Z"
   },
   {
    "duration": 0,
    "start_time": "2022-10-08T10:53:27.754Z"
   },
   {
    "duration": 0,
    "start_time": "2022-10-08T10:53:27.755Z"
   },
   {
    "duration": 0,
    "start_time": "2022-10-08T10:53:27.757Z"
   },
   {
    "duration": 0,
    "start_time": "2022-10-08T10:53:27.758Z"
   },
   {
    "duration": 0,
    "start_time": "2022-10-08T10:53:27.759Z"
   },
   {
    "duration": 0,
    "start_time": "2022-10-08T10:53:27.760Z"
   },
   {
    "duration": 0,
    "start_time": "2022-10-08T10:53:27.761Z"
   },
   {
    "duration": 0,
    "start_time": "2022-10-08T10:53:27.762Z"
   },
   {
    "duration": 0,
    "start_time": "2022-10-08T10:53:27.763Z"
   },
   {
    "duration": 0,
    "start_time": "2022-10-08T10:53:27.764Z"
   },
   {
    "duration": 0,
    "start_time": "2022-10-08T10:53:27.766Z"
   },
   {
    "duration": 0,
    "start_time": "2022-10-08T10:53:27.767Z"
   },
   {
    "duration": 0,
    "start_time": "2022-10-08T10:53:27.768Z"
   },
   {
    "duration": 0,
    "start_time": "2022-10-08T10:53:27.769Z"
   },
   {
    "duration": 0,
    "start_time": "2022-10-08T10:53:27.770Z"
   },
   {
    "duration": 0,
    "start_time": "2022-10-08T10:53:27.771Z"
   },
   {
    "duration": 0,
    "start_time": "2022-10-08T10:53:27.772Z"
   },
   {
    "duration": 0,
    "start_time": "2022-10-08T10:53:27.773Z"
   },
   {
    "duration": 0,
    "start_time": "2022-10-08T10:53:27.774Z"
   },
   {
    "duration": 0,
    "start_time": "2022-10-08T10:53:27.775Z"
   },
   {
    "duration": 57,
    "start_time": "2022-10-08T10:54:28.460Z"
   },
   {
    "duration": 1401,
    "start_time": "2022-10-08T10:54:34.418Z"
   },
   {
    "duration": 56,
    "start_time": "2022-10-08T10:54:35.821Z"
   },
   {
    "duration": 19,
    "start_time": "2022-10-08T10:54:35.879Z"
   },
   {
    "duration": 15,
    "start_time": "2022-10-08T10:54:35.900Z"
   },
   {
    "duration": 60,
    "start_time": "2022-10-08T10:54:35.917Z"
   },
   {
    "duration": 1063,
    "start_time": "2022-10-08T10:54:35.979Z"
   },
   {
    "duration": 25,
    "start_time": "2022-10-08T10:54:37.043Z"
   },
   {
    "duration": 10,
    "start_time": "2022-10-08T10:54:37.070Z"
   },
   {
    "duration": 13,
    "start_time": "2022-10-08T10:54:37.082Z"
   },
   {
    "duration": 3,
    "start_time": "2022-10-08T10:54:37.098Z"
   },
   {
    "duration": 57,
    "start_time": "2022-10-08T10:54:37.102Z"
   },
   {
    "duration": 9,
    "start_time": "2022-10-08T10:54:37.161Z"
   },
   {
    "duration": 16,
    "start_time": "2022-10-08T10:54:37.172Z"
   },
   {
    "duration": 65,
    "start_time": "2022-10-08T10:54:37.190Z"
   },
   {
    "duration": 15,
    "start_time": "2022-10-08T10:54:37.257Z"
   },
   {
    "duration": 8,
    "start_time": "2022-10-08T10:54:37.274Z"
   },
   {
    "duration": 8,
    "start_time": "2022-10-08T10:54:37.283Z"
   },
   {
    "duration": 11,
    "start_time": "2022-10-08T10:54:37.293Z"
   },
   {
    "duration": 20,
    "start_time": "2022-10-08T10:54:37.353Z"
   },
   {
    "duration": 6,
    "start_time": "2022-10-08T10:54:37.375Z"
   },
   {
    "duration": 17,
    "start_time": "2022-10-08T10:54:37.384Z"
   },
   {
    "duration": 56,
    "start_time": "2022-10-08T10:54:37.403Z"
   },
   {
    "duration": 17,
    "start_time": "2022-10-08T10:54:37.461Z"
   },
   {
    "duration": 401,
    "start_time": "2022-10-08T10:54:37.479Z"
   },
   {
    "duration": 17,
    "start_time": "2022-10-08T10:54:37.882Z"
   },
   {
    "duration": 4,
    "start_time": "2022-10-08T10:54:37.953Z"
   },
   {
    "duration": 16,
    "start_time": "2022-10-08T10:54:37.959Z"
   },
   {
    "duration": 8,
    "start_time": "2022-10-08T10:54:37.981Z"
   },
   {
    "duration": 9,
    "start_time": "2022-10-08T10:54:37.991Z"
   },
   {
    "duration": 60,
    "start_time": "2022-10-08T10:54:38.002Z"
   },
   {
    "duration": 5,
    "start_time": "2022-10-08T10:54:38.064Z"
   },
   {
    "duration": 11,
    "start_time": "2022-10-08T10:54:38.072Z"
   },
   {
    "duration": 6,
    "start_time": "2022-10-08T10:54:38.085Z"
   },
   {
    "duration": 70,
    "start_time": "2022-10-08T10:54:38.093Z"
   },
   {
    "duration": 1741,
    "start_time": "2022-10-08T10:54:38.165Z"
   },
   {
    "duration": 536,
    "start_time": "2022-10-08T10:54:39.908Z"
   },
   {
    "duration": 15,
    "start_time": "2022-10-08T10:54:40.445Z"
   },
   {
    "duration": 36,
    "start_time": "2022-10-08T10:54:40.462Z"
   },
   {
    "duration": 17,
    "start_time": "2022-10-08T10:54:40.500Z"
   },
   {
    "duration": 9,
    "start_time": "2022-10-08T10:54:40.519Z"
   },
   {
    "duration": 271,
    "start_time": "2022-10-08T10:54:40.530Z"
   },
   {
    "duration": 7,
    "start_time": "2022-10-08T10:54:40.803Z"
   },
   {
    "duration": 24,
    "start_time": "2022-10-08T10:54:40.812Z"
   },
   {
    "duration": 24,
    "start_time": "2022-10-08T10:54:40.838Z"
   },
   {
    "duration": 775,
    "start_time": "2022-10-08T10:54:40.865Z"
   },
   {
    "duration": 14,
    "start_time": "2022-10-08T10:54:41.642Z"
   },
   {
    "duration": 38,
    "start_time": "2022-10-08T10:54:41.658Z"
   },
   {
    "duration": 24,
    "start_time": "2022-10-08T10:54:41.699Z"
   },
   {
    "duration": 585,
    "start_time": "2022-10-08T10:54:41.725Z"
   },
   {
    "duration": 9,
    "start_time": "2022-10-08T10:54:42.313Z"
   },
   {
    "duration": 158,
    "start_time": "2022-10-08T10:54:42.324Z"
   },
   {
    "duration": 8,
    "start_time": "2022-10-08T10:54:42.484Z"
   },
   {
    "duration": 162,
    "start_time": "2022-10-08T10:54:42.494Z"
   },
   {
    "duration": 10,
    "start_time": "2022-10-08T10:54:42.659Z"
   },
   {
    "duration": 188,
    "start_time": "2022-10-08T10:54:42.671Z"
   },
   {
    "duration": 8,
    "start_time": "2022-10-08T10:54:42.861Z"
   },
   {
    "duration": 24,
    "start_time": "2022-10-08T10:54:42.871Z"
   },
   {
    "duration": 14,
    "start_time": "2022-10-08T10:54:42.897Z"
   },
   {
    "duration": 422,
    "start_time": "2022-10-08T10:54:42.912Z"
   },
   {
    "duration": 247,
    "start_time": "2022-10-08T10:54:43.335Z"
   },
   {
    "duration": 243,
    "start_time": "2022-10-08T10:54:43.583Z"
   },
   {
    "duration": 8,
    "start_time": "2022-10-08T10:54:43.828Z"
   },
   {
    "duration": 30,
    "start_time": "2022-10-08T10:54:43.839Z"
   },
   {
    "duration": 1184,
    "start_time": "2022-10-08T11:16:43.028Z"
   },
   {
    "duration": 54,
    "start_time": "2022-10-08T11:16:44.214Z"
   },
   {
    "duration": 19,
    "start_time": "2022-10-08T11:16:44.269Z"
   },
   {
    "duration": 16,
    "start_time": "2022-10-08T11:16:44.289Z"
   },
   {
    "duration": 28,
    "start_time": "2022-10-08T11:16:44.307Z"
   },
   {
    "duration": 994,
    "start_time": "2022-10-08T11:16:44.354Z"
   },
   {
    "duration": 18,
    "start_time": "2022-10-08T11:16:45.350Z"
   },
   {
    "duration": 8,
    "start_time": "2022-10-08T11:16:45.370Z"
   },
   {
    "duration": 12,
    "start_time": "2022-10-08T11:16:45.380Z"
   },
   {
    "duration": 3,
    "start_time": "2022-10-08T11:16:45.394Z"
   },
   {
    "duration": 9,
    "start_time": "2022-10-08T11:16:45.399Z"
   },
   {
    "duration": 6,
    "start_time": "2022-10-08T11:16:45.409Z"
   },
   {
    "duration": 45,
    "start_time": "2022-10-08T11:16:45.417Z"
   },
   {
    "duration": 14,
    "start_time": "2022-10-08T11:16:45.465Z"
   },
   {
    "duration": 8,
    "start_time": "2022-10-08T11:16:45.481Z"
   },
   {
    "duration": 12,
    "start_time": "2022-10-08T11:16:45.491Z"
   },
   {
    "duration": 15,
    "start_time": "2022-10-08T11:16:45.505Z"
   },
   {
    "duration": 20,
    "start_time": "2022-10-08T11:16:45.522Z"
   },
   {
    "duration": 29,
    "start_time": "2022-10-08T11:16:45.543Z"
   },
   {
    "duration": 7,
    "start_time": "2022-10-08T11:16:45.574Z"
   },
   {
    "duration": 22,
    "start_time": "2022-10-08T11:16:45.583Z"
   },
   {
    "duration": 8,
    "start_time": "2022-10-08T11:16:45.607Z"
   },
   {
    "duration": 19,
    "start_time": "2022-10-08T11:16:45.617Z"
   },
   {
    "duration": 249,
    "start_time": "2022-10-08T11:16:45.638Z"
   },
   {
    "duration": 11,
    "start_time": "2022-10-08T11:16:45.889Z"
   },
   {
    "duration": 3,
    "start_time": "2022-10-08T11:16:45.902Z"
   },
   {
    "duration": 14,
    "start_time": "2022-10-08T11:16:45.907Z"
   },
   {
    "duration": 33,
    "start_time": "2022-10-08T11:16:45.923Z"
   },
   {
    "duration": 7,
    "start_time": "2022-10-08T11:16:45.958Z"
   },
   {
    "duration": 8,
    "start_time": "2022-10-08T11:16:45.967Z"
   },
   {
    "duration": 6,
    "start_time": "2022-10-08T11:16:45.976Z"
   },
   {
    "duration": 11,
    "start_time": "2022-10-08T11:16:45.983Z"
   },
   {
    "duration": 8,
    "start_time": "2022-10-08T11:16:45.996Z"
   },
   {
    "duration": 16,
    "start_time": "2022-10-08T11:16:46.006Z"
   },
   {
    "duration": 1010,
    "start_time": "2022-10-08T11:16:46.024Z"
   },
   {
    "duration": 498,
    "start_time": "2022-10-08T11:16:47.035Z"
   },
   {
    "duration": 7,
    "start_time": "2022-10-08T11:16:47.535Z"
   },
   {
    "duration": 5,
    "start_time": "2022-10-08T11:16:47.555Z"
   },
   {
    "duration": 8,
    "start_time": "2022-10-08T11:16:47.561Z"
   },
   {
    "duration": 9,
    "start_time": "2022-10-08T11:16:47.572Z"
   },
   {
    "duration": 253,
    "start_time": "2022-10-08T11:16:47.585Z"
   },
   {
    "duration": 6,
    "start_time": "2022-10-08T11:16:47.840Z"
   },
   {
    "duration": 16,
    "start_time": "2022-10-08T11:16:47.854Z"
   },
   {
    "duration": 9,
    "start_time": "2022-10-08T11:16:47.872Z"
   },
   {
    "duration": 619,
    "start_time": "2022-10-08T11:16:47.882Z"
   },
   {
    "duration": 8,
    "start_time": "2022-10-08T11:16:48.503Z"
   },
   {
    "duration": 31,
    "start_time": "2022-10-08T11:16:48.512Z"
   },
   {
    "duration": 11,
    "start_time": "2022-10-08T11:16:48.545Z"
   },
   {
    "duration": 481,
    "start_time": "2022-10-08T11:16:48.558Z"
   },
   {
    "duration": 14,
    "start_time": "2022-10-08T11:16:49.040Z"
   },
   {
    "duration": 140,
    "start_time": "2022-10-08T11:16:49.056Z"
   },
   {
    "duration": 8,
    "start_time": "2022-10-08T11:16:49.198Z"
   },
   {
    "duration": 147,
    "start_time": "2022-10-08T11:16:49.207Z"
   },
   {
    "duration": 7,
    "start_time": "2022-10-08T11:16:49.355Z"
   },
   {
    "duration": 153,
    "start_time": "2022-10-08T11:16:49.364Z"
   },
   {
    "duration": 9,
    "start_time": "2022-10-08T11:16:49.519Z"
   },
   {
    "duration": 18,
    "start_time": "2022-10-08T11:16:49.529Z"
   },
   {
    "duration": 9,
    "start_time": "2022-10-08T11:16:49.554Z"
   },
   {
    "duration": 383,
    "start_time": "2022-10-08T11:16:49.565Z"
   },
   {
    "duration": 234,
    "start_time": "2022-10-08T11:16:49.950Z"
   },
   {
    "duration": 221,
    "start_time": "2022-10-08T11:16:50.186Z"
   },
   {
    "duration": 9,
    "start_time": "2022-10-08T11:16:50.408Z"
   },
   {
    "duration": 13,
    "start_time": "2022-10-08T11:16:50.418Z"
   }
  ],
  "kernelspec": {
   "display_name": "Python 3 (ipykernel)",
   "language": "python",
   "name": "python3"
  },
  "language_info": {
   "codemirror_mode": {
    "name": "ipython",
    "version": 3
   },
   "file_extension": ".py",
   "mimetype": "text/x-python",
   "name": "python",
   "nbconvert_exporter": "python",
   "pygments_lexer": "ipython3",
   "version": "3.10.9"
  },
  "toc": {
   "base_numbering": 1,
   "nav_menu": {},
   "number_sections": true,
   "sideBar": true,
   "skip_h1_title": true,
   "title_cell": "Table of Contents",
   "title_sidebar": "Contents",
   "toc_cell": false,
   "toc_position": {},
   "toc_section_display": true,
   "toc_window_display": true
  }
 },
 "nbformat": 4,
 "nbformat_minor": 5
}
