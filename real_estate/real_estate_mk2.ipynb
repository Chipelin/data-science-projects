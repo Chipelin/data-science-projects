{
 "cells": [
  {
   "cell_type": "markdown",
   "id": "bcd6577b",
   "metadata": {},
   "source": [
    "## Яндекс Недвижимость"
   ]
  },
  {
   "cell_type": "markdown",
   "id": "6ab71689",
   "metadata": {},
   "source": [
    "В нашем распоряжении данные сервиса Яндекс Недвижимость — архив объявлений за несколько лет о продаже квартир в Санкт-Петербурге и соседних населённых пунктах.\n",
    "Задача — выполнить предобработку данных и изучить их, чтобы найти интересные особенности и зависимости, которые существуют на рынке недвижимости.\n",
    "О каждой квартире в базе содержится два типа данных: добавленные пользователем и картографические. Например, к первому типу относятся площадь квартиры, её этаж и количество балконов, ко второму — расстояния до центра города, аэропорта и ближайшего парка. "
   ]
  },
  {
   "cell_type": "markdown",
   "id": "9d493e8d",
   "metadata": {},
   "source": [
    "### Описание данных"
   ]
  },
  {
   "cell_type": "markdown",
   "id": "e5ce9b23",
   "metadata": {},
   "source": [
    "    airports_nearest — расстояние до ближайшего аэропорта в метрах (м)\n",
    "    balcony — число балконов\n",
    "    ceiling_height — высота потолков (м)\n",
    "    cityCenters_nearest — расстояние до центра города (м)\n",
    "    days_exposition — сколько дней было размещено объявление (от публикации до снятия)\n",
    "    first_day_exposition — дата публикации\n",
    "    floor — этаж\n",
    "    floors_total — всего этажей в доме\n",
    "    is_apartment — апартаменты (булев тип)\n",
    "    kitchen_area — площадь кухни в квадратных метрах (м²)\n",
    "    last_price — цена на момент снятия с публикации\n",
    "    living_area — жилая площадь в квадратных метрах (м²)\n",
    "    locality_name — название населённого пункта\n",
    "    open_plan — свободная планировка (булев тип)\n",
    "    parks_around3000 — число парков в радиусе 3 км\n",
    "    parks_nearest — расстояние до ближайшего парка (м)\n",
    "    ponds_around3000 — число водоёмов в радиусе 3 км\n",
    "    ponds_nearest — расстояние до ближайшего водоёма (м)\n",
    "    rooms — число комнат\n",
    "    studio — квартира-студия (булев тип)\n",
    "    total_area — общая площадь квартиры в квадратных метрах (м²)\n",
    "    total_images — число фотографий квартиры в объявлении"
   ]
  },
  {
   "cell_type": "markdown",
   "id": "66f9ba7d",
   "metadata": {},
   "source": [
    "### Импортируем библиотеки"
   ]
  },
  {
   "cell_type": "code",
   "execution_count": 1,
   "id": "205a6647",
   "metadata": {},
   "outputs": [],
   "source": [
    "import pandas as pd\n",
    "import seaborn as sns\n",
    "from matplotlib import pyplot as plt\n",
    "import numpy as np\n"
   ]
  },
  {
   "cell_type": "code",
   "execution_count": 2,
   "id": "c981a9a4",
   "metadata": {},
   "outputs": [],
   "source": [
    "pd.set_option('display.float_format', lambda x: '%.3f' % x)"
   ]
  },
  {
   "cell_type": "markdown",
   "id": "063d4a1e",
   "metadata": {},
   "source": [
    "###  Обзор данных"
   ]
  },
  {
   "cell_type": "markdown",
   "id": "29d9f766",
   "metadata": {},
   "source": [
    "#### Загружаем данные"
   ]
  },
  {
   "cell_type": "code",
   "execution_count": 3,
   "id": "ee0e900b",
   "metadata": {},
   "outputs": [],
   "source": [
    "try:\n",
    "    data = pd.read_csv('/datasets/real_estate_data.csv', sep='\\t')\n",
    "except:\n",
    "    data = pd.read_csv('https://code.s3.yandex.net/datasets/real_estate_data.csv', sep='\\t')"
   ]
  },
  {
   "cell_type": "code",
   "execution_count": 4,
   "id": "f9aad0ab",
   "metadata": {
    "scrolled": true
   },
   "outputs": [
    {
     "data": {
      "text/html": [
       "<div>\n",
       "<style scoped>\n",
       "    .dataframe tbody tr th:only-of-type {\n",
       "        vertical-align: middle;\n",
       "    }\n",
       "\n",
       "    .dataframe tbody tr th {\n",
       "        vertical-align: top;\n",
       "    }\n",
       "\n",
       "    .dataframe thead th {\n",
       "        text-align: right;\n",
       "    }\n",
       "</style>\n",
       "<table border=\"1\" class=\"dataframe\">\n",
       "  <thead>\n",
       "    <tr style=\"text-align: right;\">\n",
       "      <th></th>\n",
       "      <th>total_images</th>\n",
       "      <th>last_price</th>\n",
       "      <th>total_area</th>\n",
       "      <th>first_day_exposition</th>\n",
       "      <th>rooms</th>\n",
       "      <th>ceiling_height</th>\n",
       "      <th>floors_total</th>\n",
       "      <th>living_area</th>\n",
       "      <th>floor</th>\n",
       "      <th>is_apartment</th>\n",
       "      <th>...</th>\n",
       "      <th>kitchen_area</th>\n",
       "      <th>balcony</th>\n",
       "      <th>locality_name</th>\n",
       "      <th>airports_nearest</th>\n",
       "      <th>cityCenters_nearest</th>\n",
       "      <th>parks_around3000</th>\n",
       "      <th>parks_nearest</th>\n",
       "      <th>ponds_around3000</th>\n",
       "      <th>ponds_nearest</th>\n",
       "      <th>days_exposition</th>\n",
       "    </tr>\n",
       "  </thead>\n",
       "  <tbody>\n",
       "    <tr>\n",
       "      <th>0</th>\n",
       "      <td>20</td>\n",
       "      <td>13000000.000</td>\n",
       "      <td>108.000</td>\n",
       "      <td>2019-03-07T00:00:00</td>\n",
       "      <td>3</td>\n",
       "      <td>2.700</td>\n",
       "      <td>16.000</td>\n",
       "      <td>51.000</td>\n",
       "      <td>8</td>\n",
       "      <td>NaN</td>\n",
       "      <td>...</td>\n",
       "      <td>25.000</td>\n",
       "      <td>NaN</td>\n",
       "      <td>Санкт-Петербург</td>\n",
       "      <td>18863.000</td>\n",
       "      <td>16028.000</td>\n",
       "      <td>1.000</td>\n",
       "      <td>482.000</td>\n",
       "      <td>2.000</td>\n",
       "      <td>755.000</td>\n",
       "      <td>NaN</td>\n",
       "    </tr>\n",
       "    <tr>\n",
       "      <th>1</th>\n",
       "      <td>7</td>\n",
       "      <td>3350000.000</td>\n",
       "      <td>40.400</td>\n",
       "      <td>2018-12-04T00:00:00</td>\n",
       "      <td>1</td>\n",
       "      <td>NaN</td>\n",
       "      <td>11.000</td>\n",
       "      <td>18.600</td>\n",
       "      <td>1</td>\n",
       "      <td>NaN</td>\n",
       "      <td>...</td>\n",
       "      <td>11.000</td>\n",
       "      <td>2.000</td>\n",
       "      <td>посёлок Шушары</td>\n",
       "      <td>12817.000</td>\n",
       "      <td>18603.000</td>\n",
       "      <td>0.000</td>\n",
       "      <td>NaN</td>\n",
       "      <td>0.000</td>\n",
       "      <td>NaN</td>\n",
       "      <td>81.000</td>\n",
       "    </tr>\n",
       "    <tr>\n",
       "      <th>2</th>\n",
       "      <td>10</td>\n",
       "      <td>5196000.000</td>\n",
       "      <td>56.000</td>\n",
       "      <td>2015-08-20T00:00:00</td>\n",
       "      <td>2</td>\n",
       "      <td>NaN</td>\n",
       "      <td>5.000</td>\n",
       "      <td>34.300</td>\n",
       "      <td>4</td>\n",
       "      <td>NaN</td>\n",
       "      <td>...</td>\n",
       "      <td>8.300</td>\n",
       "      <td>0.000</td>\n",
       "      <td>Санкт-Петербург</td>\n",
       "      <td>21741.000</td>\n",
       "      <td>13933.000</td>\n",
       "      <td>1.000</td>\n",
       "      <td>90.000</td>\n",
       "      <td>2.000</td>\n",
       "      <td>574.000</td>\n",
       "      <td>558.000</td>\n",
       "    </tr>\n",
       "    <tr>\n",
       "      <th>3</th>\n",
       "      <td>0</td>\n",
       "      <td>64900000.000</td>\n",
       "      <td>159.000</td>\n",
       "      <td>2015-07-24T00:00:00</td>\n",
       "      <td>3</td>\n",
       "      <td>NaN</td>\n",
       "      <td>14.000</td>\n",
       "      <td>NaN</td>\n",
       "      <td>9</td>\n",
       "      <td>NaN</td>\n",
       "      <td>...</td>\n",
       "      <td>NaN</td>\n",
       "      <td>0.000</td>\n",
       "      <td>Санкт-Петербург</td>\n",
       "      <td>28098.000</td>\n",
       "      <td>6800.000</td>\n",
       "      <td>2.000</td>\n",
       "      <td>84.000</td>\n",
       "      <td>3.000</td>\n",
       "      <td>234.000</td>\n",
       "      <td>424.000</td>\n",
       "    </tr>\n",
       "    <tr>\n",
       "      <th>4</th>\n",
       "      <td>2</td>\n",
       "      <td>10000000.000</td>\n",
       "      <td>100.000</td>\n",
       "      <td>2018-06-19T00:00:00</td>\n",
       "      <td>2</td>\n",
       "      <td>3.030</td>\n",
       "      <td>14.000</td>\n",
       "      <td>32.000</td>\n",
       "      <td>13</td>\n",
       "      <td>NaN</td>\n",
       "      <td>...</td>\n",
       "      <td>41.000</td>\n",
       "      <td>NaN</td>\n",
       "      <td>Санкт-Петербург</td>\n",
       "      <td>31856.000</td>\n",
       "      <td>8098.000</td>\n",
       "      <td>2.000</td>\n",
       "      <td>112.000</td>\n",
       "      <td>1.000</td>\n",
       "      <td>48.000</td>\n",
       "      <td>121.000</td>\n",
       "    </tr>\n",
       "  </tbody>\n",
       "</table>\n",
       "<p>5 rows × 22 columns</p>\n",
       "</div>"
      ],
      "text/plain": [
       "   total_images   last_price  total_area first_day_exposition  rooms  \\\n",
       "0            20 13000000.000     108.000  2019-03-07T00:00:00      3   \n",
       "1             7  3350000.000      40.400  2018-12-04T00:00:00      1   \n",
       "2            10  5196000.000      56.000  2015-08-20T00:00:00      2   \n",
       "3             0 64900000.000     159.000  2015-07-24T00:00:00      3   \n",
       "4             2 10000000.000     100.000  2018-06-19T00:00:00      2   \n",
       "\n",
       "   ceiling_height  floors_total  living_area  floor is_apartment  ...  \\\n",
       "0           2.700        16.000       51.000      8          NaN  ...   \n",
       "1             NaN        11.000       18.600      1          NaN  ...   \n",
       "2             NaN         5.000       34.300      4          NaN  ...   \n",
       "3             NaN        14.000          NaN      9          NaN  ...   \n",
       "4           3.030        14.000       32.000     13          NaN  ...   \n",
       "\n",
       "   kitchen_area  balcony    locality_name  airports_nearest  \\\n",
       "0        25.000      NaN  Санкт-Петербург         18863.000   \n",
       "1        11.000    2.000   посёлок Шушары         12817.000   \n",
       "2         8.300    0.000  Санкт-Петербург         21741.000   \n",
       "3           NaN    0.000  Санкт-Петербург         28098.000   \n",
       "4        41.000      NaN  Санкт-Петербург         31856.000   \n",
       "\n",
       "  cityCenters_nearest  parks_around3000  parks_nearest  ponds_around3000  \\\n",
       "0           16028.000             1.000        482.000             2.000   \n",
       "1           18603.000             0.000            NaN             0.000   \n",
       "2           13933.000             1.000         90.000             2.000   \n",
       "3            6800.000             2.000         84.000             3.000   \n",
       "4            8098.000             2.000        112.000             1.000   \n",
       "\n",
       "   ponds_nearest  days_exposition  \n",
       "0        755.000              NaN  \n",
       "1            NaN           81.000  \n",
       "2        574.000          558.000  \n",
       "3        234.000          424.000  \n",
       "4         48.000          121.000  \n",
       "\n",
       "[5 rows x 22 columns]"
      ]
     },
     "execution_count": 4,
     "metadata": {},
     "output_type": "execute_result"
    }
   ],
   "source": [
    "data.head() #Выведем первые 5 строк"
   ]
  },
  {
   "cell_type": "markdown",
   "id": "3fc644c8",
   "metadata": {},
   "source": [
    "#### Получаем информацию"
   ]
  },
  {
   "cell_type": "code",
   "execution_count": 5,
   "id": "408b45c6",
   "metadata": {
    "scrolled": true
   },
   "outputs": [
    {
     "name": "stdout",
     "output_type": "stream",
     "text": [
      "<class 'pandas.core.frame.DataFrame'>\n",
      "RangeIndex: 23699 entries, 0 to 23698\n",
      "Data columns (total 22 columns):\n",
      " #   Column                Non-Null Count  Dtype  \n",
      "---  ------                --------------  -----  \n",
      " 0   total_images          23699 non-null  int64  \n",
      " 1   last_price            23699 non-null  float64\n",
      " 2   total_area            23699 non-null  float64\n",
      " 3   first_day_exposition  23699 non-null  object \n",
      " 4   rooms                 23699 non-null  int64  \n",
      " 5   ceiling_height        14504 non-null  float64\n",
      " 6   floors_total          23613 non-null  float64\n",
      " 7   living_area           21796 non-null  float64\n",
      " 8   floor                 23699 non-null  int64  \n",
      " 9   is_apartment          2775 non-null   object \n",
      " 10  studio                23699 non-null  bool   \n",
      " 11  open_plan             23699 non-null  bool   \n",
      " 12  kitchen_area          21421 non-null  float64\n",
      " 13  balcony               12180 non-null  float64\n",
      " 14  locality_name         23650 non-null  object \n",
      " 15  airports_nearest      18157 non-null  float64\n",
      " 16  cityCenters_nearest   18180 non-null  float64\n",
      " 17  parks_around3000      18181 non-null  float64\n",
      " 18  parks_nearest         8079 non-null   float64\n",
      " 19  ponds_around3000      18181 non-null  float64\n",
      " 20  ponds_nearest         9110 non-null   float64\n",
      " 21  days_exposition       20518 non-null  float64\n",
      "dtypes: bool(2), float64(14), int64(3), object(3)\n",
      "memory usage: 3.7+ MB\n"
     ]
    }
   ],
   "source": [
    "data.info() "
   ]
  },
  {
   "cell_type": "code",
   "execution_count": 6,
   "id": "c2f78b52",
   "metadata": {},
   "outputs": [
    {
     "data": {
      "text/html": [
       "<div>\n",
       "<style scoped>\n",
       "    .dataframe tbody tr th:only-of-type {\n",
       "        vertical-align: middle;\n",
       "    }\n",
       "\n",
       "    .dataframe tbody tr th {\n",
       "        vertical-align: top;\n",
       "    }\n",
       "\n",
       "    .dataframe thead th {\n",
       "        text-align: right;\n",
       "    }\n",
       "</style>\n",
       "<table border=\"1\" class=\"dataframe\">\n",
       "  <thead>\n",
       "    <tr style=\"text-align: right;\">\n",
       "      <th></th>\n",
       "      <th>total_images</th>\n",
       "      <th>last_price</th>\n",
       "      <th>total_area</th>\n",
       "      <th>rooms</th>\n",
       "      <th>ceiling_height</th>\n",
       "      <th>floors_total</th>\n",
       "      <th>living_area</th>\n",
       "      <th>floor</th>\n",
       "      <th>kitchen_area</th>\n",
       "      <th>balcony</th>\n",
       "      <th>airports_nearest</th>\n",
       "      <th>cityCenters_nearest</th>\n",
       "      <th>parks_around3000</th>\n",
       "      <th>parks_nearest</th>\n",
       "      <th>ponds_around3000</th>\n",
       "      <th>ponds_nearest</th>\n",
       "      <th>days_exposition</th>\n",
       "    </tr>\n",
       "  </thead>\n",
       "  <tbody>\n",
       "    <tr>\n",
       "      <th>count</th>\n",
       "      <td>23699.000</td>\n",
       "      <td>23699.000</td>\n",
       "      <td>23699.000</td>\n",
       "      <td>23699.000</td>\n",
       "      <td>14504.000</td>\n",
       "      <td>23613.000</td>\n",
       "      <td>21796.000</td>\n",
       "      <td>23699.000</td>\n",
       "      <td>21421.000</td>\n",
       "      <td>12180.000</td>\n",
       "      <td>18157.000</td>\n",
       "      <td>18180.000</td>\n",
       "      <td>18181.000</td>\n",
       "      <td>8079.000</td>\n",
       "      <td>18181.000</td>\n",
       "      <td>9110.000</td>\n",
       "      <td>20518.000</td>\n",
       "    </tr>\n",
       "    <tr>\n",
       "      <th>mean</th>\n",
       "      <td>9.858</td>\n",
       "      <td>6541548.772</td>\n",
       "      <td>60.349</td>\n",
       "      <td>2.071</td>\n",
       "      <td>2.771</td>\n",
       "      <td>10.674</td>\n",
       "      <td>34.458</td>\n",
       "      <td>5.892</td>\n",
       "      <td>10.570</td>\n",
       "      <td>1.150</td>\n",
       "      <td>28793.672</td>\n",
       "      <td>14191.278</td>\n",
       "      <td>0.611</td>\n",
       "      <td>490.805</td>\n",
       "      <td>0.770</td>\n",
       "      <td>517.981</td>\n",
       "      <td>180.889</td>\n",
       "    </tr>\n",
       "    <tr>\n",
       "      <th>std</th>\n",
       "      <td>5.683</td>\n",
       "      <td>10887013.268</td>\n",
       "      <td>35.654</td>\n",
       "      <td>1.078</td>\n",
       "      <td>1.261</td>\n",
       "      <td>6.597</td>\n",
       "      <td>22.030</td>\n",
       "      <td>4.885</td>\n",
       "      <td>5.905</td>\n",
       "      <td>1.071</td>\n",
       "      <td>12630.881</td>\n",
       "      <td>8608.386</td>\n",
       "      <td>0.802</td>\n",
       "      <td>342.318</td>\n",
       "      <td>0.938</td>\n",
       "      <td>277.721</td>\n",
       "      <td>219.728</td>\n",
       "    </tr>\n",
       "    <tr>\n",
       "      <th>min</th>\n",
       "      <td>0.000</td>\n",
       "      <td>12190.000</td>\n",
       "      <td>12.000</td>\n",
       "      <td>0.000</td>\n",
       "      <td>1.000</td>\n",
       "      <td>1.000</td>\n",
       "      <td>2.000</td>\n",
       "      <td>1.000</td>\n",
       "      <td>1.300</td>\n",
       "      <td>0.000</td>\n",
       "      <td>0.000</td>\n",
       "      <td>181.000</td>\n",
       "      <td>0.000</td>\n",
       "      <td>1.000</td>\n",
       "      <td>0.000</td>\n",
       "      <td>13.000</td>\n",
       "      <td>1.000</td>\n",
       "    </tr>\n",
       "    <tr>\n",
       "      <th>25%</th>\n",
       "      <td>6.000</td>\n",
       "      <td>3400000.000</td>\n",
       "      <td>40.000</td>\n",
       "      <td>1.000</td>\n",
       "      <td>2.520</td>\n",
       "      <td>5.000</td>\n",
       "      <td>18.600</td>\n",
       "      <td>2.000</td>\n",
       "      <td>7.000</td>\n",
       "      <td>0.000</td>\n",
       "      <td>18585.000</td>\n",
       "      <td>9238.000</td>\n",
       "      <td>0.000</td>\n",
       "      <td>288.000</td>\n",
       "      <td>0.000</td>\n",
       "      <td>294.000</td>\n",
       "      <td>45.000</td>\n",
       "    </tr>\n",
       "    <tr>\n",
       "      <th>50%</th>\n",
       "      <td>9.000</td>\n",
       "      <td>4650000.000</td>\n",
       "      <td>52.000</td>\n",
       "      <td>2.000</td>\n",
       "      <td>2.650</td>\n",
       "      <td>9.000</td>\n",
       "      <td>30.000</td>\n",
       "      <td>4.000</td>\n",
       "      <td>9.100</td>\n",
       "      <td>1.000</td>\n",
       "      <td>26726.000</td>\n",
       "      <td>13098.500</td>\n",
       "      <td>0.000</td>\n",
       "      <td>455.000</td>\n",
       "      <td>1.000</td>\n",
       "      <td>502.000</td>\n",
       "      <td>95.000</td>\n",
       "    </tr>\n",
       "    <tr>\n",
       "      <th>75%</th>\n",
       "      <td>14.000</td>\n",
       "      <td>6800000.000</td>\n",
       "      <td>69.900</td>\n",
       "      <td>3.000</td>\n",
       "      <td>2.800</td>\n",
       "      <td>16.000</td>\n",
       "      <td>42.300</td>\n",
       "      <td>8.000</td>\n",
       "      <td>12.000</td>\n",
       "      <td>2.000</td>\n",
       "      <td>37273.000</td>\n",
       "      <td>16293.000</td>\n",
       "      <td>1.000</td>\n",
       "      <td>612.000</td>\n",
       "      <td>1.000</td>\n",
       "      <td>729.000</td>\n",
       "      <td>232.000</td>\n",
       "    </tr>\n",
       "    <tr>\n",
       "      <th>max</th>\n",
       "      <td>50.000</td>\n",
       "      <td>763000000.000</td>\n",
       "      <td>900.000</td>\n",
       "      <td>19.000</td>\n",
       "      <td>100.000</td>\n",
       "      <td>60.000</td>\n",
       "      <td>409.700</td>\n",
       "      <td>33.000</td>\n",
       "      <td>112.000</td>\n",
       "      <td>5.000</td>\n",
       "      <td>84869.000</td>\n",
       "      <td>65968.000</td>\n",
       "      <td>3.000</td>\n",
       "      <td>3190.000</td>\n",
       "      <td>3.000</td>\n",
       "      <td>1344.000</td>\n",
       "      <td>1580.000</td>\n",
       "    </tr>\n",
       "  </tbody>\n",
       "</table>\n",
       "</div>"
      ],
      "text/plain": [
       "       total_images    last_price  total_area     rooms  ceiling_height  \\\n",
       "count     23699.000     23699.000   23699.000 23699.000       14504.000   \n",
       "mean          9.858   6541548.772      60.349     2.071           2.771   \n",
       "std           5.683  10887013.268      35.654     1.078           1.261   \n",
       "min           0.000     12190.000      12.000     0.000           1.000   \n",
       "25%           6.000   3400000.000      40.000     1.000           2.520   \n",
       "50%           9.000   4650000.000      52.000     2.000           2.650   \n",
       "75%          14.000   6800000.000      69.900     3.000           2.800   \n",
       "max          50.000 763000000.000     900.000    19.000         100.000   \n",
       "\n",
       "       floors_total  living_area     floor  kitchen_area   balcony  \\\n",
       "count     23613.000    21796.000 23699.000     21421.000 12180.000   \n",
       "mean         10.674       34.458     5.892        10.570     1.150   \n",
       "std           6.597       22.030     4.885         5.905     1.071   \n",
       "min           1.000        2.000     1.000         1.300     0.000   \n",
       "25%           5.000       18.600     2.000         7.000     0.000   \n",
       "50%           9.000       30.000     4.000         9.100     1.000   \n",
       "75%          16.000       42.300     8.000        12.000     2.000   \n",
       "max          60.000      409.700    33.000       112.000     5.000   \n",
       "\n",
       "       airports_nearest  cityCenters_nearest  parks_around3000  parks_nearest  \\\n",
       "count         18157.000            18180.000         18181.000       8079.000   \n",
       "mean          28793.672            14191.278             0.611        490.805   \n",
       "std           12630.881             8608.386             0.802        342.318   \n",
       "min               0.000              181.000             0.000          1.000   \n",
       "25%           18585.000             9238.000             0.000        288.000   \n",
       "50%           26726.000            13098.500             0.000        455.000   \n",
       "75%           37273.000            16293.000             1.000        612.000   \n",
       "max           84869.000            65968.000             3.000       3190.000   \n",
       "\n",
       "       ponds_around3000  ponds_nearest  days_exposition  \n",
       "count         18181.000       9110.000        20518.000  \n",
       "mean              0.770        517.981          180.889  \n",
       "std               0.938        277.721          219.728  \n",
       "min               0.000         13.000            1.000  \n",
       "25%               0.000        294.000           45.000  \n",
       "50%               1.000        502.000           95.000  \n",
       "75%               1.000        729.000          232.000  \n",
       "max               3.000       1344.000         1580.000  "
      ]
     },
     "execution_count": 6,
     "metadata": {},
     "output_type": "execute_result"
    }
   ],
   "source": [
    "data.describe()"
   ]
  },
  {
   "cell_type": "markdown",
   "id": "e22ecacb",
   "metadata": {},
   "source": [
    "#### Построим гистограмму"
   ]
  },
  {
   "cell_type": "code",
   "execution_count": 7,
   "id": "aafc76e0",
   "metadata": {},
   "outputs": [
    {
     "data": {
      "image/png": "[encoded data removed]",
      "text/plain": [
       "<Figure size 1080x1440 with 20 Axes>"
      ]
     },
     "metadata": {
      "needs_background": "light"
     },
     "output_type": "display_data"
    }
   ],
   "source": [
    "data.hist(figsize=(15, 20))\n",
    "plt.tight_layout() # убираем служебную информацию"
   ]
  },
  {
   "cell_type": "code",
   "execution_count": 8,
   "id": "32aa594c",
   "metadata": {},
   "outputs": [
    {
     "data": {
      "text/plain": [
       "0"
      ]
     },
     "execution_count": 8,
     "metadata": {},
     "output_type": "execute_result"
    }
   ],
   "source": [
    "data.duplicated().sum()# проверка явных дубликатов"
   ]
  },
  {
   "cell_type": "markdown",
   "id": "68d38b76",
   "metadata": {},
   "source": [
    "**Выводы:**\n",
    "\n",
    "- Следует заполнить пропуски в высоте потолков,площадях и этажах зданий\n",
    "- Стоит проверить количественные показатели на аномалии и выбросы. \n",
    "- Изменить типы данных у полей first_day_exposition и is_apartment так, как их типы отличаются от заявленых в документации\n",
    "- Явных дубликатов не обнаружено,но стоит проверить на них locality_name и заполнить в этом поле пропуски"
   ]
  },
  {
   "cell_type": "markdown",
   "id": "a43f8b59",
   "metadata": {},
   "source": [
    "#### Описание данных"
   ]
  },
  {
   "cell_type": "markdown",
   "id": "ad9b6e97",
   "metadata": {},
   "source": [
    "    airports_nearest — расстояние до ближайшего аэропорта в метрах (м)\n",
    "    balcony — число балконов\n",
    "    ceiling_height — высота потолков (м)\n",
    "    cityCenters_nearest — расстояние до центра города (м)\n",
    "    days_exposition — сколько дней было размещено объявление (от публикации до снятия)\n",
    "    first_day_exposition — дата публикации\n",
    "    floor — этаж\n",
    "    floors_total — всего этажей в доме\n",
    "    is_apartment — апартаменты (булев тип)\n",
    "    kitchen_area — площадь кухни в квадратных метрах (м²)\n",
    "    last_price — цена на момент снятия с публикации\n",
    "    living_area — жилая площадь в квадратных метрах (м²)\n",
    "    locality_name — название населённого пункта\n",
    "    open_plan — свободная планировка (булев тип)\n",
    "    parks_around3000 — число парков в радиусе 3 км\n",
    "    parks_nearest — расстояние до ближайшего парка (м)\n",
    "    ponds_around3000 — число водоёмов в радиусе 3 км\n",
    "    ponds_nearest — расстояние до ближайшего водоёма (м)\n",
    "    rooms — число комнат\n",
    "    studio — квартира-студия (булев тип)\n",
    "    total_area — общая площадь квартиры в квадратных метрах (м²)\n",
    "    total_images — число фотографий квартиры в объявлении"
   ]
  },
  {
   "cell_type": "markdown",
   "id": "a11958fc",
   "metadata": {},
   "source": [
    "### Предобработка данных"
   ]
  },
  {
   "cell_type": "markdown",
   "id": "1d331cc2",
   "metadata": {},
   "source": [
    "#### Стиль загаловков"
   ]
  },
  {
   "cell_type": "code",
   "execution_count": 9,
   "id": "426736c3",
   "metadata": {},
   "outputs": [
    {
     "data": {
      "text/plain": [
       "Index(['total_images', 'last_price', 'total_area', 'first_day_exposition',\n",
       "       'rooms', 'ceiling_height', 'floors_total', 'living_area', 'floor',\n",
       "       'is_apartment', 'studio', 'open_plan', 'kitchen_area', 'balcony',\n",
       "       'locality_name', 'airports_nearest', 'cityCenters_nearest',\n",
       "       'parks_around3000', 'parks_nearest', 'ponds_around3000',\n",
       "       'ponds_nearest', 'days_exposition'],\n",
       "      dtype='object')"
      ]
     },
     "execution_count": 9,
     "metadata": {},
     "output_type": "execute_result"
    }
   ],
   "source": [
    "data.columns"
   ]
  },
  {
   "cell_type": "markdown",
   "id": "81df555b",
   "metadata": {},
   "source": [
    "Приведем колонки cityCenters_nearest, ponds_around3000 и parks_around3000 к snake_case"
   ]
  },
  {
   "cell_type": "code",
   "execution_count": 10,
   "id": "5bbb6fe1",
   "metadata": {},
   "outputs": [],
   "source": [
    "data = data.rename(columns={'parks_around3000' : 'parks_around_3000', 'ponds_around3000' : 'ponds_around_3000', 'cityCenters_nearest' : 'city_centers_nearest'})"
   ]
  },
  {
   "cell_type": "code",
   "execution_count": 11,
   "id": "2447821a",
   "metadata": {},
   "outputs": [
    {
     "data": {
      "text/plain": [
       "Index(['total_images', 'last_price', 'total_area', 'first_day_exposition',\n",
       "       'rooms', 'ceiling_height', 'floors_total', 'living_area', 'floor',\n",
       "       'is_apartment', 'studio', 'open_plan', 'kitchen_area', 'balcony',\n",
       "       'locality_name', 'airports_nearest', 'city_centers_nearest',\n",
       "       'parks_around_3000', 'parks_nearest', 'ponds_around_3000',\n",
       "       'ponds_nearest', 'days_exposition'],\n",
       "      dtype='object')"
      ]
     },
     "execution_count": 11,
     "metadata": {},
     "output_type": "execute_result"
    }
   ],
   "source": [
    "data.columns"
   ]
  },
  {
   "cell_type": "markdown",
   "id": "321c3b29",
   "metadata": {},
   "source": [
    "#### Пропуски значений"
   ]
  },
  {
   "cell_type": "code",
   "execution_count": 12,
   "id": "6a121460",
   "metadata": {},
   "outputs": [
    {
     "data": {
      "text/plain": [
       "total_images                0\n",
       "last_price                  0\n",
       "total_area                  0\n",
       "first_day_exposition        0\n",
       "rooms                       0\n",
       "ceiling_height           9195\n",
       "floors_total               86\n",
       "living_area              1903\n",
       "floor                       0\n",
       "is_apartment            20924\n",
       "studio                      0\n",
       "open_plan                   0\n",
       "kitchen_area             2278\n",
       "balcony                 11519\n",
       "locality_name              49\n",
       "airports_nearest         5542\n",
       "city_centers_nearest     5519\n",
       "parks_around_3000        5518\n",
       "parks_nearest           15620\n",
       "ponds_around_3000        5518\n",
       "ponds_nearest           14589\n",
       "days_exposition          3181\n",
       "dtype: int64"
      ]
     },
     "execution_count": 12,
     "metadata": {},
     "output_type": "execute_result"
    }
   ],
   "source": [
    "data.isnull().sum() # подсчёт пропусков"
   ]
  },
  {
   "cell_type": "markdown",
   "id": "ad2d6805",
   "metadata": {},
   "source": [
    "#### Процент пропусков\n"
   ]
  },
  {
   "cell_type": "code",
   "execution_count": 13,
   "id": "6b4e8bf9",
   "metadata": {},
   "outputs": [
    {
     "name": "stdout",
     "output_type": "stream",
     "text": [
      "total_images - 0%\n",
      "last_price - 0%\n",
      "total_area - 0%\n",
      "first_day_exposition - 0%\n",
      "rooms - 0%\n",
      "ceiling_height - 39%\n",
      "floors_total - 0%\n",
      "living_area - 8%\n",
      "floor - 0%\n",
      "is_apartment - 88%\n",
      "studio - 0%\n",
      "open_plan - 0%\n",
      "kitchen_area - 10%\n",
      "balcony - 49%\n",
      "locality_name - 0%\n",
      "airports_nearest - 23%\n",
      "city_centers_nearest - 23%\n",
      "parks_around_3000 - 23%\n",
      "parks_nearest - 66%\n",
      "ponds_around_3000 - 23%\n",
      "ponds_nearest - 62%\n",
      "days_exposition - 13%\n"
     ]
    }
   ],
   "source": [
    "for col in data.columns:\n",
    "    pct_missing = np.mean(data[col].isnull())\n",
    "    print('{} - {}%'.format(col, round(pct_missing*100)))"
   ]
  },
  {
   "cell_type": "markdown",
   "id": "f71b82de",
   "metadata": {},
   "source": [
    "#### Возможные причины пропусков:"
   ]
  },
  {
   "cell_type": "markdown",
   "id": "28d8b9dd",
   "metadata": {},
   "source": [
    "Большинство пропусков можно объяснить тем, что продавец незаполнил эти поля при заполнении анкеты объявления. Или ошибками софта геолокации"
   ]
  },
  {
   "cell_type": "markdown",
   "id": "b71c5118",
   "metadata": {},
   "source": [
    "#### Заменяем пропуски в locality_name"
   ]
  },
  {
   "cell_type": "code",
   "execution_count": 14,
   "id": "a7ed9139",
   "metadata": {},
   "outputs": [],
   "source": [
    "data['locality_name'] = data['locality_name'].fillna('Не указано')"
   ]
  },
  {
   "cell_type": "markdown",
   "id": "b2694a06",
   "metadata": {},
   "source": [
    "#### Заменяем пропуски в balcony"
   ]
  },
  {
   "cell_type": "code",
   "execution_count": 15,
   "id": "7116aee2",
   "metadata": {},
   "outputs": [],
   "source": [
    "data['balcony'] = data['balcony'].fillna(0)"
   ]
  },
  {
   "cell_type": "markdown",
   "id": "89902b1f",
   "metadata": {},
   "source": [
    "#### Заменяем пропуски в airports_nearest,  city_centers_nearest,   ceiling_height, parks_nearest, ponds_nearest, ceiling_height, parks_around_3000, ponds_around_3000"
   ]
  },
  {
   "cell_type": "code",
   "execution_count": 16,
   "id": "79af4d64",
   "metadata": {},
   "outputs": [],
   "source": [
    "columns_to_replace = ['airports_nearest', 'city_centers_nearest', 'parks_nearest', 'ponds_nearest', 'parks_around_3000', 'ponds_around_3000', 'days_exposition' ]\n",
    "for column in columns_to_replace:\n",
    "    data[column] = data[column].fillna(data.groupby('locality_name')[column].transform('median'))"
   ]
  },
  {
   "cell_type": "code",
   "execution_count": 17,
   "id": "de13b50c",
   "metadata": {},
   "outputs": [
    {
     "data": {
      "text/plain": [
       "total_images                0\n",
       "last_price                  0\n",
       "total_area                  0\n",
       "first_day_exposition        0\n",
       "rooms                       0\n",
       "ceiling_height           9195\n",
       "floors_total               86\n",
       "living_area              1903\n",
       "floor                       0\n",
       "is_apartment            20924\n",
       "studio                      0\n",
       "open_plan                   0\n",
       "kitchen_area             2278\n",
       "balcony                     0\n",
       "locality_name               0\n",
       "airports_nearest         5386\n",
       "city_centers_nearest     5386\n",
       "parks_around_3000        5386\n",
       "parks_nearest            5998\n",
       "ponds_around_3000        5386\n",
       "ponds_nearest            5494\n",
       "days_exposition            80\n",
       "dtype: int64"
      ]
     },
     "execution_count": 17,
     "metadata": {},
     "output_type": "execute_result"
    }
   ],
   "source": [
    "data.isnull().sum()"
   ]
  },
  {
   "cell_type": "markdown",
   "id": "78b93201",
   "metadata": {},
   "source": [
    "Как видно многие пропуски не удалось удалить. Возможно, сначала стоит проверить на дубликаты."
   ]
  },
  {
   "cell_type": "markdown",
   "id": "fa160d7c",
   "metadata": {},
   "source": [
    "### Изменение типов данных"
   ]
  },
  {
   "cell_type": "code",
   "execution_count": 18,
   "id": "2fa44ced",
   "metadata": {},
   "outputs": [
    {
     "name": "stdout",
     "output_type": "stream",
     "text": [
      "<class 'pandas.core.frame.DataFrame'>\n",
      "RangeIndex: 23699 entries, 0 to 23698\n",
      "Data columns (total 22 columns):\n",
      " #   Column                Non-Null Count  Dtype  \n",
      "---  ------                --------------  -----  \n",
      " 0   total_images          23699 non-null  int64  \n",
      " 1   last_price            23699 non-null  float64\n",
      " 2   total_area            23699 non-null  float64\n",
      " 3   first_day_exposition  23699 non-null  object \n",
      " 4   rooms                 23699 non-null  int64  \n",
      " 5   ceiling_height        14504 non-null  float64\n",
      " 6   floors_total          23613 non-null  float64\n",
      " 7   living_area           21796 non-null  float64\n",
      " 8   floor                 23699 non-null  int64  \n",
      " 9   is_apartment          2775 non-null   object \n",
      " 10  studio                23699 non-null  bool   \n",
      " 11  open_plan             23699 non-null  bool   \n",
      " 12  kitchen_area          21421 non-null  float64\n",
      " 13  balcony               23699 non-null  float64\n",
      " 14  locality_name         23699 non-null  object \n",
      " 15  airports_nearest      18313 non-null  float64\n",
      " 16  city_centers_nearest  18313 non-null  float64\n",
      " 17  parks_around_3000     18313 non-null  float64\n",
      " 18  parks_nearest         17701 non-null  float64\n",
      " 19  ponds_around_3000     18313 non-null  float64\n",
      " 20  ponds_nearest         18205 non-null  float64\n",
      " 21  days_exposition       23619 non-null  float64\n",
      "dtypes: bool(2), float64(14), int64(3), object(3)\n",
      "memory usage: 3.7+ MB\n"
     ]
    }
   ],
   "source": [
    "data.info()"
   ]
  },
  {
   "cell_type": "markdown",
   "id": "f0411d5b",
   "metadata": {},
   "source": [
    "Необходимо изменить типы данных у следующих полей:\n",
    "\n",
    " `first_day_exposition - с object на date здесь хранится дата\n",
    " is_apartment - с object на bool в описании у этого столбца должен быть булевый тип`"
   ]
  },
  {
   "cell_type": "code",
   "execution_count": 19,
   "id": "a96485db",
   "metadata": {},
   "outputs": [],
   "source": [
    "data['first_day_exposition'] = pd.to_datetime(data['first_day_exposition'], format='%Y-%m-%dT%H:%M:%S')"
   ]
  },
  {
   "cell_type": "code",
   "execution_count": 20,
   "id": "723e144d",
   "metadata": {},
   "outputs": [],
   "source": [
    "data['is_apartment'] = data['is_apartment'].astype('bool').fillna(0) # заполним пропуски в этой колонке нулями"
   ]
  },
  {
   "cell_type": "code",
   "execution_count": 21,
   "id": "e0fbe2d3",
   "metadata": {
    "scrolled": true
   },
   "outputs": [
    {
     "name": "stdout",
     "output_type": "stream",
     "text": [
      "<class 'pandas.core.frame.DataFrame'>\n",
      "RangeIndex: 23699 entries, 0 to 23698\n",
      "Data columns (total 22 columns):\n",
      " #   Column                Non-Null Count  Dtype         \n",
      "---  ------                --------------  -----         \n",
      " 0   total_images          23699 non-null  int64         \n",
      " 1   last_price            23699 non-null  float64       \n",
      " 2   total_area            23699 non-null  float64       \n",
      " 3   first_day_exposition  23699 non-null  datetime64[ns]\n",
      " 4   rooms                 23699 non-null  int64         \n",
      " 5   ceiling_height        14504 non-null  float64       \n",
      " 6   floors_total          23613 non-null  float64       \n",
      " 7   living_area           21796 non-null  float64       \n",
      " 8   floor                 23699 non-null  int64         \n",
      " 9   is_apartment          23699 non-null  bool          \n",
      " 10  studio                23699 non-null  bool          \n",
      " 11  open_plan             23699 non-null  bool          \n",
      " 12  kitchen_area          21421 non-null  float64       \n",
      " 13  balcony               23699 non-null  float64       \n",
      " 14  locality_name         23699 non-null  object        \n",
      " 15  airports_nearest      18313 non-null  float64       \n",
      " 16  city_centers_nearest  18313 non-null  float64       \n",
      " 17  parks_around_3000     18313 non-null  float64       \n",
      " 18  parks_nearest         17701 non-null  float64       \n",
      " 19  ponds_around_3000     18313 non-null  float64       \n",
      " 20  ponds_nearest         18205 non-null  float64       \n",
      " 21  days_exposition       23619 non-null  float64       \n",
      "dtypes: bool(3), datetime64[ns](1), float64(14), int64(3), object(1)\n",
      "memory usage: 3.5+ MB\n"
     ]
    }
   ],
   "source": [
    "data.info()"
   ]
  },
  {
   "cell_type": "markdown",
   "id": "29a76009",
   "metadata": {},
   "source": [
    "### Обработка дубликатов"
   ]
  },
  {
   "cell_type": "code",
   "execution_count": 22,
   "id": "a31d2eb5",
   "metadata": {},
   "outputs": [],
   "source": [
    "data['locality_name'] = data['locality_name'].replace('ё', 'е', regex=True) # замним ё на е"
   ]
  },
  {
   "cell_type": "code",
   "execution_count": 23,
   "id": "8c805f16",
   "metadata": {},
   "outputs": [],
   "source": [
    "# уберем лишнее из locality_name\n",
    "strings_to_clean = ['поселок городского типа', 'городской поселок', 'коттеджный поселок', 'поселок при железнодорожной станции', 'поселок', 'деревня', 'садовое товарищество', 'село', 'станции', 'садоводческое некоммерческое товарищество']\n",
    "for string in strings_to_clean:\n",
    "    data['locality_name'] = data['locality_name'].replace(string, ' ', regex=True) "
   ]
  },
  {
   "cell_type": "code",
   "execution_count": 24,
   "id": "b7dd0072",
   "metadata": {},
   "outputs": [],
   "source": [
    "data['locality_name'] = data['locality_name'].str.strip() # уберем лишние пробелы"
   ]
  },
  {
   "cell_type": "markdown",
   "id": "43a15721",
   "metadata": {},
   "source": [
    "#### Заполним пропуски в высоте потолков"
   ]
  },
  {
   "cell_type": "code",
   "execution_count": 25,
   "id": "13838fbe",
   "metadata": {},
   "outputs": [],
   "source": [
    "data['ceiling_height'] = data['ceiling_height'].fillna(data.groupby('floors_total')['ceiling_height'].transform('median')) # медиана по этажности зданий"
   ]
  },
  {
   "cell_type": "markdown",
   "id": "78c9af10",
   "metadata": {},
   "source": [
    "#### Заполним пропуски в жилой площади"
   ]
  },
  {
   "cell_type": "code",
   "execution_count": 26,
   "id": "2107ee1c",
   "metadata": {},
   "outputs": [],
   "source": [
    "data['living_area'] = data['living_area'].fillna(data.groupby('total_area')['living_area'].transform('median')) # медиана по общей площади"
   ]
  },
  {
   "cell_type": "markdown",
   "id": "8f1e96be",
   "metadata": {},
   "source": [
    "#### Заполним пропуски в площади кухни"
   ]
  },
  {
   "cell_type": "code",
   "execution_count": 27,
   "id": "aae01496",
   "metadata": {},
   "outputs": [],
   "source": [
    "data['kitchen_area'] = data['kitchen_area'].fillna(data.groupby('total_area')['kitchen_area'].transform('median')) # медиана по общей площади"
   ]
  },
  {
   "cell_type": "markdown",
   "id": "f2f79110",
   "metadata": {},
   "source": [
    "#### Попробуем заполнить пропуски в airports_nearest city_centers_nearest parks_around_3000 parks_nearest ponds_around_3000 ponds_nearest "
   ]
  },
  {
   "cell_type": "code",
   "execution_count": 28,
   "id": "ee39a7ef",
   "metadata": {},
   "outputs": [],
   "source": [
    "columns_to_replace = ['airports_nearest', 'city_centers_nearest', 'parks_around_3000', 'parks_nearest', 'ponds_around_3000', 'ponds_nearest']\n",
    "for column in columns_to_replace:\n",
    "    data[column] = data[column].fillna(data.groupby('locality_name')[column].transform('mean')) # среднее а не медиана из-за небольшого количества объявлений"
   ]
  },
  {
   "cell_type": "code",
   "execution_count": 29,
   "id": "1eb6fc33",
   "metadata": {},
   "outputs": [
    {
     "data": {
      "text/plain": [
       "total_images               0\n",
       "last_price                 0\n",
       "total_area                 0\n",
       "first_day_exposition       0\n",
       "rooms                      0\n",
       "ceiling_height            78\n",
       "floors_total              86\n",
       "living_area              143\n",
       "floor                      0\n",
       "is_apartment               0\n",
       "studio                     0\n",
       "open_plan                  0\n",
       "kitchen_area             205\n",
       "balcony                    0\n",
       "locality_name              0\n",
       "airports_nearest        4829\n",
       "city_centers_nearest    4829\n",
       "parks_around_3000       4829\n",
       "parks_nearest           5998\n",
       "ponds_around_3000       4829\n",
       "ponds_nearest           4938\n",
       "days_exposition           80\n",
       "dtype: int64"
      ]
     },
     "execution_count": 29,
     "metadata": {},
     "output_type": "execute_result"
    }
   ],
   "source": [
    "data.isnull().sum()"
   ]
  },
  {
   "cell_type": "code",
   "execution_count": null,
   "id": "806bc1fb",
   "metadata": {},
   "outputs": [],
   "source": [
    "           "
   ]
  },
  {
   "cell_type": "markdown",
   "id": "c82fc362",
   "metadata": {},
   "source": [
    "**Вывод**"
   ]
  },
  {
   "cell_type": "markdown",
   "id": "7fdb33db",
   "metadata": {},
   "source": [
    "Большинство пропусков в этих категориях заполнены, где это возможно."
   ]
  },
  {
   "cell_type": "markdown",
   "id": "ca41e94a",
   "metadata": {},
   "source": [
    "### Обработка аномальных значений"
   ]
  },
  {
   "cell_type": "markdown",
   "id": "55c1a89a",
   "metadata": {},
   "source": [
    "#### Построим диаграму по 'ceiling_height'"
   ]
  },
  {
   "cell_type": "code",
   "execution_count": 30,
   "id": "952e8748",
   "metadata": {},
   "outputs": [
    {
     "data": {
      "text/plain": [
       "<AxesSubplot:>"
      ]
     },
     "execution_count": 30,
     "metadata": {},
     "output_type": "execute_result"
    },
    {
     "data": {
      "image/png": "[encoded data removed]",
      "text/plain": [
       "<Figure size 432x288 with 1 Axes>"
      ]
     },
     "metadata": {
      "needs_background": "light"
     },
     "output_type": "display_data"
    }
   ],
   "source": [
    "data.boxplot(column=['ceiling_height'])"
   ]
  },
  {
   "cell_type": "code",
   "execution_count": 31,
   "id": "97e15563",
   "metadata": {},
   "outputs": [
    {
     "data": {
      "text/plain": [
       "count   23621.000\n",
       "mean        2.736\n",
       "std         0.996\n",
       "min         1.000\n",
       "25%         2.550\n",
       "50%         2.650\n",
       "75%         2.750\n",
       "max       100.000\n",
       "Name: ceiling_height, dtype: float64"
      ]
     },
     "execution_count": 31,
     "metadata": {},
     "output_type": "execute_result"
    }
   ],
   "source": [
    "data['ceiling_height'].describe()"
   ]
  },
  {
   "cell_type": "code",
   "execution_count": 32,
   "id": "1f45cec7",
   "metadata": {
    "scrolled": true
   },
   "outputs": [
    {
     "data": {
      "text/plain": [
       "26"
      ]
     },
     "execution_count": 32,
     "metadata": {},
     "output_type": "execute_result"
    }
   ],
   "source": [
    "data[data['ceiling_height'] > 10]['ceiling_height'].count()"
   ]
  },
  {
   "cell_type": "code",
   "execution_count": 33,
   "id": "ebf2d837",
   "metadata": {},
   "outputs": [
    {
     "data": {
      "text/plain": [
       "0.11029918654349924"
      ]
     },
     "execution_count": 33,
     "metadata": {},
     "output_type": "execute_result"
    }
   ],
   "source": [
    "(24 / 21759) * 100 #Меньше процента"
   ]
  },
  {
   "cell_type": "code",
   "execution_count": 34,
   "id": "91a58bd9",
   "metadata": {},
   "outputs": [],
   "source": [
    "data = data.drop(data[data.ceiling_height > 10].index)"
   ]
  },
  {
   "cell_type": "markdown",
   "id": "76ffa6f0",
   "metadata": {},
   "source": [
    "#### Построим диаграмы"
   ]
  },
  {
   "cell_type": "code",
   "execution_count": 35,
   "id": "de4fb3c0",
   "metadata": {},
   "outputs": [
    {
     "data": {
      "text/plain": [
       "<AxesSubplot:>"
      ]
     },
     "execution_count": 35,
     "metadata": {},
     "output_type": "execute_result"
    },
    {
     "data": {
      "image/png": "[encoded data removed]",
      "text/plain": [
       "<Figure size 432x288 with 1 Axes>"
      ]
     },
     "metadata": {
      "needs_background": "light"
     },
     "output_type": "display_data"
    }
   ],
   "source": [
    "data.boxplot(column=['last_price'])"
   ]
  },
  {
   "cell_type": "code",
   "execution_count": 36,
   "id": "2cdc6c4f",
   "metadata": {},
   "outputs": [
    {
     "data": {
      "text/plain": [
       "count       23673.000\n",
       "mean      6543286.670\n",
       "std      10892468.920\n",
       "min         12190.000\n",
       "25%       3400000.000\n",
       "50%       4650000.000\n",
       "75%       6800000.000\n",
       "max     763000000.000\n",
       "Name: last_price, dtype: float64"
      ]
     },
     "execution_count": 36,
     "metadata": {},
     "output_type": "execute_result"
    }
   ],
   "source": [
    "data['last_price'].describe()"
   ]
  },
  {
   "cell_type": "code",
   "execution_count": 37,
   "id": "242555d3",
   "metadata": {},
   "outputs": [],
   "source": [
    "data = data.drop(data[data.last_price ==  763000000.000].index)"
   ]
  },
  {
   "cell_type": "code",
   "execution_count": 38,
   "id": "50f7ea18",
   "metadata": {},
   "outputs": [
    {
     "data": {
      "text/plain": [
       "<AxesSubplot:>"
      ]
     },
     "execution_count": 38,
     "metadata": {},
     "output_type": "execute_result"
    },
    {
     "data": {
      "image/png": "[encoded data removed]",
      "text/plain": [
       "<Figure size 432x288 with 1 Axes>"
      ]
     },
     "metadata": {
      "needs_background": "light"
     },
     "output_type": "display_data"
    }
   ],
   "source": [
    "data.boxplot(column=['last_price'])"
   ]
  },
  {
   "cell_type": "code",
   "execution_count": 39,
   "id": "bf52b46c",
   "metadata": {},
   "outputs": [
    {
     "data": {
      "text/plain": [
       "<AxesSubplot:>"
      ]
     },
     "execution_count": 39,
     "metadata": {},
     "output_type": "execute_result"
    },
    {
     "data": {
      "image/png": "[encoded data removed]",
      "text/plain": [
       "<Figure size 432x288 with 1 Axes>"
      ]
     },
     "metadata": {
      "needs_background": "light"
     },
     "output_type": "display_data"
    }
   ],
   "source": [
    "data.boxplot(column=['total_area'])"
   ]
  },
  {
   "cell_type": "code",
   "execution_count": 40,
   "id": "67f3ec6b",
   "metadata": {},
   "outputs": [
    {
     "data": {
      "text/plain": [
       "count   23672.000\n",
       "mean       60.342\n",
       "std        35.599\n",
       "min        12.000\n",
       "25%        40.000\n",
       "50%        52.000\n",
       "75%        69.900\n",
       "max       900.000\n",
       "Name: total_area, dtype: float64"
      ]
     },
     "execution_count": 40,
     "metadata": {},
     "output_type": "execute_result"
    }
   ],
   "source": [
    "data['total_area'].describe()"
   ]
  },
  {
   "cell_type": "code",
   "execution_count": 41,
   "id": "b9f89d70",
   "metadata": {},
   "outputs": [
    {
     "data": {
      "text/plain": [
       "1835"
      ]
     },
     "execution_count": 41,
     "metadata": {},
     "output_type": "execute_result"
    }
   ],
   "source": [
    "data[data['total_area'] > 100.000]['total_area'].count()"
   ]
  },
  {
   "cell_type": "code",
   "execution_count": 42,
   "id": "9c65a9e7",
   "metadata": {},
   "outputs": [],
   "source": [
    "#data = data.drop(data[data.total_area > 100.000].index)"
   ]
  },
  {
   "cell_type": "code",
   "execution_count": 43,
   "id": "248f77c9",
   "metadata": {},
   "outputs": [
    {
     "data": {
      "text/plain": [
       "count   23672.000\n",
       "mean       60.342\n",
       "std        35.599\n",
       "min        12.000\n",
       "25%        40.000\n",
       "50%        52.000\n",
       "75%        69.900\n",
       "max       900.000\n",
       "Name: total_area, dtype: float64"
      ]
     },
     "execution_count": 43,
     "metadata": {},
     "output_type": "execute_result"
    }
   ],
   "source": [
    "data['total_area'].describe()"
   ]
  },
  {
   "cell_type": "code",
   "execution_count": 44,
   "id": "2805cad3",
   "metadata": {},
   "outputs": [
    {
     "data": {
      "text/plain": [
       "count   23672.000\n",
       "mean        2.071\n",
       "std         1.078\n",
       "min         0.000\n",
       "25%         1.000\n",
       "50%         2.000\n",
       "75%         3.000\n",
       "max        19.000\n",
       "Name: rooms, dtype: float64"
      ]
     },
     "execution_count": 44,
     "metadata": {},
     "output_type": "execute_result"
    }
   ],
   "source": [
    "data['rooms'].describe()"
   ]
  },
  {
   "cell_type": "code",
   "execution_count": 45,
   "id": "1785b450",
   "metadata": {},
   "outputs": [
    {
     "data": {
      "text/plain": [
       "<AxesSubplot:>"
      ]
     },
     "execution_count": 45,
     "metadata": {},
     "output_type": "execute_result"
    },
    {
     "data": {
      "image/png": "[encoded data removed]",
      "text/plain": [
       "<Figure size 432x288 with 1 Axes>"
      ]
     },
     "metadata": {
      "needs_background": "light"
     },
     "output_type": "display_data"
    }
   ],
   "source": [
    "data.boxplot(column=['floors_total'])"
   ]
  },
  {
   "cell_type": "code",
   "execution_count": 46,
   "id": "3f790efd",
   "metadata": {},
   "outputs": [
    {
     "data": {
      "text/plain": [
       "count   23586.000\n",
       "mean       10.674\n",
       "std         6.593\n",
       "min         1.000\n",
       "25%         5.000\n",
       "50%         9.000\n",
       "75%        16.000\n",
       "max        60.000\n",
       "Name: floors_total, dtype: float64"
      ]
     },
     "execution_count": 46,
     "metadata": {},
     "output_type": "execute_result"
    }
   ],
   "source": [
    "data['floors_total'].describe()"
   ]
  },
  {
   "cell_type": "code",
   "execution_count": 47,
   "id": "918f0af5",
   "metadata": {},
   "outputs": [],
   "source": [
    "#data = data.drop(data[data.floors_total > 30].index)"
   ]
  },
  {
   "cell_type": "code",
   "execution_count": 48,
   "id": "64d6e7db",
   "metadata": {},
   "outputs": [
    {
     "data": {
      "text/plain": [
       "30"
      ]
     },
     "execution_count": 48,
     "metadata": {},
     "output_type": "execute_result"
    }
   ],
   "source": [
    "data[data['floors_total'] > 30]['floors_total'].count()"
   ]
  },
  {
   "cell_type": "code",
   "execution_count": 49,
   "id": "ef005ef2",
   "metadata": {},
   "outputs": [
    {
     "data": {
      "text/plain": [
       "count   23586.000\n",
       "mean       10.674\n",
       "std         6.593\n",
       "min         1.000\n",
       "25%         5.000\n",
       "50%         9.000\n",
       "75%        16.000\n",
       "max        60.000\n",
       "Name: floors_total, dtype: float64"
      ]
     },
     "execution_count": 49,
     "metadata": {},
     "output_type": "execute_result"
    }
   ],
   "source": [
    "data['floors_total'].describe()"
   ]
  },
  {
   "cell_type": "code",
   "execution_count": 50,
   "id": "c9cdc830",
   "metadata": {},
   "outputs": [
    {
     "data": {
      "text/plain": [
       "<AxesSubplot:>"
      ]
     },
     "execution_count": 50,
     "metadata": {},
     "output_type": "execute_result"
    },
    {
     "data": {
      "image/png": "[encoded data removed]",
      "text/plain": [
       "<Figure size 432x288 with 1 Axes>"
      ]
     },
     "metadata": {
      "needs_background": "light"
     },
     "output_type": "display_data"
    }
   ],
   "source": [
    "data.boxplot(column=['floor'])"
   ]
  },
  {
   "cell_type": "code",
   "execution_count": 51,
   "id": "8ad6bb18",
   "metadata": {},
   "outputs": [
    {
     "data": {
      "text/plain": [
       "count   23672.000\n",
       "mean        5.891\n",
       "std         4.883\n",
       "min         1.000\n",
       "25%         2.000\n",
       "50%         4.000\n",
       "75%         8.000\n",
       "max        33.000\n",
       "Name: floor, dtype: float64"
      ]
     },
     "execution_count": 51,
     "metadata": {},
     "output_type": "execute_result"
    }
   ],
   "source": [
    "data['floor'].describe()"
   ]
  },
  {
   "cell_type": "code",
   "execution_count": 52,
   "id": "ba7a311f",
   "metadata": {},
   "outputs": [
    {
     "data": {
      "text/plain": [
       "<AxesSubplot:>"
      ]
     },
     "execution_count": 52,
     "metadata": {},
     "output_type": "execute_result"
    },
    {
     "data": {
      "image/png": "[encoded data removed]",
      "text/plain": [
       "<Figure size 432x288 with 1 Axes>"
      ]
     },
     "metadata": {
      "needs_background": "light"
     },
     "output_type": "display_data"
    }
   ],
   "source": [
    "data.boxplot(column=['kitchen_area'])"
   ]
  },
  {
   "cell_type": "code",
   "execution_count": 53,
   "id": "49e8c54d",
   "metadata": {},
   "outputs": [
    {
     "data": {
      "text/plain": [
       "count   23467.000\n",
       "mean       10.457\n",
       "std         5.779\n",
       "min         1.300\n",
       "25%         7.000\n",
       "50%         9.000\n",
       "75%        11.810\n",
       "max       112.000\n",
       "Name: kitchen_area, dtype: float64"
      ]
     },
     "execution_count": 53,
     "metadata": {},
     "output_type": "execute_result"
    }
   ],
   "source": [
    "data['kitchen_area'].describe()"
   ]
  },
  {
   "cell_type": "code",
   "execution_count": 54,
   "id": "5f7bdcb1",
   "metadata": {},
   "outputs": [
    {
     "data": {
      "text/plain": [
       "<AxesSubplot:>"
      ]
     },
     "execution_count": 54,
     "metadata": {},
     "output_type": "execute_result"
    },
    {
     "data": {
      "image/png": "[encoded data removed]",
      "text/plain": [
       "<Figure size 432x288 with 1 Axes>"
      ]
     },
     "metadata": {
      "needs_background": "light"
     },
     "output_type": "display_data"
    }
   ],
   "source": [
    "data.boxplot(column=['living_area'])"
   ]
  },
  {
   "cell_type": "code",
   "execution_count": 55,
   "id": "733bbfc7",
   "metadata": {},
   "outputs": [
    {
     "data": {
      "text/plain": [
       "count   23529.000\n",
       "mean       34.459\n",
       "std        21.797\n",
       "min         2.000\n",
       "25%        18.600\n",
       "50%        30.000\n",
       "75%        42.300\n",
       "max       409.700\n",
       "Name: living_area, dtype: float64"
      ]
     },
     "execution_count": 55,
     "metadata": {},
     "output_type": "execute_result"
    }
   ],
   "source": [
    "data['living_area'].describe()"
   ]
  },
  {
   "cell_type": "code",
   "execution_count": 56,
   "id": "3ba7a5b1",
   "metadata": {},
   "outputs": [
    {
     "data": {
      "text/plain": [
       "count   23672.000\n",
       "mean        0.590\n",
       "std         0.958\n",
       "min         0.000\n",
       "25%         0.000\n",
       "50%         0.000\n",
       "75%         1.000\n",
       "max         5.000\n",
       "Name: balcony, dtype: float64"
      ]
     },
     "execution_count": 56,
     "metadata": {},
     "output_type": "execute_result"
    }
   ],
   "source": [
    "data['balcony'].describe()"
   ]
  },
  {
   "cell_type": "code",
   "execution_count": 57,
   "id": "4b54fce4",
   "metadata": {},
   "outputs": [
    {
     "data": {
      "text/plain": [
       "<AxesSubplot:>"
      ]
     },
     "execution_count": 57,
     "metadata": {},
     "output_type": "execute_result"
    },
    {
     "data": {
      "image/png": "[encoded data removed]",
      "text/plain": [
       "<Figure size 432x288 with 1 Axes>"
      ]
     },
     "metadata": {
      "needs_background": "light"
     },
     "output_type": "display_data"
    }
   ],
   "source": [
    "data.boxplot(column=['balcony'])"
   ]
  },
  {
   "cell_type": "code",
   "execution_count": 58,
   "id": "b7ddf414",
   "metadata": {},
   "outputs": [
    {
     "data": {
      "text/plain": [
       "7.882730652247381"
      ]
     },
     "execution_count": 58,
     "metadata": {},
     "output_type": "execute_result"
    }
   ],
   "source": [
    "(1866 / 23672) * 100"
   ]
  },
  {
   "cell_type": "markdown",
   "id": "2ba1820f",
   "metadata": {},
   "source": [
    "У некоторых параметров очевидно заметны выбросы, которые было решено устранить. Скорее всего аномально высокие значения являются следствием ошибок при заполнении анкет.  Удалено ~  7. 88 % данных"
   ]
  },
  {
   "cell_type": "markdown",
   "id": "562f079d",
   "metadata": {},
   "source": [
    "### Добавляем в таблицу новые столбцы"
   ]
  },
  {
   "cell_type": "markdown",
   "id": "88fc0697",
   "metadata": {},
   "source": [
    "#### Цена одного квадратного метра"
   ]
  },
  {
   "cell_type": "code",
   "execution_count": 59,
   "id": "65432ce7",
   "metadata": {},
   "outputs": [],
   "source": [
    "data['square_meter_price'] = data['last_price'] / data['total_area'] # общая цена на общую площадь"
   ]
  },
  {
   "cell_type": "code",
   "execution_count": 60,
   "id": "a38a5330",
   "metadata": {},
   "outputs": [
    {
     "data": {
      "text/html": [
       "<div>\n",
       "<style scoped>\n",
       "    .dataframe tbody tr th:only-of-type {\n",
       "        vertical-align: middle;\n",
       "    }\n",
       "\n",
       "    .dataframe tbody tr th {\n",
       "        vertical-align: top;\n",
       "    }\n",
       "\n",
       "    .dataframe thead th {\n",
       "        text-align: right;\n",
       "    }\n",
       "</style>\n",
       "<table border=\"1\" class=\"dataframe\">\n",
       "  <thead>\n",
       "    <tr style=\"text-align: right;\">\n",
       "      <th></th>\n",
       "      <th>total_images</th>\n",
       "      <th>last_price</th>\n",
       "      <th>total_area</th>\n",
       "      <th>first_day_exposition</th>\n",
       "      <th>rooms</th>\n",
       "      <th>ceiling_height</th>\n",
       "      <th>floors_total</th>\n",
       "      <th>living_area</th>\n",
       "      <th>floor</th>\n",
       "      <th>is_apartment</th>\n",
       "      <th>...</th>\n",
       "      <th>balcony</th>\n",
       "      <th>locality_name</th>\n",
       "      <th>airports_nearest</th>\n",
       "      <th>city_centers_nearest</th>\n",
       "      <th>parks_around_3000</th>\n",
       "      <th>parks_nearest</th>\n",
       "      <th>ponds_around_3000</th>\n",
       "      <th>ponds_nearest</th>\n",
       "      <th>days_exposition</th>\n",
       "      <th>square_meter_price</th>\n",
       "    </tr>\n",
       "  </thead>\n",
       "  <tbody>\n",
       "    <tr>\n",
       "      <th>0</th>\n",
       "      <td>20</td>\n",
       "      <td>13000000.000</td>\n",
       "      <td>108.000</td>\n",
       "      <td>2019-03-07</td>\n",
       "      <td>3</td>\n",
       "      <td>2.700</td>\n",
       "      <td>16.000</td>\n",
       "      <td>51.000</td>\n",
       "      <td>8</td>\n",
       "      <td>True</td>\n",
       "      <td>...</td>\n",
       "      <td>0.000</td>\n",
       "      <td>Санкт-Петербург</td>\n",
       "      <td>18863.000</td>\n",
       "      <td>16028.000</td>\n",
       "      <td>1.000</td>\n",
       "      <td>482.000</td>\n",
       "      <td>2.000</td>\n",
       "      <td>755.000</td>\n",
       "      <td>95.000</td>\n",
       "      <td>120370.370</td>\n",
       "    </tr>\n",
       "    <tr>\n",
       "      <th>1</th>\n",
       "      <td>7</td>\n",
       "      <td>3350000.000</td>\n",
       "      <td>40.400</td>\n",
       "      <td>2018-12-04</td>\n",
       "      <td>1</td>\n",
       "      <td>2.750</td>\n",
       "      <td>11.000</td>\n",
       "      <td>18.600</td>\n",
       "      <td>1</td>\n",
       "      <td>True</td>\n",
       "      <td>...</td>\n",
       "      <td>2.000</td>\n",
       "      <td>Шушары</td>\n",
       "      <td>12817.000</td>\n",
       "      <td>18603.000</td>\n",
       "      <td>0.000</td>\n",
       "      <td>NaN</td>\n",
       "      <td>0.000</td>\n",
       "      <td>584.500</td>\n",
       "      <td>81.000</td>\n",
       "      <td>82920.792</td>\n",
       "    </tr>\n",
       "    <tr>\n",
       "      <th>2</th>\n",
       "      <td>10</td>\n",
       "      <td>5196000.000</td>\n",
       "      <td>56.000</td>\n",
       "      <td>2015-08-20</td>\n",
       "      <td>2</td>\n",
       "      <td>2.550</td>\n",
       "      <td>5.000</td>\n",
       "      <td>34.300</td>\n",
       "      <td>4</td>\n",
       "      <td>True</td>\n",
       "      <td>...</td>\n",
       "      <td>0.000</td>\n",
       "      <td>Санкт-Петербург</td>\n",
       "      <td>21741.000</td>\n",
       "      <td>13933.000</td>\n",
       "      <td>1.000</td>\n",
       "      <td>90.000</td>\n",
       "      <td>2.000</td>\n",
       "      <td>574.000</td>\n",
       "      <td>558.000</td>\n",
       "      <td>92785.714</td>\n",
       "    </tr>\n",
       "    <tr>\n",
       "      <th>3</th>\n",
       "      <td>0</td>\n",
       "      <td>64900000.000</td>\n",
       "      <td>159.000</td>\n",
       "      <td>2015-07-24</td>\n",
       "      <td>3</td>\n",
       "      <td>2.600</td>\n",
       "      <td>14.000</td>\n",
       "      <td>95.000</td>\n",
       "      <td>9</td>\n",
       "      <td>True</td>\n",
       "      <td>...</td>\n",
       "      <td>0.000</td>\n",
       "      <td>Санкт-Петербург</td>\n",
       "      <td>28098.000</td>\n",
       "      <td>6800.000</td>\n",
       "      <td>2.000</td>\n",
       "      <td>84.000</td>\n",
       "      <td>3.000</td>\n",
       "      <td>234.000</td>\n",
       "      <td>424.000</td>\n",
       "      <td>408176.101</td>\n",
       "    </tr>\n",
       "    <tr>\n",
       "      <th>4</th>\n",
       "      <td>2</td>\n",
       "      <td>10000000.000</td>\n",
       "      <td>100.000</td>\n",
       "      <td>2018-06-19</td>\n",
       "      <td>2</td>\n",
       "      <td>3.030</td>\n",
       "      <td>14.000</td>\n",
       "      <td>32.000</td>\n",
       "      <td>13</td>\n",
       "      <td>True</td>\n",
       "      <td>...</td>\n",
       "      <td>0.000</td>\n",
       "      <td>Санкт-Петербург</td>\n",
       "      <td>31856.000</td>\n",
       "      <td>8098.000</td>\n",
       "      <td>2.000</td>\n",
       "      <td>112.000</td>\n",
       "      <td>1.000</td>\n",
       "      <td>48.000</td>\n",
       "      <td>121.000</td>\n",
       "      <td>100000.000</td>\n",
       "    </tr>\n",
       "  </tbody>\n",
       "</table>\n",
       "<p>5 rows × 23 columns</p>\n",
       "</div>"
      ],
      "text/plain": [
       "   total_images   last_price  total_area first_day_exposition  rooms  \\\n",
       "0            20 13000000.000     108.000           2019-03-07      3   \n",
       "1             7  3350000.000      40.400           2018-12-04      1   \n",
       "2            10  5196000.000      56.000           2015-08-20      2   \n",
       "3             0 64900000.000     159.000           2015-07-24      3   \n",
       "4             2 10000000.000     100.000           2018-06-19      2   \n",
       "\n",
       "   ceiling_height  floors_total  living_area  floor  is_apartment  ...  \\\n",
       "0           2.700        16.000       51.000      8          True  ...   \n",
       "1           2.750        11.000       18.600      1          True  ...   \n",
       "2           2.550         5.000       34.300      4          True  ...   \n",
       "3           2.600        14.000       95.000      9          True  ...   \n",
       "4           3.030        14.000       32.000     13          True  ...   \n",
       "\n",
       "   balcony    locality_name  airports_nearest  city_centers_nearest  \\\n",
       "0    0.000  Санкт-Петербург         18863.000             16028.000   \n",
       "1    2.000           Шушары         12817.000             18603.000   \n",
       "2    0.000  Санкт-Петербург         21741.000             13933.000   \n",
       "3    0.000  Санкт-Петербург         28098.000              6800.000   \n",
       "4    0.000  Санкт-Петербург         31856.000              8098.000   \n",
       "\n",
       "  parks_around_3000  parks_nearest  ponds_around_3000  ponds_nearest  \\\n",
       "0             1.000        482.000              2.000        755.000   \n",
       "1             0.000            NaN              0.000        584.500   \n",
       "2             1.000         90.000              2.000        574.000   \n",
       "3             2.000         84.000              3.000        234.000   \n",
       "4             2.000        112.000              1.000         48.000   \n",
       "\n",
       "   days_exposition  square_meter_price  \n",
       "0           95.000          120370.370  \n",
       "1           81.000           82920.792  \n",
       "2          558.000           92785.714  \n",
       "3          424.000          408176.101  \n",
       "4          121.000          100000.000  \n",
       "\n",
       "[5 rows x 23 columns]"
      ]
     },
     "execution_count": 60,
     "metadata": {},
     "output_type": "execute_result"
    }
   ],
   "source": [
    "data.head()"
   ]
  },
  {
   "cell_type": "markdown",
   "id": "d63c837b",
   "metadata": {},
   "source": [
    "#### День недели публикации объявления"
   ]
  },
  {
   "cell_type": "code",
   "execution_count": 61,
   "id": "cf45215a",
   "metadata": {},
   "outputs": [],
   "source": [
    "data['weekday_first_exposition'] = data['first_day_exposition'].dt.weekday"
   ]
  },
  {
   "cell_type": "code",
   "execution_count": 62,
   "id": "1f0106c5",
   "metadata": {},
   "outputs": [
    {
     "data": {
      "text/html": [
       "<div>\n",
       "<style scoped>\n",
       "    .dataframe tbody tr th:only-of-type {\n",
       "        vertical-align: middle;\n",
       "    }\n",
       "\n",
       "    .dataframe tbody tr th {\n",
       "        vertical-align: top;\n",
       "    }\n",
       "\n",
       "    .dataframe thead th {\n",
       "        text-align: right;\n",
       "    }\n",
       "</style>\n",
       "<table border=\"1\" class=\"dataframe\">\n",
       "  <thead>\n",
       "    <tr style=\"text-align: right;\">\n",
       "      <th></th>\n",
       "      <th>total_images</th>\n",
       "      <th>last_price</th>\n",
       "      <th>total_area</th>\n",
       "      <th>first_day_exposition</th>\n",
       "      <th>rooms</th>\n",
       "      <th>ceiling_height</th>\n",
       "      <th>floors_total</th>\n",
       "      <th>living_area</th>\n",
       "      <th>floor</th>\n",
       "      <th>is_apartment</th>\n",
       "      <th>...</th>\n",
       "      <th>locality_name</th>\n",
       "      <th>airports_nearest</th>\n",
       "      <th>city_centers_nearest</th>\n",
       "      <th>parks_around_3000</th>\n",
       "      <th>parks_nearest</th>\n",
       "      <th>ponds_around_3000</th>\n",
       "      <th>ponds_nearest</th>\n",
       "      <th>days_exposition</th>\n",
       "      <th>square_meter_price</th>\n",
       "      <th>weekday_first_exposition</th>\n",
       "    </tr>\n",
       "  </thead>\n",
       "  <tbody>\n",
       "    <tr>\n",
       "      <th>0</th>\n",
       "      <td>20</td>\n",
       "      <td>13000000.000</td>\n",
       "      <td>108.000</td>\n",
       "      <td>2019-03-07</td>\n",
       "      <td>3</td>\n",
       "      <td>2.700</td>\n",
       "      <td>16.000</td>\n",
       "      <td>51.000</td>\n",
       "      <td>8</td>\n",
       "      <td>True</td>\n",
       "      <td>...</td>\n",
       "      <td>Санкт-Петербург</td>\n",
       "      <td>18863.000</td>\n",
       "      <td>16028.000</td>\n",
       "      <td>1.000</td>\n",
       "      <td>482.000</td>\n",
       "      <td>2.000</td>\n",
       "      <td>755.000</td>\n",
       "      <td>95.000</td>\n",
       "      <td>120370.370</td>\n",
       "      <td>3</td>\n",
       "    </tr>\n",
       "    <tr>\n",
       "      <th>1</th>\n",
       "      <td>7</td>\n",
       "      <td>3350000.000</td>\n",
       "      <td>40.400</td>\n",
       "      <td>2018-12-04</td>\n",
       "      <td>1</td>\n",
       "      <td>2.750</td>\n",
       "      <td>11.000</td>\n",
       "      <td>18.600</td>\n",
       "      <td>1</td>\n",
       "      <td>True</td>\n",
       "      <td>...</td>\n",
       "      <td>Шушары</td>\n",
       "      <td>12817.000</td>\n",
       "      <td>18603.000</td>\n",
       "      <td>0.000</td>\n",
       "      <td>NaN</td>\n",
       "      <td>0.000</td>\n",
       "      <td>584.500</td>\n",
       "      <td>81.000</td>\n",
       "      <td>82920.792</td>\n",
       "      <td>1</td>\n",
       "    </tr>\n",
       "    <tr>\n",
       "      <th>2</th>\n",
       "      <td>10</td>\n",
       "      <td>5196000.000</td>\n",
       "      <td>56.000</td>\n",
       "      <td>2015-08-20</td>\n",
       "      <td>2</td>\n",
       "      <td>2.550</td>\n",
       "      <td>5.000</td>\n",
       "      <td>34.300</td>\n",
       "      <td>4</td>\n",
       "      <td>True</td>\n",
       "      <td>...</td>\n",
       "      <td>Санкт-Петербург</td>\n",
       "      <td>21741.000</td>\n",
       "      <td>13933.000</td>\n",
       "      <td>1.000</td>\n",
       "      <td>90.000</td>\n",
       "      <td>2.000</td>\n",
       "      <td>574.000</td>\n",
       "      <td>558.000</td>\n",
       "      <td>92785.714</td>\n",
       "      <td>3</td>\n",
       "    </tr>\n",
       "    <tr>\n",
       "      <th>3</th>\n",
       "      <td>0</td>\n",
       "      <td>64900000.000</td>\n",
       "      <td>159.000</td>\n",
       "      <td>2015-07-24</td>\n",
       "      <td>3</td>\n",
       "      <td>2.600</td>\n",
       "      <td>14.000</td>\n",
       "      <td>95.000</td>\n",
       "      <td>9</td>\n",
       "      <td>True</td>\n",
       "      <td>...</td>\n",
       "      <td>Санкт-Петербург</td>\n",
       "      <td>28098.000</td>\n",
       "      <td>6800.000</td>\n",
       "      <td>2.000</td>\n",
       "      <td>84.000</td>\n",
       "      <td>3.000</td>\n",
       "      <td>234.000</td>\n",
       "      <td>424.000</td>\n",
       "      <td>408176.101</td>\n",
       "      <td>4</td>\n",
       "    </tr>\n",
       "    <tr>\n",
       "      <th>4</th>\n",
       "      <td>2</td>\n",
       "      <td>10000000.000</td>\n",
       "      <td>100.000</td>\n",
       "      <td>2018-06-19</td>\n",
       "      <td>2</td>\n",
       "      <td>3.030</td>\n",
       "      <td>14.000</td>\n",
       "      <td>32.000</td>\n",
       "      <td>13</td>\n",
       "      <td>True</td>\n",
       "      <td>...</td>\n",
       "      <td>Санкт-Петербург</td>\n",
       "      <td>31856.000</td>\n",
       "      <td>8098.000</td>\n",
       "      <td>2.000</td>\n",
       "      <td>112.000</td>\n",
       "      <td>1.000</td>\n",
       "      <td>48.000</td>\n",
       "      <td>121.000</td>\n",
       "      <td>100000.000</td>\n",
       "      <td>1</td>\n",
       "    </tr>\n",
       "  </tbody>\n",
       "</table>\n",
       "<p>5 rows × 24 columns</p>\n",
       "</div>"
      ],
      "text/plain": [
       "   total_images   last_price  total_area first_day_exposition  rooms  \\\n",
       "0            20 13000000.000     108.000           2019-03-07      3   \n",
       "1             7  3350000.000      40.400           2018-12-04      1   \n",
       "2            10  5196000.000      56.000           2015-08-20      2   \n",
       "3             0 64900000.000     159.000           2015-07-24      3   \n",
       "4             2 10000000.000     100.000           2018-06-19      2   \n",
       "\n",
       "   ceiling_height  floors_total  living_area  floor  is_apartment  ...  \\\n",
       "0           2.700        16.000       51.000      8          True  ...   \n",
       "1           2.750        11.000       18.600      1          True  ...   \n",
       "2           2.550         5.000       34.300      4          True  ...   \n",
       "3           2.600        14.000       95.000      9          True  ...   \n",
       "4           3.030        14.000       32.000     13          True  ...   \n",
       "\n",
       "     locality_name  airports_nearest  city_centers_nearest  parks_around_3000  \\\n",
       "0  Санкт-Петербург         18863.000             16028.000              1.000   \n",
       "1           Шушары         12817.000             18603.000              0.000   \n",
       "2  Санкт-Петербург         21741.000             13933.000              1.000   \n",
       "3  Санкт-Петербург         28098.000              6800.000              2.000   \n",
       "4  Санкт-Петербург         31856.000              8098.000              2.000   \n",
       "\n",
       "  parks_nearest  ponds_around_3000  ponds_nearest  days_exposition  \\\n",
       "0       482.000              2.000        755.000           95.000   \n",
       "1           NaN              0.000        584.500           81.000   \n",
       "2        90.000              2.000        574.000          558.000   \n",
       "3        84.000              3.000        234.000          424.000   \n",
       "4       112.000              1.000         48.000          121.000   \n",
       "\n",
       "   square_meter_price  weekday_first_exposition  \n",
       "0          120370.370                         3  \n",
       "1           82920.792                         1  \n",
       "2           92785.714                         3  \n",
       "3          408176.101                         4  \n",
       "4          100000.000                         1  \n",
       "\n",
       "[5 rows x 24 columns]"
      ]
     },
     "execution_count": 62,
     "metadata": {},
     "output_type": "execute_result"
    }
   ],
   "source": [
    "data.head()"
   ]
  },
  {
   "cell_type": "markdown",
   "id": "a6d2d24c",
   "metadata": {},
   "source": [
    "#### Месяц публикации объявления;"
   ]
  },
  {
   "cell_type": "code",
   "execution_count": 63,
   "id": "c728662d",
   "metadata": {},
   "outputs": [],
   "source": [
    "data['month_first_exposition'] = data['first_day_exposition'].dt.month"
   ]
  },
  {
   "cell_type": "code",
   "execution_count": 64,
   "id": "0941d83a",
   "metadata": {},
   "outputs": [
    {
     "data": {
      "text/html": [
       "<div>\n",
       "<style scoped>\n",
       "    .dataframe tbody tr th:only-of-type {\n",
       "        vertical-align: middle;\n",
       "    }\n",
       "\n",
       "    .dataframe tbody tr th {\n",
       "        vertical-align: top;\n",
       "    }\n",
       "\n",
       "    .dataframe thead th {\n",
       "        text-align: right;\n",
       "    }\n",
       "</style>\n",
       "<table border=\"1\" class=\"dataframe\">\n",
       "  <thead>\n",
       "    <tr style=\"text-align: right;\">\n",
       "      <th></th>\n",
       "      <th>total_images</th>\n",
       "      <th>last_price</th>\n",
       "      <th>total_area</th>\n",
       "      <th>first_day_exposition</th>\n",
       "      <th>rooms</th>\n",
       "      <th>ceiling_height</th>\n",
       "      <th>floors_total</th>\n",
       "      <th>living_area</th>\n",
       "      <th>floor</th>\n",
       "      <th>is_apartment</th>\n",
       "      <th>...</th>\n",
       "      <th>airports_nearest</th>\n",
       "      <th>city_centers_nearest</th>\n",
       "      <th>parks_around_3000</th>\n",
       "      <th>parks_nearest</th>\n",
       "      <th>ponds_around_3000</th>\n",
       "      <th>ponds_nearest</th>\n",
       "      <th>days_exposition</th>\n",
       "      <th>square_meter_price</th>\n",
       "      <th>weekday_first_exposition</th>\n",
       "      <th>month_first_exposition</th>\n",
       "    </tr>\n",
       "  </thead>\n",
       "  <tbody>\n",
       "    <tr>\n",
       "      <th>0</th>\n",
       "      <td>20</td>\n",
       "      <td>13000000.000</td>\n",
       "      <td>108.000</td>\n",
       "      <td>2019-03-07</td>\n",
       "      <td>3</td>\n",
       "      <td>2.700</td>\n",
       "      <td>16.000</td>\n",
       "      <td>51.000</td>\n",
       "      <td>8</td>\n",
       "      <td>True</td>\n",
       "      <td>...</td>\n",
       "      <td>18863.000</td>\n",
       "      <td>16028.000</td>\n",
       "      <td>1.000</td>\n",
       "      <td>482.000</td>\n",
       "      <td>2.000</td>\n",
       "      <td>755.000</td>\n",
       "      <td>95.000</td>\n",
       "      <td>120370.370</td>\n",
       "      <td>3</td>\n",
       "      <td>3</td>\n",
       "    </tr>\n",
       "    <tr>\n",
       "      <th>1</th>\n",
       "      <td>7</td>\n",
       "      <td>3350000.000</td>\n",
       "      <td>40.400</td>\n",
       "      <td>2018-12-04</td>\n",
       "      <td>1</td>\n",
       "      <td>2.750</td>\n",
       "      <td>11.000</td>\n",
       "      <td>18.600</td>\n",
       "      <td>1</td>\n",
       "      <td>True</td>\n",
       "      <td>...</td>\n",
       "      <td>12817.000</td>\n",
       "      <td>18603.000</td>\n",
       "      <td>0.000</td>\n",
       "      <td>NaN</td>\n",
       "      <td>0.000</td>\n",
       "      <td>584.500</td>\n",
       "      <td>81.000</td>\n",
       "      <td>82920.792</td>\n",
       "      <td>1</td>\n",
       "      <td>12</td>\n",
       "    </tr>\n",
       "    <tr>\n",
       "      <th>2</th>\n",
       "      <td>10</td>\n",
       "      <td>5196000.000</td>\n",
       "      <td>56.000</td>\n",
       "      <td>2015-08-20</td>\n",
       "      <td>2</td>\n",
       "      <td>2.550</td>\n",
       "      <td>5.000</td>\n",
       "      <td>34.300</td>\n",
       "      <td>4</td>\n",
       "      <td>True</td>\n",
       "      <td>...</td>\n",
       "      <td>21741.000</td>\n",
       "      <td>13933.000</td>\n",
       "      <td>1.000</td>\n",
       "      <td>90.000</td>\n",
       "      <td>2.000</td>\n",
       "      <td>574.000</td>\n",
       "      <td>558.000</td>\n",
       "      <td>92785.714</td>\n",
       "      <td>3</td>\n",
       "      <td>8</td>\n",
       "    </tr>\n",
       "    <tr>\n",
       "      <th>3</th>\n",
       "      <td>0</td>\n",
       "      <td>64900000.000</td>\n",
       "      <td>159.000</td>\n",
       "      <td>2015-07-24</td>\n",
       "      <td>3</td>\n",
       "      <td>2.600</td>\n",
       "      <td>14.000</td>\n",
       "      <td>95.000</td>\n",
       "      <td>9</td>\n",
       "      <td>True</td>\n",
       "      <td>...</td>\n",
       "      <td>28098.000</td>\n",
       "      <td>6800.000</td>\n",
       "      <td>2.000</td>\n",
       "      <td>84.000</td>\n",
       "      <td>3.000</td>\n",
       "      <td>234.000</td>\n",
       "      <td>424.000</td>\n",
       "      <td>408176.101</td>\n",
       "      <td>4</td>\n",
       "      <td>7</td>\n",
       "    </tr>\n",
       "    <tr>\n",
       "      <th>4</th>\n",
       "      <td>2</td>\n",
       "      <td>10000000.000</td>\n",
       "      <td>100.000</td>\n",
       "      <td>2018-06-19</td>\n",
       "      <td>2</td>\n",
       "      <td>3.030</td>\n",
       "      <td>14.000</td>\n",
       "      <td>32.000</td>\n",
       "      <td>13</td>\n",
       "      <td>True</td>\n",
       "      <td>...</td>\n",
       "      <td>31856.000</td>\n",
       "      <td>8098.000</td>\n",
       "      <td>2.000</td>\n",
       "      <td>112.000</td>\n",
       "      <td>1.000</td>\n",
       "      <td>48.000</td>\n",
       "      <td>121.000</td>\n",
       "      <td>100000.000</td>\n",
       "      <td>1</td>\n",
       "      <td>6</td>\n",
       "    </tr>\n",
       "  </tbody>\n",
       "</table>\n",
       "<p>5 rows × 25 columns</p>\n",
       "</div>"
      ],
      "text/plain": [
       "   total_images   last_price  total_area first_day_exposition  rooms  \\\n",
       "0            20 13000000.000     108.000           2019-03-07      3   \n",
       "1             7  3350000.000      40.400           2018-12-04      1   \n",
       "2            10  5196000.000      56.000           2015-08-20      2   \n",
       "3             0 64900000.000     159.000           2015-07-24      3   \n",
       "4             2 10000000.000     100.000           2018-06-19      2   \n",
       "\n",
       "   ceiling_height  floors_total  living_area  floor  is_apartment  ...  \\\n",
       "0           2.700        16.000       51.000      8          True  ...   \n",
       "1           2.750        11.000       18.600      1          True  ...   \n",
       "2           2.550         5.000       34.300      4          True  ...   \n",
       "3           2.600        14.000       95.000      9          True  ...   \n",
       "4           3.030        14.000       32.000     13          True  ...   \n",
       "\n",
       "   airports_nearest  city_centers_nearest  parks_around_3000  parks_nearest  \\\n",
       "0         18863.000             16028.000              1.000        482.000   \n",
       "1         12817.000             18603.000              0.000            NaN   \n",
       "2         21741.000             13933.000              1.000         90.000   \n",
       "3         28098.000              6800.000              2.000         84.000   \n",
       "4         31856.000              8098.000              2.000        112.000   \n",
       "\n",
       "  ponds_around_3000  ponds_nearest  days_exposition  square_meter_price  \\\n",
       "0             2.000        755.000           95.000          120370.370   \n",
       "1             0.000        584.500           81.000           82920.792   \n",
       "2             2.000        574.000          558.000           92785.714   \n",
       "3             3.000        234.000          424.000          408176.101   \n",
       "4             1.000         48.000          121.000          100000.000   \n",
       "\n",
       "   weekday_first_exposition  month_first_exposition  \n",
       "0                         3                       3  \n",
       "1                         1                      12  \n",
       "2                         3                       8  \n",
       "3                         4                       7  \n",
       "4                         1                       6  \n",
       "\n",
       "[5 rows x 25 columns]"
      ]
     },
     "execution_count": 64,
     "metadata": {},
     "output_type": "execute_result"
    }
   ],
   "source": [
    "data.head()"
   ]
  },
  {
   "cell_type": "markdown",
   "id": "19e9feb9",
   "metadata": {},
   "source": [
    "#### Месяц публикации объявления"
   ]
  },
  {
   "cell_type": "code",
   "execution_count": 65,
   "id": "8cc5c9d4",
   "metadata": {},
   "outputs": [],
   "source": [
    "data['year_first_exposition'] = data['first_day_exposition'].dt.year"
   ]
  },
  {
   "cell_type": "code",
   "execution_count": 66,
   "id": "f27f65e2",
   "metadata": {},
   "outputs": [
    {
     "data": {
      "text/html": [
       "<div>\n",
       "<style scoped>\n",
       "    .dataframe tbody tr th:only-of-type {\n",
       "        vertical-align: middle;\n",
       "    }\n",
       "\n",
       "    .dataframe tbody tr th {\n",
       "        vertical-align: top;\n",
       "    }\n",
       "\n",
       "    .dataframe thead th {\n",
       "        text-align: right;\n",
       "    }\n",
       "</style>\n",
       "<table border=\"1\" class=\"dataframe\">\n",
       "  <thead>\n",
       "    <tr style=\"text-align: right;\">\n",
       "      <th></th>\n",
       "      <th>total_images</th>\n",
       "      <th>last_price</th>\n",
       "      <th>total_area</th>\n",
       "      <th>first_day_exposition</th>\n",
       "      <th>rooms</th>\n",
       "      <th>ceiling_height</th>\n",
       "      <th>floors_total</th>\n",
       "      <th>living_area</th>\n",
       "      <th>floor</th>\n",
       "      <th>is_apartment</th>\n",
       "      <th>...</th>\n",
       "      <th>city_centers_nearest</th>\n",
       "      <th>parks_around_3000</th>\n",
       "      <th>parks_nearest</th>\n",
       "      <th>ponds_around_3000</th>\n",
       "      <th>ponds_nearest</th>\n",
       "      <th>days_exposition</th>\n",
       "      <th>square_meter_price</th>\n",
       "      <th>weekday_first_exposition</th>\n",
       "      <th>month_first_exposition</th>\n",
       "      <th>year_first_exposition</th>\n",
       "    </tr>\n",
       "  </thead>\n",
       "  <tbody>\n",
       "    <tr>\n",
       "      <th>0</th>\n",
       "      <td>20</td>\n",
       "      <td>13000000.000</td>\n",
       "      <td>108.000</td>\n",
       "      <td>2019-03-07</td>\n",
       "      <td>3</td>\n",
       "      <td>2.700</td>\n",
       "      <td>16.000</td>\n",
       "      <td>51.000</td>\n",
       "      <td>8</td>\n",
       "      <td>True</td>\n",
       "      <td>...</td>\n",
       "      <td>16028.000</td>\n",
       "      <td>1.000</td>\n",
       "      <td>482.000</td>\n",
       "      <td>2.000</td>\n",
       "      <td>755.000</td>\n",
       "      <td>95.000</td>\n",
       "      <td>120370.370</td>\n",
       "      <td>3</td>\n",
       "      <td>3</td>\n",
       "      <td>2019</td>\n",
       "    </tr>\n",
       "    <tr>\n",
       "      <th>1</th>\n",
       "      <td>7</td>\n",
       "      <td>3350000.000</td>\n",
       "      <td>40.400</td>\n",
       "      <td>2018-12-04</td>\n",
       "      <td>1</td>\n",
       "      <td>2.750</td>\n",
       "      <td>11.000</td>\n",
       "      <td>18.600</td>\n",
       "      <td>1</td>\n",
       "      <td>True</td>\n",
       "      <td>...</td>\n",
       "      <td>18603.000</td>\n",
       "      <td>0.000</td>\n",
       "      <td>NaN</td>\n",
       "      <td>0.000</td>\n",
       "      <td>584.500</td>\n",
       "      <td>81.000</td>\n",
       "      <td>82920.792</td>\n",
       "      <td>1</td>\n",
       "      <td>12</td>\n",
       "      <td>2018</td>\n",
       "    </tr>\n",
       "    <tr>\n",
       "      <th>2</th>\n",
       "      <td>10</td>\n",
       "      <td>5196000.000</td>\n",
       "      <td>56.000</td>\n",
       "      <td>2015-08-20</td>\n",
       "      <td>2</td>\n",
       "      <td>2.550</td>\n",
       "      <td>5.000</td>\n",
       "      <td>34.300</td>\n",
       "      <td>4</td>\n",
       "      <td>True</td>\n",
       "      <td>...</td>\n",
       "      <td>13933.000</td>\n",
       "      <td>1.000</td>\n",
       "      <td>90.000</td>\n",
       "      <td>2.000</td>\n",
       "      <td>574.000</td>\n",
       "      <td>558.000</td>\n",
       "      <td>92785.714</td>\n",
       "      <td>3</td>\n",
       "      <td>8</td>\n",
       "      <td>2015</td>\n",
       "    </tr>\n",
       "    <tr>\n",
       "      <th>3</th>\n",
       "      <td>0</td>\n",
       "      <td>64900000.000</td>\n",
       "      <td>159.000</td>\n",
       "      <td>2015-07-24</td>\n",
       "      <td>3</td>\n",
       "      <td>2.600</td>\n",
       "      <td>14.000</td>\n",
       "      <td>95.000</td>\n",
       "      <td>9</td>\n",
       "      <td>True</td>\n",
       "      <td>...</td>\n",
       "      <td>6800.000</td>\n",
       "      <td>2.000</td>\n",
       "      <td>84.000</td>\n",
       "      <td>3.000</td>\n",
       "      <td>234.000</td>\n",
       "      <td>424.000</td>\n",
       "      <td>408176.101</td>\n",
       "      <td>4</td>\n",
       "      <td>7</td>\n",
       "      <td>2015</td>\n",
       "    </tr>\n",
       "    <tr>\n",
       "      <th>4</th>\n",
       "      <td>2</td>\n",
       "      <td>10000000.000</td>\n",
       "      <td>100.000</td>\n",
       "      <td>2018-06-19</td>\n",
       "      <td>2</td>\n",
       "      <td>3.030</td>\n",
       "      <td>14.000</td>\n",
       "      <td>32.000</td>\n",
       "      <td>13</td>\n",
       "      <td>True</td>\n",
       "      <td>...</td>\n",
       "      <td>8098.000</td>\n",
       "      <td>2.000</td>\n",
       "      <td>112.000</td>\n",
       "      <td>1.000</td>\n",
       "      <td>48.000</td>\n",
       "      <td>121.000</td>\n",
       "      <td>100000.000</td>\n",
       "      <td>1</td>\n",
       "      <td>6</td>\n",
       "      <td>2018</td>\n",
       "    </tr>\n",
       "  </tbody>\n",
       "</table>\n",
       "<p>5 rows × 26 columns</p>\n",
       "</div>"
      ],
      "text/plain": [
       "   total_images   last_price  total_area first_day_exposition  rooms  \\\n",
       "0            20 13000000.000     108.000           2019-03-07      3   \n",
       "1             7  3350000.000      40.400           2018-12-04      1   \n",
       "2            10  5196000.000      56.000           2015-08-20      2   \n",
       "3             0 64900000.000     159.000           2015-07-24      3   \n",
       "4             2 10000000.000     100.000           2018-06-19      2   \n",
       "\n",
       "   ceiling_height  floors_total  living_area  floor  is_apartment  ...  \\\n",
       "0           2.700        16.000       51.000      8          True  ...   \n",
       "1           2.750        11.000       18.600      1          True  ...   \n",
       "2           2.550         5.000       34.300      4          True  ...   \n",
       "3           2.600        14.000       95.000      9          True  ...   \n",
       "4           3.030        14.000       32.000     13          True  ...   \n",
       "\n",
       "   city_centers_nearest  parks_around_3000  parks_nearest  ponds_around_3000  \\\n",
       "0             16028.000              1.000        482.000              2.000   \n",
       "1             18603.000              0.000            NaN              0.000   \n",
       "2             13933.000              1.000         90.000              2.000   \n",
       "3              6800.000              2.000         84.000              3.000   \n",
       "4              8098.000              2.000        112.000              1.000   \n",
       "\n",
       "  ponds_nearest  days_exposition  square_meter_price  \\\n",
       "0       755.000           95.000          120370.370   \n",
       "1       584.500           81.000           82920.792   \n",
       "2       574.000          558.000           92785.714   \n",
       "3       234.000          424.000          408176.101   \n",
       "4        48.000          121.000          100000.000   \n",
       "\n",
       "   weekday_first_exposition  month_first_exposition  year_first_exposition  \n",
       "0                         3                       3                   2019  \n",
       "1                         1                      12                   2018  \n",
       "2                         3                       8                   2015  \n",
       "3                         4                       7                   2015  \n",
       "4                         1                       6                   2018  \n",
       "\n",
       "[5 rows x 26 columns]"
      ]
     },
     "execution_count": 66,
     "metadata": {},
     "output_type": "execute_result"
    }
   ],
   "source": [
    "data.head()"
   ]
  },
  {
   "cell_type": "markdown",
   "id": "d2e12a7d",
   "metadata": {},
   "source": [
    "#### Тип этажа квартиры"
   ]
  },
  {
   "cell_type": "markdown",
   "id": "c08fe0b8",
   "metadata": {},
   "source": [
    "####  Исключим 75 строк с пустыми floors_total"
   ]
  },
  {
   "cell_type": "code",
   "execution_count": 67,
   "id": "6f555c97",
   "metadata": {},
   "outputs": [],
   "source": [
    "data = data[data['floors_total'].notna()]"
   ]
  },
  {
   "cell_type": "code",
   "execution_count": 68,
   "id": "d2a2862a",
   "metadata": {},
   "outputs": [
    {
     "data": {
      "text/plain": [
       "total_images                   0\n",
       "last_price                     0\n",
       "total_area                     0\n",
       "first_day_exposition           0\n",
       "rooms                          0\n",
       "ceiling_height                 1\n",
       "floors_total                   0\n",
       "living_area                  133\n",
       "floor                          0\n",
       "is_apartment                   0\n",
       "studio                         0\n",
       "open_plan                      0\n",
       "kitchen_area                 185\n",
       "balcony                        0\n",
       "locality_name                  0\n",
       "airports_nearest            4816\n",
       "city_centers_nearest        4816\n",
       "parks_around_3000           4816\n",
       "parks_nearest               5977\n",
       "ponds_around_3000           4816\n",
       "ponds_nearest               4924\n",
       "days_exposition               80\n",
       "square_meter_price             0\n",
       "weekday_first_exposition       0\n",
       "month_first_exposition         0\n",
       "year_first_exposition          0\n",
       "dtype: int64"
      ]
     },
     "execution_count": 68,
     "metadata": {},
     "output_type": "execute_result"
    }
   ],
   "source": [
    "data.isnull().sum()"
   ]
  },
  {
   "cell_type": "markdown",
   "id": "1e064cb6",
   "metadata": {},
   "source": [
    "#### Создадим функцию floor_type для категоризации этажей"
   ]
  },
  {
   "cell_type": "code",
   "execution_count": 69,
   "id": "4db5174b",
   "metadata": {},
   "outputs": [],
   "source": [
    "def floor_type(x):\n",
    "    if x['floor'] == x['floors_total']:\n",
    "        return 'последний'\n",
    "    elif x['floor'] == 1:\n",
    "        return 'первый'\n",
    "    else:\n",
    "        return 'другой'\n",
    "        "
   ]
  },
  {
   "cell_type": "code",
   "execution_count": 70,
   "id": "6892435b",
   "metadata": {},
   "outputs": [],
   "source": [
    "data['floor_type'] = data.apply(floor_type, axis=1)"
   ]
  },
  {
   "cell_type": "code",
   "execution_count": 71,
   "id": "b9007972",
   "metadata": {},
   "outputs": [
    {
     "data": {
      "text/html": [
       "<div>\n",
       "<style scoped>\n",
       "    .dataframe tbody tr th:only-of-type {\n",
       "        vertical-align: middle;\n",
       "    }\n",
       "\n",
       "    .dataframe tbody tr th {\n",
       "        vertical-align: top;\n",
       "    }\n",
       "\n",
       "    .dataframe thead th {\n",
       "        text-align: right;\n",
       "    }\n",
       "</style>\n",
       "<table border=\"1\" class=\"dataframe\">\n",
       "  <thead>\n",
       "    <tr style=\"text-align: right;\">\n",
       "      <th></th>\n",
       "      <th>total_images</th>\n",
       "      <th>last_price</th>\n",
       "      <th>total_area</th>\n",
       "      <th>first_day_exposition</th>\n",
       "      <th>rooms</th>\n",
       "      <th>ceiling_height</th>\n",
       "      <th>floors_total</th>\n",
       "      <th>living_area</th>\n",
       "      <th>floor</th>\n",
       "      <th>is_apartment</th>\n",
       "      <th>...</th>\n",
       "      <th>parks_around_3000</th>\n",
       "      <th>parks_nearest</th>\n",
       "      <th>ponds_around_3000</th>\n",
       "      <th>ponds_nearest</th>\n",
       "      <th>days_exposition</th>\n",
       "      <th>square_meter_price</th>\n",
       "      <th>weekday_first_exposition</th>\n",
       "      <th>month_first_exposition</th>\n",
       "      <th>year_first_exposition</th>\n",
       "      <th>floor_type</th>\n",
       "    </tr>\n",
       "  </thead>\n",
       "  <tbody>\n",
       "    <tr>\n",
       "      <th>0</th>\n",
       "      <td>20</td>\n",
       "      <td>13000000.000</td>\n",
       "      <td>108.000</td>\n",
       "      <td>2019-03-07</td>\n",
       "      <td>3</td>\n",
       "      <td>2.700</td>\n",
       "      <td>16.000</td>\n",
       "      <td>51.000</td>\n",
       "      <td>8</td>\n",
       "      <td>True</td>\n",
       "      <td>...</td>\n",
       "      <td>1.000</td>\n",
       "      <td>482.000</td>\n",
       "      <td>2.000</td>\n",
       "      <td>755.000</td>\n",
       "      <td>95.000</td>\n",
       "      <td>120370.370</td>\n",
       "      <td>3</td>\n",
       "      <td>3</td>\n",
       "      <td>2019</td>\n",
       "      <td>другой</td>\n",
       "    </tr>\n",
       "    <tr>\n",
       "      <th>1</th>\n",
       "      <td>7</td>\n",
       "      <td>3350000.000</td>\n",
       "      <td>40.400</td>\n",
       "      <td>2018-12-04</td>\n",
       "      <td>1</td>\n",
       "      <td>2.750</td>\n",
       "      <td>11.000</td>\n",
       "      <td>18.600</td>\n",
       "      <td>1</td>\n",
       "      <td>True</td>\n",
       "      <td>...</td>\n",
       "      <td>0.000</td>\n",
       "      <td>NaN</td>\n",
       "      <td>0.000</td>\n",
       "      <td>584.500</td>\n",
       "      <td>81.000</td>\n",
       "      <td>82920.792</td>\n",
       "      <td>1</td>\n",
       "      <td>12</td>\n",
       "      <td>2018</td>\n",
       "      <td>первый</td>\n",
       "    </tr>\n",
       "    <tr>\n",
       "      <th>2</th>\n",
       "      <td>10</td>\n",
       "      <td>5196000.000</td>\n",
       "      <td>56.000</td>\n",
       "      <td>2015-08-20</td>\n",
       "      <td>2</td>\n",
       "      <td>2.550</td>\n",
       "      <td>5.000</td>\n",
       "      <td>34.300</td>\n",
       "      <td>4</td>\n",
       "      <td>True</td>\n",
       "      <td>...</td>\n",
       "      <td>1.000</td>\n",
       "      <td>90.000</td>\n",
       "      <td>2.000</td>\n",
       "      <td>574.000</td>\n",
       "      <td>558.000</td>\n",
       "      <td>92785.714</td>\n",
       "      <td>3</td>\n",
       "      <td>8</td>\n",
       "      <td>2015</td>\n",
       "      <td>другой</td>\n",
       "    </tr>\n",
       "    <tr>\n",
       "      <th>3</th>\n",
       "      <td>0</td>\n",
       "      <td>64900000.000</td>\n",
       "      <td>159.000</td>\n",
       "      <td>2015-07-24</td>\n",
       "      <td>3</td>\n",
       "      <td>2.600</td>\n",
       "      <td>14.000</td>\n",
       "      <td>95.000</td>\n",
       "      <td>9</td>\n",
       "      <td>True</td>\n",
       "      <td>...</td>\n",
       "      <td>2.000</td>\n",
       "      <td>84.000</td>\n",
       "      <td>3.000</td>\n",
       "      <td>234.000</td>\n",
       "      <td>424.000</td>\n",
       "      <td>408176.101</td>\n",
       "      <td>4</td>\n",
       "      <td>7</td>\n",
       "      <td>2015</td>\n",
       "      <td>другой</td>\n",
       "    </tr>\n",
       "    <tr>\n",
       "      <th>4</th>\n",
       "      <td>2</td>\n",
       "      <td>10000000.000</td>\n",
       "      <td>100.000</td>\n",
       "      <td>2018-06-19</td>\n",
       "      <td>2</td>\n",
       "      <td>3.030</td>\n",
       "      <td>14.000</td>\n",
       "      <td>32.000</td>\n",
       "      <td>13</td>\n",
       "      <td>True</td>\n",
       "      <td>...</td>\n",
       "      <td>2.000</td>\n",
       "      <td>112.000</td>\n",
       "      <td>1.000</td>\n",
       "      <td>48.000</td>\n",
       "      <td>121.000</td>\n",
       "      <td>100000.000</td>\n",
       "      <td>1</td>\n",
       "      <td>6</td>\n",
       "      <td>2018</td>\n",
       "      <td>другой</td>\n",
       "    </tr>\n",
       "  </tbody>\n",
       "</table>\n",
       "<p>5 rows × 27 columns</p>\n",
       "</div>"
      ],
      "text/plain": [
       "   total_images   last_price  total_area first_day_exposition  rooms  \\\n",
       "0            20 13000000.000     108.000           2019-03-07      3   \n",
       "1             7  3350000.000      40.400           2018-12-04      1   \n",
       "2            10  5196000.000      56.000           2015-08-20      2   \n",
       "3             0 64900000.000     159.000           2015-07-24      3   \n",
       "4             2 10000000.000     100.000           2018-06-19      2   \n",
       "\n",
       "   ceiling_height  floors_total  living_area  floor  is_apartment  ...  \\\n",
       "0           2.700        16.000       51.000      8          True  ...   \n",
       "1           2.750        11.000       18.600      1          True  ...   \n",
       "2           2.550         5.000       34.300      4          True  ...   \n",
       "3           2.600        14.000       95.000      9          True  ...   \n",
       "4           3.030        14.000       32.000     13          True  ...   \n",
       "\n",
       "   parks_around_3000  parks_nearest  ponds_around_3000  ponds_nearest  \\\n",
       "0              1.000        482.000              2.000        755.000   \n",
       "1              0.000            NaN              0.000        584.500   \n",
       "2              1.000         90.000              2.000        574.000   \n",
       "3              2.000         84.000              3.000        234.000   \n",
       "4              2.000        112.000              1.000         48.000   \n",
       "\n",
       "  days_exposition  square_meter_price  weekday_first_exposition  \\\n",
       "0          95.000          120370.370                         3   \n",
       "1          81.000           82920.792                         1   \n",
       "2         558.000           92785.714                         3   \n",
       "3         424.000          408176.101                         4   \n",
       "4         121.000          100000.000                         1   \n",
       "\n",
       "   month_first_exposition  year_first_exposition  floor_type  \n",
       "0                       3                   2019      другой  \n",
       "1                      12                   2018      первый  \n",
       "2                       8                   2015      другой  \n",
       "3                       7                   2015      другой  \n",
       "4                       6                   2018      другой  \n",
       "\n",
       "[5 rows x 27 columns]"
      ]
     },
     "execution_count": 71,
     "metadata": {},
     "output_type": "execute_result"
    }
   ],
   "source": [
    "data.head()"
   ]
  },
  {
   "cell_type": "markdown",
   "id": "be939704",
   "metadata": {},
   "source": [
    "#### Расстояние до центра города в километрах"
   ]
  },
  {
   "cell_type": "markdown",
   "id": "269a3fe6",
   "metadata": {},
   "source": [
    "#### Попробуем заполнить city_center_nearest медианами по населенным пунктам"
   ]
  },
  {
   "cell_type": "code",
   "execution_count": 72,
   "id": "f16aec72",
   "metadata": {},
   "outputs": [],
   "source": [
    " data['city_centers_nearest'] = data['city_centers_nearest'].fillna(data.groupby('locality_name')['city_centers_nearest'].transform('median'))"
   ]
  },
  {
   "cell_type": "code",
   "execution_count": 73,
   "id": "cb4e4c84",
   "metadata": {},
   "outputs": [
    {
     "data": {
      "text/plain": [
       "total_images                   0\n",
       "last_price                     0\n",
       "total_area                     0\n",
       "first_day_exposition           0\n",
       "rooms                          0\n",
       "ceiling_height                 1\n",
       "floors_total                   0\n",
       "living_area                  133\n",
       "floor                          0\n",
       "is_apartment                   0\n",
       "studio                         0\n",
       "open_plan                      0\n",
       "kitchen_area                 185\n",
       "balcony                        0\n",
       "locality_name                  0\n",
       "airports_nearest            4816\n",
       "city_centers_nearest        4816\n",
       "parks_around_3000           4816\n",
       "parks_nearest               5977\n",
       "ponds_around_3000           4816\n",
       "ponds_nearest               4924\n",
       "days_exposition               80\n",
       "square_meter_price             0\n",
       "weekday_first_exposition       0\n",
       "month_first_exposition         0\n",
       "year_first_exposition          0\n",
       "floor_type                     0\n",
       "dtype: int64"
      ]
     },
     "execution_count": 73,
     "metadata": {},
     "output_type": "execute_result"
    }
   ],
   "source": [
    "data.isnull().sum()"
   ]
  },
  {
   "cell_type": "code",
   "execution_count": 74,
   "id": "1a88634b",
   "metadata": {},
   "outputs": [],
   "source": [
    "data['city_centers_nearest'] = data['city_centers_nearest'].fillna(0) # заполним оставшиеся значения 0"
   ]
  },
  {
   "cell_type": "code",
   "execution_count": 75,
   "id": "fcde17f6",
   "metadata": {},
   "outputs": [],
   "source": [
    "data['city_centers_nearest_km'] = data['city_centers_nearest'] / 1000"
   ]
  },
  {
   "cell_type": "code",
   "execution_count": 76,
   "id": "538ba247",
   "metadata": {
    "scrolled": true
   },
   "outputs": [],
   "source": [
    "### Обычное применение round и astype('Int64') не сработало. Хотелось бы знать почему?\n",
    "decimals = 0    \n",
    "data['city_centers_nearest_km'] = data['city_centers_nearest_km'].apply(lambda x: round(x, decimals))\n"
   ]
  },
  {
   "cell_type": "code",
   "execution_count": 77,
   "id": "9e43dc2b",
   "metadata": {},
   "outputs": [],
   "source": [
    "data['city_centers_nearest_km'] = data['city_centers_nearest_km'].astype('Int64')"
   ]
  },
  {
   "cell_type": "code",
   "execution_count": 78,
   "id": "48e49b49",
   "metadata": {},
   "outputs": [
    {
     "data": {
      "text/html": [
       "<div>\n",
       "<style scoped>\n",
       "    .dataframe tbody tr th:only-of-type {\n",
       "        vertical-align: middle;\n",
       "    }\n",
       "\n",
       "    .dataframe tbody tr th {\n",
       "        vertical-align: top;\n",
       "    }\n",
       "\n",
       "    .dataframe thead th {\n",
       "        text-align: right;\n",
       "    }\n",
       "</style>\n",
       "<table border=\"1\" class=\"dataframe\">\n",
       "  <thead>\n",
       "    <tr style=\"text-align: right;\">\n",
       "      <th></th>\n",
       "      <th>total_images</th>\n",
       "      <th>last_price</th>\n",
       "      <th>total_area</th>\n",
       "      <th>first_day_exposition</th>\n",
       "      <th>rooms</th>\n",
       "      <th>ceiling_height</th>\n",
       "      <th>floors_total</th>\n",
       "      <th>living_area</th>\n",
       "      <th>floor</th>\n",
       "      <th>is_apartment</th>\n",
       "      <th>...</th>\n",
       "      <th>parks_nearest</th>\n",
       "      <th>ponds_around_3000</th>\n",
       "      <th>ponds_nearest</th>\n",
       "      <th>days_exposition</th>\n",
       "      <th>square_meter_price</th>\n",
       "      <th>weekday_first_exposition</th>\n",
       "      <th>month_first_exposition</th>\n",
       "      <th>year_first_exposition</th>\n",
       "      <th>floor_type</th>\n",
       "      <th>city_centers_nearest_km</th>\n",
       "    </tr>\n",
       "  </thead>\n",
       "  <tbody>\n",
       "    <tr>\n",
       "      <th>0</th>\n",
       "      <td>20</td>\n",
       "      <td>13000000.000</td>\n",
       "      <td>108.000</td>\n",
       "      <td>2019-03-07</td>\n",
       "      <td>3</td>\n",
       "      <td>2.700</td>\n",
       "      <td>16.000</td>\n",
       "      <td>51.000</td>\n",
       "      <td>8</td>\n",
       "      <td>True</td>\n",
       "      <td>...</td>\n",
       "      <td>482.000</td>\n",
       "      <td>2.000</td>\n",
       "      <td>755.000</td>\n",
       "      <td>95.000</td>\n",
       "      <td>120370.370</td>\n",
       "      <td>3</td>\n",
       "      <td>3</td>\n",
       "      <td>2019</td>\n",
       "      <td>другой</td>\n",
       "      <td>16</td>\n",
       "    </tr>\n",
       "    <tr>\n",
       "      <th>1</th>\n",
       "      <td>7</td>\n",
       "      <td>3350000.000</td>\n",
       "      <td>40.400</td>\n",
       "      <td>2018-12-04</td>\n",
       "      <td>1</td>\n",
       "      <td>2.750</td>\n",
       "      <td>11.000</td>\n",
       "      <td>18.600</td>\n",
       "      <td>1</td>\n",
       "      <td>True</td>\n",
       "      <td>...</td>\n",
       "      <td>NaN</td>\n",
       "      <td>0.000</td>\n",
       "      <td>584.500</td>\n",
       "      <td>81.000</td>\n",
       "      <td>82920.792</td>\n",
       "      <td>1</td>\n",
       "      <td>12</td>\n",
       "      <td>2018</td>\n",
       "      <td>первый</td>\n",
       "      <td>19</td>\n",
       "    </tr>\n",
       "    <tr>\n",
       "      <th>2</th>\n",
       "      <td>10</td>\n",
       "      <td>5196000.000</td>\n",
       "      <td>56.000</td>\n",
       "      <td>2015-08-20</td>\n",
       "      <td>2</td>\n",
       "      <td>2.550</td>\n",
       "      <td>5.000</td>\n",
       "      <td>34.300</td>\n",
       "      <td>4</td>\n",
       "      <td>True</td>\n",
       "      <td>...</td>\n",
       "      <td>90.000</td>\n",
       "      <td>2.000</td>\n",
       "      <td>574.000</td>\n",
       "      <td>558.000</td>\n",
       "      <td>92785.714</td>\n",
       "      <td>3</td>\n",
       "      <td>8</td>\n",
       "      <td>2015</td>\n",
       "      <td>другой</td>\n",
       "      <td>14</td>\n",
       "    </tr>\n",
       "    <tr>\n",
       "      <th>3</th>\n",
       "      <td>0</td>\n",
       "      <td>64900000.000</td>\n",
       "      <td>159.000</td>\n",
       "      <td>2015-07-24</td>\n",
       "      <td>3</td>\n",
       "      <td>2.600</td>\n",
       "      <td>14.000</td>\n",
       "      <td>95.000</td>\n",
       "      <td>9</td>\n",
       "      <td>True</td>\n",
       "      <td>...</td>\n",
       "      <td>84.000</td>\n",
       "      <td>3.000</td>\n",
       "      <td>234.000</td>\n",
       "      <td>424.000</td>\n",
       "      <td>408176.101</td>\n",
       "      <td>4</td>\n",
       "      <td>7</td>\n",
       "      <td>2015</td>\n",
       "      <td>другой</td>\n",
       "      <td>7</td>\n",
       "    </tr>\n",
       "    <tr>\n",
       "      <th>4</th>\n",
       "      <td>2</td>\n",
       "      <td>10000000.000</td>\n",
       "      <td>100.000</td>\n",
       "      <td>2018-06-19</td>\n",
       "      <td>2</td>\n",
       "      <td>3.030</td>\n",
       "      <td>14.000</td>\n",
       "      <td>32.000</td>\n",
       "      <td>13</td>\n",
       "      <td>True</td>\n",
       "      <td>...</td>\n",
       "      <td>112.000</td>\n",
       "      <td>1.000</td>\n",
       "      <td>48.000</td>\n",
       "      <td>121.000</td>\n",
       "      <td>100000.000</td>\n",
       "      <td>1</td>\n",
       "      <td>6</td>\n",
       "      <td>2018</td>\n",
       "      <td>другой</td>\n",
       "      <td>8</td>\n",
       "    </tr>\n",
       "  </tbody>\n",
       "</table>\n",
       "<p>5 rows × 28 columns</p>\n",
       "</div>"
      ],
      "text/plain": [
       "   total_images   last_price  total_area first_day_exposition  rooms  \\\n",
       "0            20 13000000.000     108.000           2019-03-07      3   \n",
       "1             7  3350000.000      40.400           2018-12-04      1   \n",
       "2            10  5196000.000      56.000           2015-08-20      2   \n",
       "3             0 64900000.000     159.000           2015-07-24      3   \n",
       "4             2 10000000.000     100.000           2018-06-19      2   \n",
       "\n",
       "   ceiling_height  floors_total  living_area  floor  is_apartment  ...  \\\n",
       "0           2.700        16.000       51.000      8          True  ...   \n",
       "1           2.750        11.000       18.600      1          True  ...   \n",
       "2           2.550         5.000       34.300      4          True  ...   \n",
       "3           2.600        14.000       95.000      9          True  ...   \n",
       "4           3.030        14.000       32.000     13          True  ...   \n",
       "\n",
       "   parks_nearest  ponds_around_3000  ponds_nearest  days_exposition  \\\n",
       "0        482.000              2.000        755.000           95.000   \n",
       "1            NaN              0.000        584.500           81.000   \n",
       "2         90.000              2.000        574.000          558.000   \n",
       "3         84.000              3.000        234.000          424.000   \n",
       "4        112.000              1.000         48.000          121.000   \n",
       "\n",
       "  square_meter_price  weekday_first_exposition  month_first_exposition  \\\n",
       "0         120370.370                         3                       3   \n",
       "1          82920.792                         1                      12   \n",
       "2          92785.714                         3                       8   \n",
       "3         408176.101                         4                       7   \n",
       "4         100000.000                         1                       6   \n",
       "\n",
       "   year_first_exposition  floor_type  city_centers_nearest_km  \n",
       "0                   2019      другой                       16  \n",
       "1                   2018      первый                       19  \n",
       "2                   2015      другой                       14  \n",
       "3                   2015      другой                        7  \n",
       "4                   2018      другой                        8  \n",
       "\n",
       "[5 rows x 28 columns]"
      ]
     },
     "execution_count": 78,
     "metadata": {},
     "output_type": "execute_result"
    }
   ],
   "source": [
    "data.head()"
   ]
  },
  {
   "cell_type": "markdown",
   "id": "c777b49e",
   "metadata": {},
   "source": [
    "### Исследовательский анализ данных "
   ]
  },
  {
   "cell_type": "code",
   "execution_count": 79,
   "id": "ebb8bb92",
   "metadata": {},
   "outputs": [
    {
     "data": {
      "image/png": "[encoded data removed]",
      "text/plain": [
       "<Figure size 432x288 with 1 Axes>"
      ]
     },
     "metadata": {
      "needs_background": "light"
     },
     "output_type": "display_data"
    }
   ],
   "source": [
    "\n",
    "sns.histplot(data['total_area'], bins=50)\n",
    "plt.tight_layout()"
   ]
  },
  {
   "cell_type": "code",
   "execution_count": 80,
   "id": "24724b34",
   "metadata": {},
   "outputs": [
    {
     "data": {
      "image/png": "[encoded data removed]",
      "text/plain": [
       "<Figure size 432x288 with 1 Axes>"
      ]
     },
     "metadata": {
      "needs_background": "light"
     },
     "output_type": "display_data"
    }
   ],
   "source": [
    "sns.histplot(data['living_area'], bins=50)\n",
    "plt.tight_layout()"
   ]
  },
  {
   "cell_type": "code",
   "execution_count": 81,
   "id": "6b33c16e",
   "metadata": {},
   "outputs": [
    {
     "data": {
      "image/png": "[encoded data removed]",
      "text/plain": [
       "<Figure size 432x288 with 1 Axes>"
      ]
     },
     "metadata": {
      "needs_background": "light"
     },
     "output_type": "display_data"
    }
   ],
   "source": [
    "sns.histplot(data['kitchen_area'], bins=50)\n",
    "plt.tight_layout()"
   ]
  },
  {
   "cell_type": "code",
   "execution_count": 82,
   "id": "88d10aa3",
   "metadata": {},
   "outputs": [
    {
     "data": {
      "image/png": "[encoded data removed]",
      "text/plain": [
       "<Figure size 432x288 with 1 Axes>"
      ]
     },
     "metadata": {
      "needs_background": "light"
     },
     "output_type": "display_data"
    }
   ],
   "source": [
    "sns.histplot(data['last_price'], bins=50)\n",
    "plt.tight_layout()"
   ]
  },
  {
   "cell_type": "code",
   "execution_count": 83,
   "id": "98f6f983",
   "metadata": {},
   "outputs": [
    {
     "data": {
      "image/png": "[encoded data removed]",
      "text/plain": [
       "<Figure size 432x288 with 1 Axes>"
      ]
     },
     "metadata": {
      "needs_background": "light"
     },
     "output_type": "display_data"
    }
   ],
   "source": [
    "sns.histplot(data['rooms'], bins=50)\n",
    "plt.tight_layout()"
   ]
  },
  {
   "cell_type": "code",
   "execution_count": 84,
   "id": "dae7bfdf",
   "metadata": {},
   "outputs": [
    {
     "data": {
      "image/png": "[encoded data removed]",
      "text/plain": [
       "<Figure size 432x288 with 1 Axes>"
      ]
     },
     "metadata": {
      "needs_background": "light"
     },
     "output_type": "display_data"
    }
   ],
   "source": [
    "sns.histplot(data['ceiling_height'], bins=50)\n",
    "plt.tight_layout()"
   ]
  },
  {
   "cell_type": "code",
   "execution_count": 85,
   "id": "8b313caf",
   "metadata": {},
   "outputs": [
    {
     "data": {
      "image/png": "[encoded data removed]",
      "text/plain": [
       "<Figure size 432x288 with 1 Axes>"
      ]
     },
     "metadata": {
      "needs_background": "light"
     },
     "output_type": "display_data"
    }
   ],
   "source": [
    "sns.histplot(data['floor'], bins=50)\n",
    "plt.tight_layout()"
   ]
  },
  {
   "cell_type": "code",
   "execution_count": 86,
   "id": "8dbe9267",
   "metadata": {},
   "outputs": [
    {
     "data": {
      "image/png": "[encoded data removed]",
      "text/plain": [
       "<Figure size 432x288 with 1 Axes>"
      ]
     },
     "metadata": {
      "needs_background": "light"
     },
     "output_type": "display_data"
    }
   ],
   "source": [
    "sns.histplot(data['floor_type'], bins=50)\n",
    "plt.tight_layout()"
   ]
  },
  {
   "cell_type": "code",
   "execution_count": 87,
   "id": "7b8c685a",
   "metadata": {},
   "outputs": [
    {
     "data": {
      "image/png": "[encoded data removed]",
      "text/plain": [
       "<Figure size 432x288 with 1 Axes>"
      ]
     },
     "metadata": {
      "needs_background": "light"
     },
     "output_type": "display_data"
    }
   ],
   "source": [
    "sns.histplot(data['floors_total'], bins=50)\n",
    "plt.tight_layout()"
   ]
  },
  {
   "cell_type": "code",
   "execution_count": 88,
   "id": "73db7ae6",
   "metadata": {
    "scrolled": true
   },
   "outputs": [
    {
     "data": {
      "image/png": "[encoded data removed]",
      "text/plain": [
       "<Figure size 432x288 with 1 Axes>"
      ]
     },
     "metadata": {
      "needs_background": "light"
     },
     "output_type": "display_data"
    }
   ],
   "source": [
    "sns.histplot(data['city_centers_nearest'], bins=50)\n",
    "plt.tight_layout()"
   ]
  },
  {
   "cell_type": "code",
   "execution_count": 89,
   "id": "b7169caa",
   "metadata": {},
   "outputs": [
    {
     "data": {
      "image/png": "[encoded data removed]",
      "text/plain": [
       "<Figure size 432x288 with 1 Axes>"
      ]
     },
     "metadata": {
      "needs_background": "light"
     },
     "output_type": "display_data"
    }
   ],
   "source": [
    "sns.histplot(data['city_centers_nearest'], bins=50)\n",
    "plt.tight_layout()"
   ]
  },
  {
   "cell_type": "code",
   "execution_count": 90,
   "id": "938d5507",
   "metadata": {},
   "outputs": [
    {
     "data": {
      "image/png": "[encoded data removed]",
      "text/plain": [
       "<Figure size 432x288 with 1 Axes>"
      ]
     },
     "metadata": {
      "needs_background": "light"
     },
     "output_type": "display_data"
    }
   ],
   "source": [
    "sns.histplot(data['airports_nearest'], bins=50)\n",
    "plt.tight_layout()"
   ]
  },
  {
   "cell_type": "code",
   "execution_count": 91,
   "id": "8002dbb3",
   "metadata": {},
   "outputs": [
    {
     "data": {
      "image/png": "[encoded data removed]",
      "text/plain": [
       "<Figure size 432x288 with 1 Axes>"
      ]
     },
     "metadata": {
      "needs_background": "light"
     },
     "output_type": "display_data"
    }
   ],
   "source": [
    "sns.histplot(data['parks_nearest'], bins=50)\n",
    "plt.tight_layout()"
   ]
  },
  {
   "cell_type": "code",
   "execution_count": 92,
   "id": "4ef74929",
   "metadata": {},
   "outputs": [
    {
     "data": {
      "image/png": "[encoded data removed]",
      "text/plain": [
       "<Figure size 432x288 with 1 Axes>"
      ]
     },
     "metadata": {
      "needs_background": "light"
     },
     "output_type": "display_data"
    }
   ],
   "source": [
    "sns.histplot(data['weekday_first_exposition'], bins=50)\n",
    "plt.tight_layout()"
   ]
  },
  {
   "cell_type": "code",
   "execution_count": 93,
   "id": "104d1b94",
   "metadata": {},
   "outputs": [
    {
     "data": {
      "image/png": "[encoded data removed]",
      "text/plain": [
       "<Figure size 432x288 with 1 Axes>"
      ]
     },
     "metadata": {
      "needs_background": "light"
     },
     "output_type": "display_data"
    }
   ],
   "source": [
    "sns.histplot(data['month_first_exposition'], bins=50)\n",
    "plt.tight_layout()"
   ]
  },
  {
   "cell_type": "markdown",
   "id": "c0795bc2",
   "metadata": {},
   "source": [
    "**Тенденции**\n",
    "- Из полученых данных можно сделать вывод,что чаще всего продают квартиры среднего размера, как по площади, так и по количеству комнат. Логично предположить, что чаще всего квартиры продают (возможно, с целью обмена) люди среднего достатка. Большинство продающихся увартир не находятся на первых и последних этажах,возможгл, потому-что такие квартиры проще продать. \n",
    "- Большинство объявлений подается в будние дни. Всплеск подачи объявлений в начале года возможно связан с общим желанием начать год с чего-то нового.\n",
    "- Боььшинство квартир расположены относительно близко к центру и одинаково близко от аэропортоа и парков."
   ]
  },
  {
   "cell_type": "markdown",
   "id": "c302bdd4",
   "metadata": {},
   "source": [
    "#### Как быстро продавались квартиры"
   ]
  },
  {
   "cell_type": "code",
   "execution_count": 94,
   "id": "7f949cb4",
   "metadata": {},
   "outputs": [
    {
     "data": {
      "image/png": "[encoded data removed]",
      "text/plain": [
       "<Figure size 432x288 with 1 Axes>"
      ]
     },
     "metadata": {
      "needs_background": "light"
     },
     "output_type": "display_data"
    }
   ],
   "source": [
    "sns.histplot(data['days_exposition'], bins=50)\n",
    "plt.tight_layout()"
   ]
  },
  {
   "cell_type": "code",
   "execution_count": 95,
   "id": "b15bb269",
   "metadata": {},
   "outputs": [
    {
     "data": {
      "text/plain": [
       "95.0"
      ]
     },
     "execution_count": 95,
     "metadata": {},
     "output_type": "execute_result"
    }
   ],
   "source": [
    "data['days_exposition'].median() #Медиана"
   ]
  },
  {
   "cell_type": "code",
   "execution_count": 96,
   "id": "d7e4516c",
   "metadata": {},
   "outputs": [
    {
     "data": {
      "text/plain": [
       "170.38056240959756"
      ]
     },
     "execution_count": 96,
     "metadata": {},
     "output_type": "execute_result"
    }
   ],
   "source": [
    "data['days_exposition'].mean() # Среднее"
   ]
  },
  {
   "cell_type": "code",
   "execution_count": 97,
   "id": "fc1a8fc6",
   "metadata": {},
   "outputs": [
    {
     "data": {
      "text/plain": [
       "count   23506.000\n",
       "mean      170.381\n",
       "std       207.233\n",
       "min         1.000\n",
       "25%        45.000\n",
       "50%        95.000\n",
       "75%       201.000\n",
       "max      1580.000\n",
       "Name: days_exposition, dtype: float64"
      ]
     },
     "execution_count": 97,
     "metadata": {},
     "output_type": "execute_result"
    }
   ],
   "source": [
    "data['days_exposition'].describe()"
   ]
  },
  {
   "cell_type": "markdown",
   "id": "e776248b",
   "metadata": {},
   "source": [
    "**Выводы**"
   ]
  },
  {
   "cell_type": "markdown",
   "id": "222b2542",
   "metadata": {},
   "source": [
    "По медиане квартиры продаются в первые 100. Нахождение объявления в базе больше 200 дней уже можно считать достаточно долгим. Однако иногдда удается продать квартиру в промежуток чуть больше месяца. "
   ]
  },
  {
   "cell_type": "markdown",
   "id": "e1c47611",
   "metadata": {},
   "source": [
    "#### Зависимость цены от других факторов"
   ]
  },
  {
   "cell_type": "code",
   "execution_count": 98,
   "id": "e046f45d",
   "metadata": {},
   "outputs": [],
   "source": [
    "price_rel = data.pivot_table(index='locality_name', values=['last_price', 'total_area', 'living_area', 'kitchen_area', 'rooms', 'floor_type', 'weekday_first_exposition', 'month_first_exposition', 'year_first_exposition'])\n",
    "\n"
   ]
  },
  {
   "cell_type": "code",
   "execution_count": 99,
   "id": "1beccf26",
   "metadata": {},
   "outputs": [
    {
     "data": {
      "text/html": [
       "<div>\n",
       "<style scoped>\n",
       "    .dataframe tbody tr th:only-of-type {\n",
       "        vertical-align: middle;\n",
       "    }\n",
       "\n",
       "    .dataframe tbody tr th {\n",
       "        vertical-align: top;\n",
       "    }\n",
       "\n",
       "    .dataframe thead th {\n",
       "        text-align: right;\n",
       "    }\n",
       "</style>\n",
       "<table border=\"1\" class=\"dataframe\">\n",
       "  <thead>\n",
       "    <tr style=\"text-align: right;\">\n",
       "      <th></th>\n",
       "      <th>kitchen_area</th>\n",
       "      <th>last_price</th>\n",
       "      <th>living_area</th>\n",
       "      <th>month_first_exposition</th>\n",
       "      <th>rooms</th>\n",
       "      <th>total_area</th>\n",
       "      <th>weekday_first_exposition</th>\n",
       "      <th>year_first_exposition</th>\n",
       "    </tr>\n",
       "  </thead>\n",
       "  <tbody>\n",
       "    <tr>\n",
       "      <th>kitchen_area</th>\n",
       "      <td>1.000</td>\n",
       "      <td>0.561</td>\n",
       "      <td>0.385</td>\n",
       "      <td>-0.061</td>\n",
       "      <td>0.191</td>\n",
       "      <td>0.629</td>\n",
       "      <td>0.038</td>\n",
       "      <td>0.002</td>\n",
       "    </tr>\n",
       "    <tr>\n",
       "      <th>last_price</th>\n",
       "      <td>0.561</td>\n",
       "      <td>1.000</td>\n",
       "      <td>0.516</td>\n",
       "      <td>-0.038</td>\n",
       "      <td>0.242</td>\n",
       "      <td>0.616</td>\n",
       "      <td>-0.057</td>\n",
       "      <td>-0.120</td>\n",
       "    </tr>\n",
       "    <tr>\n",
       "      <th>living_area</th>\n",
       "      <td>0.385</td>\n",
       "      <td>0.516</td>\n",
       "      <td>1.000</td>\n",
       "      <td>-0.023</td>\n",
       "      <td>0.789</td>\n",
       "      <td>0.941</td>\n",
       "      <td>0.025</td>\n",
       "      <td>-0.060</td>\n",
       "    </tr>\n",
       "    <tr>\n",
       "      <th>month_first_exposition</th>\n",
       "      <td>-0.061</td>\n",
       "      <td>-0.038</td>\n",
       "      <td>-0.023</td>\n",
       "      <td>1.000</td>\n",
       "      <td>-0.009</td>\n",
       "      <td>-0.044</td>\n",
       "      <td>0.013</td>\n",
       "      <td>-0.365</td>\n",
       "    </tr>\n",
       "    <tr>\n",
       "      <th>rooms</th>\n",
       "      <td>0.191</td>\n",
       "      <td>0.242</td>\n",
       "      <td>0.789</td>\n",
       "      <td>-0.009</td>\n",
       "      <td>1.000</td>\n",
       "      <td>0.727</td>\n",
       "      <td>0.078</td>\n",
       "      <td>-0.042</td>\n",
       "    </tr>\n",
       "    <tr>\n",
       "      <th>total_area</th>\n",
       "      <td>0.629</td>\n",
       "      <td>0.616</td>\n",
       "      <td>0.941</td>\n",
       "      <td>-0.044</td>\n",
       "      <td>0.727</td>\n",
       "      <td>1.000</td>\n",
       "      <td>0.017</td>\n",
       "      <td>-0.034</td>\n",
       "    </tr>\n",
       "    <tr>\n",
       "      <th>weekday_first_exposition</th>\n",
       "      <td>0.038</td>\n",
       "      <td>-0.057</td>\n",
       "      <td>0.025</td>\n",
       "      <td>0.013</td>\n",
       "      <td>0.078</td>\n",
       "      <td>0.017</td>\n",
       "      <td>1.000</td>\n",
       "      <td>-0.044</td>\n",
       "    </tr>\n",
       "    <tr>\n",
       "      <th>year_first_exposition</th>\n",
       "      <td>0.002</td>\n",
       "      <td>-0.120</td>\n",
       "      <td>-0.060</td>\n",
       "      <td>-0.365</td>\n",
       "      <td>-0.042</td>\n",
       "      <td>-0.034</td>\n",
       "      <td>-0.044</td>\n",
       "      <td>1.000</td>\n",
       "    </tr>\n",
       "  </tbody>\n",
       "</table>\n",
       "</div>"
      ],
      "text/plain": [
       "                          kitchen_area  last_price  living_area  \\\n",
       "kitchen_area                     1.000       0.561        0.385   \n",
       "last_price                       0.561       1.000        0.516   \n",
       "living_area                      0.385       0.516        1.000   \n",
       "month_first_exposition          -0.061      -0.038       -0.023   \n",
       "rooms                            0.191       0.242        0.789   \n",
       "total_area                       0.629       0.616        0.941   \n",
       "weekday_first_exposition         0.038      -0.057        0.025   \n",
       "year_first_exposition            0.002      -0.120       -0.060   \n",
       "\n",
       "                          month_first_exposition  rooms  total_area  \\\n",
       "kitchen_area                              -0.061  0.191       0.629   \n",
       "last_price                                -0.038  0.242       0.616   \n",
       "living_area                               -0.023  0.789       0.941   \n",
       "month_first_exposition                     1.000 -0.009      -0.044   \n",
       "rooms                                     -0.009  1.000       0.727   \n",
       "total_area                                -0.044  0.727       1.000   \n",
       "weekday_first_exposition                   0.013  0.078       0.017   \n",
       "year_first_exposition                     -0.365 -0.042      -0.034   \n",
       "\n",
       "                          weekday_first_exposition  year_first_exposition  \n",
       "kitchen_area                                 0.038                  0.002  \n",
       "last_price                                  -0.057                 -0.120  \n",
       "living_area                                  0.025                 -0.060  \n",
       "month_first_exposition                       0.013                 -0.365  \n",
       "rooms                                        0.078                 -0.042  \n",
       "total_area                                   0.017                 -0.034  \n",
       "weekday_first_exposition                     1.000                 -0.044  \n",
       "year_first_exposition                       -0.044                  1.000  "
      ]
     },
     "execution_count": 99,
     "metadata": {},
     "output_type": "execute_result"
    }
   ],
   "source": [
    "price_rel.corr()"
   ]
  },
  {
   "cell_type": "code",
   "execution_count": 100,
   "id": "7021fa38",
   "metadata": {
    "scrolled": true
   },
   "outputs": [
    {
     "data": {
      "image/png": "[encoded data removed]",
      "text/plain": [
       "<Figure size 1440x1440 with 64 Axes>"
      ]
     },
     "metadata": {
      "needs_background": "light"
     },
     "output_type": "display_data"
    }
   ],
   "source": [
    "pd.plotting.scatter_matrix(price_rel, figsize=(20, 20))\n",
    "plt.tight_layout()"
   ]
  },
  {
   "cell_type": "code",
   "execution_count": 101,
   "id": "28e728f3",
   "metadata": {},
   "outputs": [
    {
     "data": {
      "image/png": "[encoded data removed]",
      "text/plain": [
       "<Figure size 432x288 with 1 Axes>"
      ]
     },
     "metadata": {
      "needs_background": "light"
     },
     "output_type": "display_data"
    }
   ],
   "source": [
    "sns.barplot(x=data['floor_type'], y=data['last_price'])\n",
    "plt.tight_layout()"
   ]
  },
  {
   "cell_type": "markdown",
   "id": "ca530a0d",
   "metadata": {},
   "source": [
    "**Выводы**\n",
    "Общая площадь квартиры юольше всего влияет на ее цену (0.629 по коэфиценту Пирсона) За ней следует площадь кухни (0.561) и площадь жилых помещений(0.516) Само количество комнат, что интересно влияет меньше (0.242). Дешевле всего квартиры на первом этаже. Цены на последних этажах обычно выше. Учтенные времяные параметры не указывают высокого влияния на цену. С наибольшим влиянием от года. (-0.120)  Возможно это связано с изменениями в общей экономической ситуацией."
   ]
  },
  {
   "cell_type": "markdown",
   "id": "539d2448",
   "metadata": {},
   "source": [
    "#### Средняя цена одного квадратного метра в 10 населённых пунктах с наибольшим числом объявлений"
   ]
  },
  {
   "cell_type": "code",
   "execution_count": 102,
   "id": "3edb615e",
   "metadata": {},
   "outputs": [],
   "source": [
    "top_ad = data.pivot_table(index='locality_name', values='square_meter_price', aggfunc=['mean', 'count'])"
   ]
  },
  {
   "cell_type": "code",
   "execution_count": 103,
   "id": "ee21e839",
   "metadata": {},
   "outputs": [],
   "source": [
    "top_ad.columns = ['mean', 'count']"
   ]
  },
  {
   "cell_type": "code",
   "execution_count": 104,
   "id": "0181b89a",
   "metadata": {},
   "outputs": [
    {
     "data": {
      "text/html": [
       "<div>\n",
       "<style scoped>\n",
       "    .dataframe tbody tr th:only-of-type {\n",
       "        vertical-align: middle;\n",
       "    }\n",
       "\n",
       "    .dataframe tbody tr th {\n",
       "        vertical-align: top;\n",
       "    }\n",
       "\n",
       "    .dataframe thead th {\n",
       "        text-align: right;\n",
       "    }\n",
       "</style>\n",
       "<table border=\"1\" class=\"dataframe\">\n",
       "  <thead>\n",
       "    <tr style=\"text-align: right;\">\n",
       "      <th></th>\n",
       "      <th>mean</th>\n",
       "      <th>count</th>\n",
       "    </tr>\n",
       "    <tr>\n",
       "      <th>locality_name</th>\n",
       "      <th></th>\n",
       "      <th></th>\n",
       "    </tr>\n",
       "  </thead>\n",
       "  <tbody>\n",
       "    <tr>\n",
       "      <th>Санкт-Петербург</th>\n",
       "      <td>114733.325</td>\n",
       "      <td>15634</td>\n",
       "    </tr>\n",
       "    <tr>\n",
       "      <th>Мурино</th>\n",
       "      <td>86018.111</td>\n",
       "      <td>584</td>\n",
       "    </tr>\n",
       "    <tr>\n",
       "      <th>Кудрово</th>\n",
       "      <td>95260.846</td>\n",
       "      <td>470</td>\n",
       "    </tr>\n",
       "    <tr>\n",
       "      <th>Шушары</th>\n",
       "      <td>78551.345</td>\n",
       "      <td>439</td>\n",
       "    </tr>\n",
       "    <tr>\n",
       "      <th>Всеволожск</th>\n",
       "      <td>68654.474</td>\n",
       "      <td>398</td>\n",
       "    </tr>\n",
       "    <tr>\n",
       "      <th>Пушкин</th>\n",
       "      <td>103125.819</td>\n",
       "      <td>369</td>\n",
       "    </tr>\n",
       "    <tr>\n",
       "      <th>Колпино</th>\n",
       "      <td>75424.579</td>\n",
       "      <td>338</td>\n",
       "    </tr>\n",
       "    <tr>\n",
       "      <th>Парголово</th>\n",
       "      <td>90175.913</td>\n",
       "      <td>327</td>\n",
       "    </tr>\n",
       "    <tr>\n",
       "      <th>Гатчина</th>\n",
       "      <td>68757.679</td>\n",
       "      <td>306</td>\n",
       "    </tr>\n",
       "    <tr>\n",
       "      <th>Выборг</th>\n",
       "      <td>58141.909</td>\n",
       "      <td>237</td>\n",
       "    </tr>\n",
       "  </tbody>\n",
       "</table>\n",
       "</div>"
      ],
      "text/plain": [
       "                      mean  count\n",
       "locality_name                    \n",
       "Санкт-Петербург 114733.325  15634\n",
       "Мурино           86018.111    584\n",
       "Кудрово          95260.846    470\n",
       "Шушары           78551.345    439\n",
       "Всеволожск       68654.474    398\n",
       "Пушкин          103125.819    369\n",
       "Колпино          75424.579    338\n",
       "Парголово        90175.913    327\n",
       "Гатчина          68757.679    306\n",
       "Выборг           58141.909    237"
      ]
     },
     "execution_count": 104,
     "metadata": {},
     "output_type": "execute_result"
    }
   ],
   "source": [
    "top_ad.sort_values(by=['count', 'mean'], ascending=False).head(10)"
   ]
  },
  {
   "cell_type": "markdown",
   "id": "8caef276",
   "metadata": {},
   "source": [
    "**Вывод**\n",
    "\n",
    "Самый дорогой квадратный метр в Санкт-Петербурге. Самый дещевый в Выборге."
   ]
  },
  {
   "cell_type": "markdown",
   "id": "ae424af0",
   "metadata": {},
   "source": [
    "#### Стоимость объектов в Санкт-Петербурге"
   ]
  },
  {
   "cell_type": "code",
   "execution_count": 105,
   "id": "8f1ebe8c",
   "metadata": {},
   "outputs": [],
   "source": [
    "data_spb = data.query(\"locality_name == 'Санкт-Петербург'\")"
   ]
  },
  {
   "cell_type": "code",
   "execution_count": 106,
   "id": "c496c008",
   "metadata": {},
   "outputs": [],
   "source": [
    "spb_km_price = data_spb.pivot_table(index='city_centers_nearest_km', values='last_price', aggfunc='mean').sort_values(by='last_price', ascending=False)"
   ]
  },
  {
   "cell_type": "code",
   "execution_count": 107,
   "id": "955c35db",
   "metadata": {},
   "outputs": [
    {
     "data": {
      "text/html": [
       "<div>\n",
       "<style scoped>\n",
       "    .dataframe tbody tr th:only-of-type {\n",
       "        vertical-align: middle;\n",
       "    }\n",
       "\n",
       "    .dataframe tbody tr th {\n",
       "        vertical-align: top;\n",
       "    }\n",
       "\n",
       "    .dataframe thead th {\n",
       "        text-align: right;\n",
       "    }\n",
       "</style>\n",
       "<table border=\"1\" class=\"dataframe\">\n",
       "  <thead>\n",
       "    <tr style=\"text-align: right;\">\n",
       "      <th></th>\n",
       "      <th>last_price</th>\n",
       "    </tr>\n",
       "    <tr>\n",
       "      <th>city_centers_nearest_km</th>\n",
       "      <th></th>\n",
       "    </tr>\n",
       "  </thead>\n",
       "  <tbody>\n",
       "    <tr>\n",
       "      <th>0</th>\n",
       "      <td>31449115.852</td>\n",
       "    </tr>\n",
       "    <tr>\n",
       "      <th>1</th>\n",
       "      <td>21206720.828</td>\n",
       "    </tr>\n",
       "    <tr>\n",
       "      <th>2</th>\n",
       "      <td>17788319.613</td>\n",
       "    </tr>\n",
       "    <tr>\n",
       "      <th>6</th>\n",
       "      <td>15338418.387</td>\n",
       "    </tr>\n",
       "    <tr>\n",
       "      <th>7</th>\n",
       "      <td>14775152.586</td>\n",
       "    </tr>\n",
       "    <tr>\n",
       "      <th>5</th>\n",
       "      <td>14455995.621</td>\n",
       "    </tr>\n",
       "    <tr>\n",
       "      <th>4</th>\n",
       "      <td>12216246.816</td>\n",
       "    </tr>\n",
       "    <tr>\n",
       "      <th>3</th>\n",
       "      <td>11146436.170</td>\n",
       "    </tr>\n",
       "    <tr>\n",
       "      <th>8</th>\n",
       "      <td>9961374.213</td>\n",
       "    </tr>\n",
       "    <tr>\n",
       "      <th>27</th>\n",
       "      <td>8300000.000</td>\n",
       "    </tr>\n",
       "    <tr>\n",
       "      <th>9</th>\n",
       "      <td>6956582.973</td>\n",
       "    </tr>\n",
       "    <tr>\n",
       "      <th>10</th>\n",
       "      <td>6502666.287</td>\n",
       "    </tr>\n",
       "    <tr>\n",
       "      <th>11</th>\n",
       "      <td>6229671.683</td>\n",
       "    </tr>\n",
       "    <tr>\n",
       "      <th>12</th>\n",
       "      <td>6198467.860</td>\n",
       "    </tr>\n",
       "    <tr>\n",
       "      <th>13</th>\n",
       "      <td>6078957.496</td>\n",
       "    </tr>\n",
       "    <tr>\n",
       "      <th>20</th>\n",
       "      <td>5903867.596</td>\n",
       "    </tr>\n",
       "    <tr>\n",
       "      <th>15</th>\n",
       "      <td>5875794.989</td>\n",
       "    </tr>\n",
       "    <tr>\n",
       "      <th>14</th>\n",
       "      <td>5626507.455</td>\n",
       "    </tr>\n",
       "    <tr>\n",
       "      <th>21</th>\n",
       "      <td>5493469.368</td>\n",
       "    </tr>\n",
       "    <tr>\n",
       "      <th>22</th>\n",
       "      <td>5415524.282</td>\n",
       "    </tr>\n",
       "    <tr>\n",
       "      <th>16</th>\n",
       "      <td>5374296.011</td>\n",
       "    </tr>\n",
       "    <tr>\n",
       "      <th>17</th>\n",
       "      <td>5299495.923</td>\n",
       "    </tr>\n",
       "    <tr>\n",
       "      <th>18</th>\n",
       "      <td>5091331.322</td>\n",
       "    </tr>\n",
       "    <tr>\n",
       "      <th>19</th>\n",
       "      <td>5051410.032</td>\n",
       "    </tr>\n",
       "    <tr>\n",
       "      <th>28</th>\n",
       "      <td>5026428.571</td>\n",
       "    </tr>\n",
       "    <tr>\n",
       "      <th>23</th>\n",
       "      <td>4985376.471</td>\n",
       "    </tr>\n",
       "    <tr>\n",
       "      <th>29</th>\n",
       "      <td>4236666.667</td>\n",
       "    </tr>\n",
       "    <tr>\n",
       "      <th>25</th>\n",
       "      <td>4052839.923</td>\n",
       "    </tr>\n",
       "    <tr>\n",
       "      <th>26</th>\n",
       "      <td>4014287.047</td>\n",
       "    </tr>\n",
       "    <tr>\n",
       "      <th>24</th>\n",
       "      <td>3854429.615</td>\n",
       "    </tr>\n",
       "  </tbody>\n",
       "</table>\n",
       "</div>"
      ],
      "text/plain": [
       "                          last_price\n",
       "city_centers_nearest_km             \n",
       "0                       31449115.852\n",
       "1                       21206720.828\n",
       "2                       17788319.613\n",
       "6                       15338418.387\n",
       "7                       14775152.586\n",
       "5                       14455995.621\n",
       "4                       12216246.816\n",
       "3                       11146436.170\n",
       "8                        9961374.213\n",
       "27                       8300000.000\n",
       "9                        6956582.973\n",
       "10                       6502666.287\n",
       "11                       6229671.683\n",
       "12                       6198467.860\n",
       "13                       6078957.496\n",
       "20                       5903867.596\n",
       "15                       5875794.989\n",
       "14                       5626507.455\n",
       "21                       5493469.368\n",
       "22                       5415524.282\n",
       "16                       5374296.011\n",
       "17                       5299495.923\n",
       "18                       5091331.322\n",
       "19                       5051410.032\n",
       "28                       5026428.571\n",
       "23                       4985376.471\n",
       "29                       4236666.667\n",
       "25                       4052839.923\n",
       "26                       4014287.047\n",
       "24                       3854429.615"
      ]
     },
     "execution_count": 107,
     "metadata": {},
     "output_type": "execute_result"
    }
   ],
   "source": [
    "spb_km_price"
   ]
  },
  {
   "cell_type": "markdown",
   "id": "ee882c6f",
   "metadata": {},
   "source": [
    "**Вывод**\n",
    "В основном чем ближе к центру тем дороже квартиры. И эта закономерность соблюдается почти прямо,но в топ-10 входит 27 киллометр."
   ]
  },
  {
   "cell_type": "markdown",
   "id": "dcfbfe20",
   "metadata": {},
   "source": [
    "### Общий вывод"
   ]
  },
  {
   "cell_type": "markdown",
   "id": "b3f25755",
   "metadata": {},
   "source": [
    "В ходе исследования была произведена очистка датасета. Поля были приобразованы в более подходящие для работы форматы. Добавлены новые необходимые для исследования колонки и произведена визуализация параметров важных для иследования. \n",
    "\n",
    "**Общие тенденции**\n",
    "\n",
    "- Цены на квартиры зависят от вполне очевидных параметров таких, как размер жилой площади, этаж квартиры и приблеженность к центру. Как к центру страны так и центру города.\n",
    "- В больших городах  подается больше объявлений.\n",
    "- Квартиры приблеженные к центру СПБ дороже.\n",
    "\n",
    "**Общие рекомендации**\n",
    "\n",
    "Совершенно не удивительно, что желая сэкономить на покупке недвижимости имеет смысл приобретать жилье поменьше и подальше от центров крупных городов."
   ]
  }
 ],
 "metadata": {
  "kernelspec": {
   "display_name": "Python 3 (ipykernel)",
   "language": "python",
   "name": "python3"
  },
  "language_info": {
   "codemirror_mode": {
    "name": "ipython",
    "version": 3
   },
   "file_extension": ".py",
   "mimetype": "text/x-python",
   "name": "python",
   "nbconvert_exporter": "python",
   "pygments_lexer": "ipython3",
   "version": "3.10.9"
  },
  "toc": {
   "base_numbering": 1,
   "nav_menu": {},
   "number_sections": true,
   "sideBar": true,
   "skip_h1_title": true,
   "title_cell": "Table of Contents",
   "title_sidebar": "Contents",
   "toc_cell": false,
   "toc_position": {},
   "toc_section_display": true,
   "toc_window_display": false
  }
 },
 "nbformat": 4,
 "nbformat_minor": 5
}
